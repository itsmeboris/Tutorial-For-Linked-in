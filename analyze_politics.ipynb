{
 "cells": [
  {
   "cell_type": "code",
   "execution_count": 30,
   "metadata": {},
   "outputs": [],
   "source": [
    "import pandas as pd\n",
    "import json\n",
    "import plotly.express as px\n",
    "import plotly.graph_objects as go\n",
    "import tweepy\n",
    "import sys\n",
    "from itertools import cycle"
   ]
  },
  {
   "cell_type": "code",
   "execution_count": 2,
   "metadata": {
    "pycharm": {
     "name": "#%%\n"
    }
   },
   "outputs": [],
   "source": [
    "def load_credentials():\n",
    "    \"\"\"\n",
    "    Load the credentials, save them to json file and return a dict containing them\n",
    "    :return: dictionary containing your api key\n",
    "    \"\"\"\n",
    "    api_token = {\"API Key\": \"your API Key\",\n",
    "                  \"API Secret Key\": \"your API Secret Key\",\n",
    "                  \"Bearer token\": \"your Bearer token\"}\n",
    "    with open('key.json', 'w') as file:\n",
    "        json.dump(api_token, file)\n",
    "    return api_token"
   ]
  },
  {
   "cell_type": "code",
   "execution_count": 3,
   "metadata": {
    "pycharm": {
     "name": "#%%\n"
    }
   },
   "outputs": [],
   "source": [
    "def oath1adance(api_key):\n",
    "    \"\"\"\n",
    "    Perform the authentication for a given key\n",
    "    :param api_key: the api key supplied to you by twitter\n",
    "    :return: the verified api key\n",
    "    \"\"\"\n",
    "    # OAuth process, using the keys and tokens\n",
    "    auth = tweepy.OAuthHandler(api_key['API Key'], api_key['API Secret Key'])\n",
    "    try:\n",
    "        # This will give a redirect link to access the application and will require a verification code\n",
    "        redirect_url = auth.get_authorization_url()\n",
    "        print(redirect_url)\n",
    "    except tweepy.TweepError:\n",
    "        print(\"Error! Failed to get request token.\")\n",
    "    verifier = input(\"Verifier: \")\n",
    "    # Get access token\n",
    "    auth.get_access_token(verifier)\n",
    "    key = auth.access_token\n",
    "    secret = auth.access_token_secret\n",
    "    # Save the token to the key files to avoid doing this dance everytime\n",
    "    api_key['access_token'] = key\n",
    "    api_key['access_token_secret'] = secret\n",
    "    return api_key"
   ]
  },
  {
   "cell_type": "code",
   "execution_count": 4,
   "metadata": {
    "pycharm": {
     "name": "#%%\n"
    }
   },
   "outputs": [],
   "source": [
    "def get_auth(key):\n",
    "    \"\"\"\n",
    "    check for authentication to twitter api\n",
    "    :param key: key dict after performing the oath1adance\n",
    "    :return: tweepy api object\n",
    "    \"\"\"\n",
    "    # OAuth process, using the keys and tokens\n",
    "    auth = tweepy.OAuthHandler(key['API Key'], key['API Secret Key'])\n",
    "    auth.set_access_token(key['access_token'], key['access_token_secret'])\n",
    "    # Creation of the actual interface, using authentication\n",
    "    api = tweepy.API(auth, wait_on_rate_limit=True, wait_on_rate_limit_notify=True)\n",
    "    try:\n",
    "        api.verify_credentials()\n",
    "    except Exception:\n",
    "        print(key, \": error during authentication\")\n",
    "        sys.exit('Exit')\n",
    "    return api"
   ]
  },
  {
   "cell_type": "code",
   "execution_count": 5,
   "metadata": {
    "pycharm": {
     "name": "#%%\n"
    }
   },
   "outputs": [],
   "source": [
    "def get_tweets(candidate_list, language='he', max_tweets_per_candidate=10000):\n",
    "    \"\"\"\n",
    "    Given a set of candidates, download tweets containing their names and last name\n",
    "    :param candidate_list: a list of candidates to download\n",
    "    :param language: the chosen language of the tweets\n",
    "    :param max_tweets_per_candidate: maximum number of tweets to download per candidate\n",
    "    :return: (tweets, lens)\n",
    "    tweets: a data frame containing all tweets\n",
    "    lens: a dictionary containing the number of tweets received per candidate\n",
    "    \"\"\"\n",
    "    # an empty list to store the tweets\n",
    "    tweets = []\n",
    "    # a new dictionary to store number of tweets per candidate\n",
    "    lens = {}\n",
    "    # maximum number of tweets to download for all candidates\n",
    "    total_tweets = max_tweets_per_candidate * len(candidate_list)\n",
    "    for candidate in candidate_list:\n",
    "        # get tweets for each candidate full name and for last name\n",
    "        search_last = False\n",
    "        # get last name\n",
    "        last_name = candidate.split(' ')[1]\n",
    "        # keep track of the last tweet downloaded\n",
    "        last_id = -1\n",
    "        # initialize the dict with 0 tweets downloaded\n",
    "        lens[candidate] = 0\n",
    "        while len(tweets) < total_tweets:\n",
    "            # the max amount to try and download each time, smaller batches are better\n",
    "            count = min(total_tweets - len(tweets), 10000)\n",
    "            try:\n",
    "                if not search_last:\n",
    "                    # get tweets containing the full name\n",
    "                    new_tweets = api.search(q=f'{candidate}', count=count, lang=language, max_id=str(last_id - 1))\n",
    "                    # if none were found try the last name\n",
    "                    if not new_tweets:\n",
    "                        search_last = True\n",
    "                        continue\n",
    "                else:\n",
    "                    # get tweets containing the last name\n",
    "                    new_tweets = api.search(q=f'{last_name}', count=count, lang=language, max_id=str(last_id - 1))\n",
    "                    # if none found then finished with the user\n",
    "                    if not new_tweets:\n",
    "                        break\n",
    "                # add the downloaded tweets to the tweets list\n",
    "                tweets.extend(new_tweets)\n",
    "                # save the last id to resume from it\n",
    "                last_id = new_tweets[-1].id\n",
    "                # save the new length\n",
    "                lens[candidate] += len(new_tweets)\n",
    "            except tweepy.TweepError as e:\n",
    "                print(e)\n",
    "                break\n",
    "        # print how many tweets downloaded per candidate\n",
    "        print(f'Got {lens[candidate]} Tweets for {candidate}!!')\n",
    "    # extract the raw information from the tweets\n",
    "    tweets = [tweet._json for tweet in tweets]\n",
    "    # return a data frame containing all tweets\n",
    "    return pd.DataFrame(data=tweets), lens"
   ]
  },
  {
   "cell_type": "code",
   "execution_count": 5,
   "metadata": {
    "pycharm": {
     "name": "#%%\n"
    }
   },
   "outputs": [],
   "source": [
    "key = oath1adance(load_credentials())\n",
    "api = get_auth(key)"
   ]
  },
  {
   "cell_type": "code",
   "execution_count": 2,
   "outputs": [],
   "source": [
    "candidate_list = ['יאיר לפיד', 'בני גנץ', 'בצלאל סמוטריץ', 'נפתלי בנט', 'מרב מיכאלי', 'גדעון סער',\n",
    "              'בניימין נתניהו', 'ירון זליכה', 'ניצן הורוביץ', 'אריה דרעי', 'משה גפני',\n",
    "              'אביגדור ליברמן', 'איימן עודה', 'מנסור עבאס']\n",
    "language = 'he'\n",
    "max_tweets_per_candidate = 30000"
   ],
   "metadata": {
    "collapsed": false,
    "pycharm": {
     "name": "#%%\n"
    }
   }
  },
  {
   "cell_type": "code",
   "execution_count": 6,
   "outputs": [],
   "source": [
    "# get all tweets and lengths\n",
    "df, total_tweets_per_candidate = get_tweets(candidate_list, language, max_tweets_per_candidate)\n",
    "# save them for future use if you want\n",
    "df.to_csv('candidates.csv', index=False)\n",
    "# create a table containing a candidate name with it's tweets\n",
    "sdf = pd.DataFrame([[name, total_tweets] for name, total_tweets in total_tweets_per_candidate.items()])\n",
    "sdf.columns = ['name', 'total_tweets']\n",
    "# save them for future use if you want\n",
    "sdf.to_csv('candidates_final_counts.csv', index=False)\n"
   ],
   "metadata": {
    "collapsed": false,
    "pycharm": {
     "name": "#%%\n"
    }
   }
  },
  {
   "cell_type": "code",
   "execution_count": 49,
   "metadata": {
    "pycharm": {
     "name": "#%%\n"
    }
   },
   "outputs": [
    {
     "name": "stdout",
     "output_type": "stream",
     "text": [
      "We have a total of 40963 tweets\n",
      "We have a total of 21388 tweets after dropping the duplicates\n"
     ]
    }
   ],
   "source": [
    "df = pd.read_csv('candidates_06_04_2021.csv')\n",
    "print(f'We have a total of {len(df)} tweets')\n",
    "# transform the tweet date string to a date object\n",
    "df['created_at'] = df['created_at'].map(pd.to_datetime)\n",
    "# set the date as an index\n",
    "df.set_index('created_at', inplace=True)\n",
    "# drop all duplicated tweets that have the same text\n",
    "df.drop_duplicates(subset=['text'], inplace=True)\n",
    "print(f'We have a total of {len(df)} tweets after dropping the duplicates')"
   ]
  },
  {
   "cell_type": "code",
   "execution_count": 45,
   "metadata": {
    "pycharm": {
     "name": "#%%\n"
    }
   },
   "outputs": [],
   "source": [
    "# search each tweet if it has a reference to any candidate\n",
    "for candidate in candidate_list:\n",
    "    df[candidate] = df.text.apply(lambda text: candidate in text)"
   ]
  },
  {
   "cell_type": "code",
   "execution_count": 46,
   "outputs": [
    {
     "data": {
      "application/vnd.plotly.v1+json": {
       "config": {
        "plotlyServerURL": "https://plot.ly"
       },
       "data": [
        {
         "alignmentgroup": "True",
         "hovertemplate": "variable=יאיר לפיד<br>created_at=%{x}<br>value=%{y}<extra></extra>",
         "legendgroup": "יאיר לפיד",
         "marker": {
          "color": "#AA0DFE"
         },
         "name": "יאיר לפיד",
         "offsetgroup": "יאיר לפיד",
         "orientation": "v",
         "showlegend": true,
         "textposition": "auto",
         "type": "bar",
         "x": [
          "2021-03-30T00:00:00+00:00",
          "2021-03-31T00:00:00+00:00",
          "2021-04-01T00:00:00+00:00",
          "2021-04-02T00:00:00+00:00",
          "2021-04-03T00:00:00+00:00",
          "2021-04-04T00:00:00+00:00",
          "2021-04-05T00:00:00+00:00"
         ],
         "xaxis": "x",
         "y": [
          313,
          304,
          235,
          102,
          114,
          187,
          560
         ],
         "yaxis": "y"
        },
        {
         "alignmentgroup": "True",
         "hovertemplate": "variable=בני גנץ<br>created_at=%{x}<br>value=%{y}<extra></extra>",
         "legendgroup": "בני גנץ",
         "marker": {
          "color": "#3283FE"
         },
         "name": "בני גנץ",
         "offsetgroup": "בני גנץ",
         "orientation": "v",
         "showlegend": true,
         "textposition": "auto",
         "type": "bar",
         "x": [
          "2021-03-30T00:00:00+00:00",
          "2021-03-31T00:00:00+00:00",
          "2021-04-01T00:00:00+00:00",
          "2021-04-02T00:00:00+00:00",
          "2021-04-03T00:00:00+00:00",
          "2021-04-04T00:00:00+00:00",
          "2021-04-05T00:00:00+00:00"
         ],
         "xaxis": "x",
         "y": [
          394,
          279,
          154,
          90,
          76,
          157,
          234
         ],
         "yaxis": "y"
        },
        {
         "alignmentgroup": "True",
         "hovertemplate": "variable=בצלאל סמוטריץ<br>created_at=%{x}<br>value=%{y}<extra></extra>",
         "legendgroup": "בצלאל סמוטריץ",
         "marker": {
          "color": "#85660D"
         },
         "name": "בצלאל סמוטריץ",
         "offsetgroup": "בצלאל סמוטריץ",
         "orientation": "v",
         "showlegend": true,
         "textposition": "auto",
         "type": "bar",
         "x": [
          "2021-03-30T00:00:00+00:00",
          "2021-03-31T00:00:00+00:00",
          "2021-04-01T00:00:00+00:00",
          "2021-04-02T00:00:00+00:00",
          "2021-04-03T00:00:00+00:00",
          "2021-04-04T00:00:00+00:00",
          "2021-04-05T00:00:00+00:00"
         ],
         "xaxis": "x",
         "y": [
          17,
          25,
          36,
          35,
          22,
          39,
          42
         ],
         "yaxis": "y"
        },
        {
         "alignmentgroup": "True",
         "hovertemplate": "variable=נפתלי בנט<br>created_at=%{x}<br>value=%{y}<extra></extra>",
         "legendgroup": "נפתלי בנט",
         "marker": {
          "color": "#782AB6"
         },
         "name": "נפתלי בנט",
         "offsetgroup": "נפתלי בנט",
         "orientation": "v",
         "showlegend": true,
         "textposition": "auto",
         "type": "bar",
         "x": [
          "2021-03-30T00:00:00+00:00",
          "2021-03-31T00:00:00+00:00",
          "2021-04-01T00:00:00+00:00",
          "2021-04-02T00:00:00+00:00",
          "2021-04-03T00:00:00+00:00",
          "2021-04-04T00:00:00+00:00",
          "2021-04-05T00:00:00+00:00"
         ],
         "xaxis": "x",
         "y": [
          162,
          315,
          294,
          172,
          145,
          257,
          350
         ],
         "yaxis": "y"
        },
        {
         "alignmentgroup": "True",
         "hovertemplate": "variable=מרב מיכאלי<br>created_at=%{x}<br>value=%{y}<extra></extra>",
         "legendgroup": "מרב מיכאלי",
         "marker": {
          "color": "#565656"
         },
         "name": "מרב מיכאלי",
         "offsetgroup": "מרב מיכאלי",
         "orientation": "v",
         "showlegend": true,
         "textposition": "auto",
         "type": "bar",
         "x": [
          "2021-03-30T00:00:00+00:00",
          "2021-03-31T00:00:00+00:00",
          "2021-04-01T00:00:00+00:00",
          "2021-04-02T00:00:00+00:00",
          "2021-04-03T00:00:00+00:00",
          "2021-04-04T00:00:00+00:00",
          "2021-04-05T00:00:00+00:00"
         ],
         "xaxis": "x",
         "y": [
          66,
          59,
          46,
          46,
          32,
          54,
          53
         ],
         "yaxis": "y"
        },
        {
         "alignmentgroup": "True",
         "hovertemplate": "variable=גדעון סער<br>created_at=%{x}<br>value=%{y}<extra></extra>",
         "legendgroup": "גדעון סער",
         "marker": {
          "color": "#1C8356"
         },
         "name": "גדעון סער",
         "offsetgroup": "גדעון סער",
         "orientation": "v",
         "showlegend": true,
         "textposition": "auto",
         "type": "bar",
         "x": [
          "2021-03-30T00:00:00+00:00",
          "2021-03-31T00:00:00+00:00",
          "2021-04-01T00:00:00+00:00",
          "2021-04-02T00:00:00+00:00",
          "2021-04-03T00:00:00+00:00",
          "2021-04-04T00:00:00+00:00",
          "2021-04-05T00:00:00+00:00"
         ],
         "xaxis": "x",
         "y": [
          187,
          541,
          279,
          182,
          112,
          480,
          669
         ],
         "yaxis": "y"
        },
        {
         "alignmentgroup": "True",
         "hovertemplate": "variable=בניימין נתניהו<br>created_at=%{x}<br>value=%{y}<extra></extra>",
         "legendgroup": "בניימין נתניהו",
         "marker": {
          "color": "#16FF32"
         },
         "name": "בניימין נתניהו",
         "offsetgroup": "בניימין נתניהו",
         "orientation": "v",
         "showlegend": true,
         "textposition": "auto",
         "type": "bar",
         "x": [
          "2021-03-30T00:00:00+00:00",
          "2021-03-31T00:00:00+00:00",
          "2021-04-01T00:00:00+00:00",
          "2021-04-02T00:00:00+00:00",
          "2021-04-03T00:00:00+00:00",
          "2021-04-04T00:00:00+00:00",
          "2021-04-05T00:00:00+00:00"
         ],
         "xaxis": "x",
         "y": [
          1,
          1,
          0,
          0,
          0,
          2,
          1
         ],
         "yaxis": "y"
        },
        {
         "alignmentgroup": "True",
         "hovertemplate": "variable=ירון זליכה<br>created_at=%{x}<br>value=%{y}<extra></extra>",
         "legendgroup": "ירון זליכה",
         "marker": {
          "color": "#F7E1A0"
         },
         "name": "ירון זליכה",
         "offsetgroup": "ירון זליכה",
         "orientation": "v",
         "showlegend": true,
         "textposition": "auto",
         "type": "bar",
         "x": [
          "2021-03-30T00:00:00+00:00",
          "2021-03-31T00:00:00+00:00",
          "2021-04-01T00:00:00+00:00",
          "2021-04-02T00:00:00+00:00",
          "2021-04-03T00:00:00+00:00",
          "2021-04-04T00:00:00+00:00",
          "2021-04-05T00:00:00+00:00"
         ],
         "xaxis": "x",
         "y": [
          16,
          9,
          4,
          0,
          3,
          4,
          11
         ],
         "yaxis": "y"
        },
        {
         "alignmentgroup": "True",
         "hovertemplate": "variable=ניצן הורוביץ<br>created_at=%{x}<br>value=%{y}<extra></extra>",
         "legendgroup": "ניצן הורוביץ",
         "marker": {
          "color": "#E2E2E2"
         },
         "name": "ניצן הורוביץ",
         "offsetgroup": "ניצן הורוביץ",
         "orientation": "v",
         "showlegend": true,
         "textposition": "auto",
         "type": "bar",
         "x": [
          "2021-03-30T00:00:00+00:00",
          "2021-03-31T00:00:00+00:00",
          "2021-04-01T00:00:00+00:00",
          "2021-04-02T00:00:00+00:00",
          "2021-04-03T00:00:00+00:00",
          "2021-04-04T00:00:00+00:00",
          "2021-04-05T00:00:00+00:00"
         ],
         "xaxis": "x",
         "y": [
          29,
          28,
          14,
          26,
          10,
          10,
          37
         ],
         "yaxis": "y"
        },
        {
         "alignmentgroup": "True",
         "hovertemplate": "variable=אריה דרעי<br>created_at=%{x}<br>value=%{y}<extra></extra>",
         "legendgroup": "אריה דרעי",
         "marker": {
          "color": "#1CBE4F"
         },
         "name": "אריה דרעי",
         "offsetgroup": "אריה דרעי",
         "orientation": "v",
         "showlegend": true,
         "textposition": "auto",
         "type": "bar",
         "x": [
          "2021-03-30T00:00:00+00:00",
          "2021-03-31T00:00:00+00:00",
          "2021-04-01T00:00:00+00:00",
          "2021-04-02T00:00:00+00:00",
          "2021-04-03T00:00:00+00:00",
          "2021-04-04T00:00:00+00:00",
          "2021-04-05T00:00:00+00:00"
         ],
         "xaxis": "x",
         "y": [
          54,
          51,
          54,
          20,
          19,
          26,
          45
         ],
         "yaxis": "y"
        },
        {
         "alignmentgroup": "True",
         "hovertemplate": "variable=משה גפני<br>created_at=%{x}<br>value=%{y}<extra></extra>",
         "legendgroup": "משה גפני",
         "marker": {
          "color": "#C4451C"
         },
         "name": "משה גפני",
         "offsetgroup": "משה גפני",
         "orientation": "v",
         "showlegend": true,
         "textposition": "auto",
         "type": "bar",
         "x": [
          "2021-03-30T00:00:00+00:00",
          "2021-03-31T00:00:00+00:00",
          "2021-04-01T00:00:00+00:00",
          "2021-04-02T00:00:00+00:00",
          "2021-04-03T00:00:00+00:00",
          "2021-04-04T00:00:00+00:00",
          "2021-04-05T00:00:00+00:00"
         ],
         "xaxis": "x",
         "y": [
          25,
          3,
          9,
          6,
          0,
          9,
          16
         ],
         "yaxis": "y"
        },
        {
         "alignmentgroup": "True",
         "hovertemplate": "variable=אביגדור ליברמן<br>created_at=%{x}<br>value=%{y}<extra></extra>",
         "legendgroup": "אביגדור ליברמן",
         "marker": {
          "color": "#DEA0FD"
         },
         "name": "אביגדור ליברמן",
         "offsetgroup": "אביגדור ליברמן",
         "orientation": "v",
         "showlegend": true,
         "textposition": "auto",
         "type": "bar",
         "x": [
          "2021-03-30T00:00:00+00:00",
          "2021-03-31T00:00:00+00:00",
          "2021-04-01T00:00:00+00:00",
          "2021-04-02T00:00:00+00:00",
          "2021-04-03T00:00:00+00:00",
          "2021-04-04T00:00:00+00:00",
          "2021-04-05T00:00:00+00:00"
         ],
         "xaxis": "x",
         "y": [
          28,
          26,
          24,
          16,
          4,
          11,
          21
         ],
         "yaxis": "y"
        },
        {
         "alignmentgroup": "True",
         "hovertemplate": "variable=איימן עודה<br>created_at=%{x}<br>value=%{y}<extra></extra>",
         "legendgroup": "איימן עודה",
         "marker": {
          "color": "#FE00FA"
         },
         "name": "איימן עודה",
         "offsetgroup": "איימן עודה",
         "orientation": "v",
         "showlegend": true,
         "textposition": "auto",
         "type": "bar",
         "x": [
          "2021-03-30T00:00:00+00:00",
          "2021-03-31T00:00:00+00:00",
          "2021-04-01T00:00:00+00:00",
          "2021-04-02T00:00:00+00:00",
          "2021-04-03T00:00:00+00:00",
          "2021-04-04T00:00:00+00:00",
          "2021-04-05T00:00:00+00:00"
         ],
         "xaxis": "x",
         "y": [
          39,
          32,
          155,
          59,
          21,
          14,
          41
         ],
         "yaxis": "y"
        },
        {
         "alignmentgroup": "True",
         "hovertemplate": "variable=מנסור עבאס<br>created_at=%{x}<br>value=%{y}<extra></extra>",
         "legendgroup": "מנסור עבאס",
         "marker": {
          "color": "#325A9B"
         },
         "name": "מנסור עבאס",
         "offsetgroup": "מנסור עבאס",
         "orientation": "v",
         "showlegend": true,
         "textposition": "auto",
         "type": "bar",
         "x": [
          "2021-03-30T00:00:00+00:00",
          "2021-03-31T00:00:00+00:00",
          "2021-04-01T00:00:00+00:00",
          "2021-04-02T00:00:00+00:00",
          "2021-04-03T00:00:00+00:00",
          "2021-04-04T00:00:00+00:00",
          "2021-04-05T00:00:00+00:00"
         ],
         "xaxis": "x",
         "y": [
          506,
          504,
          1463,
          801,
          206,
          254,
          191
         ],
         "yaxis": "y"
        }
       ],
       "layout": {
        "barmode": "relative",
        "legend": {
         "title": {
          "text": "variable"
         },
         "tracegroupgap": 0
        },
        "margin": {
         "t": 60
        },
        "template": {
         "data": {
          "bar": [
           {
            "error_x": {
             "color": "#2a3f5f"
            },
            "error_y": {
             "color": "#2a3f5f"
            },
            "marker": {
             "line": {
              "color": "#E5ECF6",
              "width": 0.5
             }
            },
            "type": "bar"
           }
          ],
          "barpolar": [
           {
            "marker": {
             "line": {
              "color": "#E5ECF6",
              "width": 0.5
             }
            },
            "type": "barpolar"
           }
          ],
          "carpet": [
           {
            "aaxis": {
             "endlinecolor": "#2a3f5f",
             "gridcolor": "white",
             "linecolor": "white",
             "minorgridcolor": "white",
             "startlinecolor": "#2a3f5f"
            },
            "baxis": {
             "endlinecolor": "#2a3f5f",
             "gridcolor": "white",
             "linecolor": "white",
             "minorgridcolor": "white",
             "startlinecolor": "#2a3f5f"
            },
            "type": "carpet"
           }
          ],
          "choropleth": [
           {
            "colorbar": {
             "outlinewidth": 0,
             "ticks": ""
            },
            "type": "choropleth"
           }
          ],
          "contour": [
           {
            "colorbar": {
             "outlinewidth": 0,
             "ticks": ""
            },
            "colorscale": [
             [
              0.0,
              "#0d0887"
             ],
             [
              0.1111111111111111,
              "#46039f"
             ],
             [
              0.2222222222222222,
              "#7201a8"
             ],
             [
              0.3333333333333333,
              "#9c179e"
             ],
             [
              0.4444444444444444,
              "#bd3786"
             ],
             [
              0.5555555555555556,
              "#d8576b"
             ],
             [
              0.6666666666666666,
              "#ed7953"
             ],
             [
              0.7777777777777778,
              "#fb9f3a"
             ],
             [
              0.8888888888888888,
              "#fdca26"
             ],
             [
              1.0,
              "#f0f921"
             ]
            ],
            "type": "contour"
           }
          ],
          "contourcarpet": [
           {
            "colorbar": {
             "outlinewidth": 0,
             "ticks": ""
            },
            "type": "contourcarpet"
           }
          ],
          "heatmap": [
           {
            "colorbar": {
             "outlinewidth": 0,
             "ticks": ""
            },
            "colorscale": [
             [
              0.0,
              "#0d0887"
             ],
             [
              0.1111111111111111,
              "#46039f"
             ],
             [
              0.2222222222222222,
              "#7201a8"
             ],
             [
              0.3333333333333333,
              "#9c179e"
             ],
             [
              0.4444444444444444,
              "#bd3786"
             ],
             [
              0.5555555555555556,
              "#d8576b"
             ],
             [
              0.6666666666666666,
              "#ed7953"
             ],
             [
              0.7777777777777778,
              "#fb9f3a"
             ],
             [
              0.8888888888888888,
              "#fdca26"
             ],
             [
              1.0,
              "#f0f921"
             ]
            ],
            "type": "heatmap"
           }
          ],
          "heatmapgl": [
           {
            "colorbar": {
             "outlinewidth": 0,
             "ticks": ""
            },
            "colorscale": [
             [
              0.0,
              "#0d0887"
             ],
             [
              0.1111111111111111,
              "#46039f"
             ],
             [
              0.2222222222222222,
              "#7201a8"
             ],
             [
              0.3333333333333333,
              "#9c179e"
             ],
             [
              0.4444444444444444,
              "#bd3786"
             ],
             [
              0.5555555555555556,
              "#d8576b"
             ],
             [
              0.6666666666666666,
              "#ed7953"
             ],
             [
              0.7777777777777778,
              "#fb9f3a"
             ],
             [
              0.8888888888888888,
              "#fdca26"
             ],
             [
              1.0,
              "#f0f921"
             ]
            ],
            "type": "heatmapgl"
           }
          ],
          "histogram": [
           {
            "marker": {
             "colorbar": {
              "outlinewidth": 0,
              "ticks": ""
             }
            },
            "type": "histogram"
           }
          ],
          "histogram2d": [
           {
            "colorbar": {
             "outlinewidth": 0,
             "ticks": ""
            },
            "colorscale": [
             [
              0.0,
              "#0d0887"
             ],
             [
              0.1111111111111111,
              "#46039f"
             ],
             [
              0.2222222222222222,
              "#7201a8"
             ],
             [
              0.3333333333333333,
              "#9c179e"
             ],
             [
              0.4444444444444444,
              "#bd3786"
             ],
             [
              0.5555555555555556,
              "#d8576b"
             ],
             [
              0.6666666666666666,
              "#ed7953"
             ],
             [
              0.7777777777777778,
              "#fb9f3a"
             ],
             [
              0.8888888888888888,
              "#fdca26"
             ],
             [
              1.0,
              "#f0f921"
             ]
            ],
            "type": "histogram2d"
           }
          ],
          "histogram2dcontour": [
           {
            "colorbar": {
             "outlinewidth": 0,
             "ticks": ""
            },
            "colorscale": [
             [
              0.0,
              "#0d0887"
             ],
             [
              0.1111111111111111,
              "#46039f"
             ],
             [
              0.2222222222222222,
              "#7201a8"
             ],
             [
              0.3333333333333333,
              "#9c179e"
             ],
             [
              0.4444444444444444,
              "#bd3786"
             ],
             [
              0.5555555555555556,
              "#d8576b"
             ],
             [
              0.6666666666666666,
              "#ed7953"
             ],
             [
              0.7777777777777778,
              "#fb9f3a"
             ],
             [
              0.8888888888888888,
              "#fdca26"
             ],
             [
              1.0,
              "#f0f921"
             ]
            ],
            "type": "histogram2dcontour"
           }
          ],
          "mesh3d": [
           {
            "colorbar": {
             "outlinewidth": 0,
             "ticks": ""
            },
            "type": "mesh3d"
           }
          ],
          "parcoords": [
           {
            "line": {
             "colorbar": {
              "outlinewidth": 0,
              "ticks": ""
             }
            },
            "type": "parcoords"
           }
          ],
          "pie": [
           {
            "automargin": true,
            "type": "pie"
           }
          ],
          "scatter": [
           {
            "marker": {
             "colorbar": {
              "outlinewidth": 0,
              "ticks": ""
             }
            },
            "type": "scatter"
           }
          ],
          "scatter3d": [
           {
            "line": {
             "colorbar": {
              "outlinewidth": 0,
              "ticks": ""
             }
            },
            "marker": {
             "colorbar": {
              "outlinewidth": 0,
              "ticks": ""
             }
            },
            "type": "scatter3d"
           }
          ],
          "scattercarpet": [
           {
            "marker": {
             "colorbar": {
              "outlinewidth": 0,
              "ticks": ""
             }
            },
            "type": "scattercarpet"
           }
          ],
          "scattergeo": [
           {
            "marker": {
             "colorbar": {
              "outlinewidth": 0,
              "ticks": ""
             }
            },
            "type": "scattergeo"
           }
          ],
          "scattergl": [
           {
            "marker": {
             "colorbar": {
              "outlinewidth": 0,
              "ticks": ""
             }
            },
            "type": "scattergl"
           }
          ],
          "scattermapbox": [
           {
            "marker": {
             "colorbar": {
              "outlinewidth": 0,
              "ticks": ""
             }
            },
            "type": "scattermapbox"
           }
          ],
          "scatterpolar": [
           {
            "marker": {
             "colorbar": {
              "outlinewidth": 0,
              "ticks": ""
             }
            },
            "type": "scatterpolar"
           }
          ],
          "scatterpolargl": [
           {
            "marker": {
             "colorbar": {
              "outlinewidth": 0,
              "ticks": ""
             }
            },
            "type": "scatterpolargl"
           }
          ],
          "scatterternary": [
           {
            "marker": {
             "colorbar": {
              "outlinewidth": 0,
              "ticks": ""
             }
            },
            "type": "scatterternary"
           }
          ],
          "surface": [
           {
            "colorbar": {
             "outlinewidth": 0,
             "ticks": ""
            },
            "colorscale": [
             [
              0.0,
              "#0d0887"
             ],
             [
              0.1111111111111111,
              "#46039f"
             ],
             [
              0.2222222222222222,
              "#7201a8"
             ],
             [
              0.3333333333333333,
              "#9c179e"
             ],
             [
              0.4444444444444444,
              "#bd3786"
             ],
             [
              0.5555555555555556,
              "#d8576b"
             ],
             [
              0.6666666666666666,
              "#ed7953"
             ],
             [
              0.7777777777777778,
              "#fb9f3a"
             ],
             [
              0.8888888888888888,
              "#fdca26"
             ],
             [
              1.0,
              "#f0f921"
             ]
            ],
            "type": "surface"
           }
          ],
          "table": [
           {
            "cells": {
             "fill": {
              "color": "#EBF0F8"
             },
             "line": {
              "color": "white"
             }
            },
            "header": {
             "fill": {
              "color": "#C8D4E3"
             },
             "line": {
              "color": "white"
             }
            },
            "type": "table"
           }
          ]
         },
         "layout": {
          "annotationdefaults": {
           "arrowcolor": "#2a3f5f",
           "arrowhead": 0,
           "arrowwidth": 1
          },
          "autotypenumbers": "strict",
          "coloraxis": {
           "colorbar": {
            "outlinewidth": 0,
            "ticks": ""
           }
          },
          "colorscale": {
           "diverging": [
            [
             0,
             "#8e0152"
            ],
            [
             0.1,
             "#c51b7d"
            ],
            [
             0.2,
             "#de77ae"
            ],
            [
             0.3,
             "#f1b6da"
            ],
            [
             0.4,
             "#fde0ef"
            ],
            [
             0.5,
             "#f7f7f7"
            ],
            [
             0.6,
             "#e6f5d0"
            ],
            [
             0.7,
             "#b8e186"
            ],
            [
             0.8,
             "#7fbc41"
            ],
            [
             0.9,
             "#4d9221"
            ],
            [
             1,
             "#276419"
            ]
           ],
           "sequential": [
            [
             0.0,
             "#0d0887"
            ],
            [
             0.1111111111111111,
             "#46039f"
            ],
            [
             0.2222222222222222,
             "#7201a8"
            ],
            [
             0.3333333333333333,
             "#9c179e"
            ],
            [
             0.4444444444444444,
             "#bd3786"
            ],
            [
             0.5555555555555556,
             "#d8576b"
            ],
            [
             0.6666666666666666,
             "#ed7953"
            ],
            [
             0.7777777777777778,
             "#fb9f3a"
            ],
            [
             0.8888888888888888,
             "#fdca26"
            ],
            [
             1.0,
             "#f0f921"
            ]
           ],
           "sequentialminus": [
            [
             0.0,
             "#0d0887"
            ],
            [
             0.1111111111111111,
             "#46039f"
            ],
            [
             0.2222222222222222,
             "#7201a8"
            ],
            [
             0.3333333333333333,
             "#9c179e"
            ],
            [
             0.4444444444444444,
             "#bd3786"
            ],
            [
             0.5555555555555556,
             "#d8576b"
            ],
            [
             0.6666666666666666,
             "#ed7953"
            ],
            [
             0.7777777777777778,
             "#fb9f3a"
            ],
            [
             0.8888888888888888,
             "#fdca26"
            ],
            [
             1.0,
             "#f0f921"
            ]
           ]
          },
          "colorway": [
           "#636efa",
           "#EF553B",
           "#00cc96",
           "#ab63fa",
           "#FFA15A",
           "#19d3f3",
           "#FF6692",
           "#B6E880",
           "#FF97FF",
           "#FECB52"
          ],
          "font": {
           "color": "#2a3f5f"
          },
          "geo": {
           "bgcolor": "white",
           "lakecolor": "white",
           "landcolor": "#E5ECF6",
           "showlakes": true,
           "showland": true,
           "subunitcolor": "white"
          },
          "hoverlabel": {
           "align": "left"
          },
          "hovermode": "closest",
          "mapbox": {
           "style": "light"
          },
          "paper_bgcolor": "white",
          "plot_bgcolor": "#E5ECF6",
          "polar": {
           "angularaxis": {
            "gridcolor": "white",
            "linecolor": "white",
            "ticks": ""
           },
           "bgcolor": "#E5ECF6",
           "radialaxis": {
            "gridcolor": "white",
            "linecolor": "white",
            "ticks": ""
           }
          },
          "scene": {
           "xaxis": {
            "backgroundcolor": "#E5ECF6",
            "gridcolor": "white",
            "gridwidth": 2,
            "linecolor": "white",
            "showbackground": true,
            "ticks": "",
            "zerolinecolor": "white"
           },
           "yaxis": {
            "backgroundcolor": "#E5ECF6",
            "gridcolor": "white",
            "gridwidth": 2,
            "linecolor": "white",
            "showbackground": true,
            "ticks": "",
            "zerolinecolor": "white"
           },
           "zaxis": {
            "backgroundcolor": "#E5ECF6",
            "gridcolor": "white",
            "gridwidth": 2,
            "linecolor": "white",
            "showbackground": true,
            "ticks": "",
            "zerolinecolor": "white"
           }
          },
          "shapedefaults": {
           "line": {
            "color": "#2a3f5f"
           }
          },
          "ternary": {
           "aaxis": {
            "gridcolor": "white",
            "linecolor": "white",
            "ticks": ""
           },
           "baxis": {
            "gridcolor": "white",
            "linecolor": "white",
            "ticks": ""
           },
           "bgcolor": "#E5ECF6",
           "caxis": {
            "gridcolor": "white",
            "linecolor": "white",
            "ticks": ""
           }
          },
          "title": {
           "x": 0.05
          },
          "xaxis": {
           "automargin": true,
           "gridcolor": "white",
           "linecolor": "white",
           "ticks": "",
           "title": {
            "standoff": 15
           },
           "zerolinecolor": "white",
           "zerolinewidth": 2
          },
          "yaxis": {
           "automargin": true,
           "gridcolor": "white",
           "linecolor": "white",
           "ticks": "",
           "title": {
            "standoff": 15
           },
           "zerolinecolor": "white",
           "zerolinewidth": 2
          }
         }
        },
        "xaxis": {
         "anchor": "y",
         "domain": [
          0.0,
          1.0
         ],
         "title": {
          "text": "created_at"
         }
        },
        "yaxis": {
         "anchor": "x",
         "domain": [
          0.0,
          1.0
         ],
         "title": {
          "text": "value"
         }
        }
       }
      },
      "text/html": "<div>                            <div id=\"34ee271d-a017-496e-a9ba-5764911f80ab\" class=\"plotly-graph-div\" style=\"height:525px; width:100%;\"></div>            <script type=\"text/javascript\">                require([\"plotly\"], function(Plotly) {                    window.PLOTLYENV=window.PLOTLYENV || {};                                    if (document.getElementById(\"34ee271d-a017-496e-a9ba-5764911f80ab\")) {                    Plotly.newPlot(                        \"34ee271d-a017-496e-a9ba-5764911f80ab\",                        [{\"alignmentgroup\": \"True\", \"hovertemplate\": \"variable=\\u05d9\\u05d0\\u05d9\\u05e8 \\u05dc\\u05e4\\u05d9\\u05d3<br>created_at=%{x}<br>value=%{y}<extra></extra>\", \"legendgroup\": \"\\u05d9\\u05d0\\u05d9\\u05e8 \\u05dc\\u05e4\\u05d9\\u05d3\", \"marker\": {\"color\": \"#AA0DFE\"}, \"name\": \"\\u05d9\\u05d0\\u05d9\\u05e8 \\u05dc\\u05e4\\u05d9\\u05d3\", \"offsetgroup\": \"\\u05d9\\u05d0\\u05d9\\u05e8 \\u05dc\\u05e4\\u05d9\\u05d3\", \"orientation\": \"v\", \"showlegend\": true, \"textposition\": \"auto\", \"type\": \"bar\", \"x\": [\"2021-03-30T00:00:00+00:00\", \"2021-03-31T00:00:00+00:00\", \"2021-04-01T00:00:00+00:00\", \"2021-04-02T00:00:00+00:00\", \"2021-04-03T00:00:00+00:00\", \"2021-04-04T00:00:00+00:00\", \"2021-04-05T00:00:00+00:00\"], \"xaxis\": \"x\", \"y\": [313, 304, 235, 102, 114, 187, 560], \"yaxis\": \"y\"}, {\"alignmentgroup\": \"True\", \"hovertemplate\": \"variable=\\u05d1\\u05e0\\u05d9 \\u05d2\\u05e0\\u05e5<br>created_at=%{x}<br>value=%{y}<extra></extra>\", \"legendgroup\": \"\\u05d1\\u05e0\\u05d9 \\u05d2\\u05e0\\u05e5\", \"marker\": {\"color\": \"#3283FE\"}, \"name\": \"\\u05d1\\u05e0\\u05d9 \\u05d2\\u05e0\\u05e5\", \"offsetgroup\": \"\\u05d1\\u05e0\\u05d9 \\u05d2\\u05e0\\u05e5\", \"orientation\": \"v\", \"showlegend\": true, \"textposition\": \"auto\", \"type\": \"bar\", \"x\": [\"2021-03-30T00:00:00+00:00\", \"2021-03-31T00:00:00+00:00\", \"2021-04-01T00:00:00+00:00\", \"2021-04-02T00:00:00+00:00\", \"2021-04-03T00:00:00+00:00\", \"2021-04-04T00:00:00+00:00\", \"2021-04-05T00:00:00+00:00\"], \"xaxis\": \"x\", \"y\": [394, 279, 154, 90, 76, 157, 234], \"yaxis\": \"y\"}, {\"alignmentgroup\": \"True\", \"hovertemplate\": \"variable=\\u05d1\\u05e6\\u05dc\\u05d0\\u05dc \\u05e1\\u05de\\u05d5\\u05d8\\u05e8\\u05d9\\u05e5<br>created_at=%{x}<br>value=%{y}<extra></extra>\", \"legendgroup\": \"\\u05d1\\u05e6\\u05dc\\u05d0\\u05dc \\u05e1\\u05de\\u05d5\\u05d8\\u05e8\\u05d9\\u05e5\", \"marker\": {\"color\": \"#85660D\"}, \"name\": \"\\u05d1\\u05e6\\u05dc\\u05d0\\u05dc \\u05e1\\u05de\\u05d5\\u05d8\\u05e8\\u05d9\\u05e5\", \"offsetgroup\": \"\\u05d1\\u05e6\\u05dc\\u05d0\\u05dc \\u05e1\\u05de\\u05d5\\u05d8\\u05e8\\u05d9\\u05e5\", \"orientation\": \"v\", \"showlegend\": true, \"textposition\": \"auto\", \"type\": \"bar\", \"x\": [\"2021-03-30T00:00:00+00:00\", \"2021-03-31T00:00:00+00:00\", \"2021-04-01T00:00:00+00:00\", \"2021-04-02T00:00:00+00:00\", \"2021-04-03T00:00:00+00:00\", \"2021-04-04T00:00:00+00:00\", \"2021-04-05T00:00:00+00:00\"], \"xaxis\": \"x\", \"y\": [17, 25, 36, 35, 22, 39, 42], \"yaxis\": \"y\"}, {\"alignmentgroup\": \"True\", \"hovertemplate\": \"variable=\\u05e0\\u05e4\\u05ea\\u05dc\\u05d9 \\u05d1\\u05e0\\u05d8<br>created_at=%{x}<br>value=%{y}<extra></extra>\", \"legendgroup\": \"\\u05e0\\u05e4\\u05ea\\u05dc\\u05d9 \\u05d1\\u05e0\\u05d8\", \"marker\": {\"color\": \"#782AB6\"}, \"name\": \"\\u05e0\\u05e4\\u05ea\\u05dc\\u05d9 \\u05d1\\u05e0\\u05d8\", \"offsetgroup\": \"\\u05e0\\u05e4\\u05ea\\u05dc\\u05d9 \\u05d1\\u05e0\\u05d8\", \"orientation\": \"v\", \"showlegend\": true, \"textposition\": \"auto\", \"type\": \"bar\", \"x\": [\"2021-03-30T00:00:00+00:00\", \"2021-03-31T00:00:00+00:00\", \"2021-04-01T00:00:00+00:00\", \"2021-04-02T00:00:00+00:00\", \"2021-04-03T00:00:00+00:00\", \"2021-04-04T00:00:00+00:00\", \"2021-04-05T00:00:00+00:00\"], \"xaxis\": \"x\", \"y\": [162, 315, 294, 172, 145, 257, 350], \"yaxis\": \"y\"}, {\"alignmentgroup\": \"True\", \"hovertemplate\": \"variable=\\u05de\\u05e8\\u05d1 \\u05de\\u05d9\\u05db\\u05d0\\u05dc\\u05d9<br>created_at=%{x}<br>value=%{y}<extra></extra>\", \"legendgroup\": \"\\u05de\\u05e8\\u05d1 \\u05de\\u05d9\\u05db\\u05d0\\u05dc\\u05d9\", \"marker\": {\"color\": \"#565656\"}, \"name\": \"\\u05de\\u05e8\\u05d1 \\u05de\\u05d9\\u05db\\u05d0\\u05dc\\u05d9\", \"offsetgroup\": \"\\u05de\\u05e8\\u05d1 \\u05de\\u05d9\\u05db\\u05d0\\u05dc\\u05d9\", \"orientation\": \"v\", \"showlegend\": true, \"textposition\": \"auto\", \"type\": \"bar\", \"x\": [\"2021-03-30T00:00:00+00:00\", \"2021-03-31T00:00:00+00:00\", \"2021-04-01T00:00:00+00:00\", \"2021-04-02T00:00:00+00:00\", \"2021-04-03T00:00:00+00:00\", \"2021-04-04T00:00:00+00:00\", \"2021-04-05T00:00:00+00:00\"], \"xaxis\": \"x\", \"y\": [66, 59, 46, 46, 32, 54, 53], \"yaxis\": \"y\"}, {\"alignmentgroup\": \"True\", \"hovertemplate\": \"variable=\\u05d2\\u05d3\\u05e2\\u05d5\\u05df \\u05e1\\u05e2\\u05e8<br>created_at=%{x}<br>value=%{y}<extra></extra>\", \"legendgroup\": \"\\u05d2\\u05d3\\u05e2\\u05d5\\u05df \\u05e1\\u05e2\\u05e8\", \"marker\": {\"color\": \"#1C8356\"}, \"name\": \"\\u05d2\\u05d3\\u05e2\\u05d5\\u05df \\u05e1\\u05e2\\u05e8\", \"offsetgroup\": \"\\u05d2\\u05d3\\u05e2\\u05d5\\u05df \\u05e1\\u05e2\\u05e8\", \"orientation\": \"v\", \"showlegend\": true, \"textposition\": \"auto\", \"type\": \"bar\", \"x\": [\"2021-03-30T00:00:00+00:00\", \"2021-03-31T00:00:00+00:00\", \"2021-04-01T00:00:00+00:00\", \"2021-04-02T00:00:00+00:00\", \"2021-04-03T00:00:00+00:00\", \"2021-04-04T00:00:00+00:00\", \"2021-04-05T00:00:00+00:00\"], \"xaxis\": \"x\", \"y\": [187, 541, 279, 182, 112, 480, 669], \"yaxis\": \"y\"}, {\"alignmentgroup\": \"True\", \"hovertemplate\": \"variable=\\u05d1\\u05e0\\u05d9\\u05d9\\u05de\\u05d9\\u05df \\u05e0\\u05ea\\u05e0\\u05d9\\u05d4\\u05d5<br>created_at=%{x}<br>value=%{y}<extra></extra>\", \"legendgroup\": \"\\u05d1\\u05e0\\u05d9\\u05d9\\u05de\\u05d9\\u05df \\u05e0\\u05ea\\u05e0\\u05d9\\u05d4\\u05d5\", \"marker\": {\"color\": \"#16FF32\"}, \"name\": \"\\u05d1\\u05e0\\u05d9\\u05d9\\u05de\\u05d9\\u05df \\u05e0\\u05ea\\u05e0\\u05d9\\u05d4\\u05d5\", \"offsetgroup\": \"\\u05d1\\u05e0\\u05d9\\u05d9\\u05de\\u05d9\\u05df \\u05e0\\u05ea\\u05e0\\u05d9\\u05d4\\u05d5\", \"orientation\": \"v\", \"showlegend\": true, \"textposition\": \"auto\", \"type\": \"bar\", \"x\": [\"2021-03-30T00:00:00+00:00\", \"2021-03-31T00:00:00+00:00\", \"2021-04-01T00:00:00+00:00\", \"2021-04-02T00:00:00+00:00\", \"2021-04-03T00:00:00+00:00\", \"2021-04-04T00:00:00+00:00\", \"2021-04-05T00:00:00+00:00\"], \"xaxis\": \"x\", \"y\": [1, 1, 0, 0, 0, 2, 1], \"yaxis\": \"y\"}, {\"alignmentgroup\": \"True\", \"hovertemplate\": \"variable=\\u05d9\\u05e8\\u05d5\\u05df \\u05d6\\u05dc\\u05d9\\u05db\\u05d4<br>created_at=%{x}<br>value=%{y}<extra></extra>\", \"legendgroup\": \"\\u05d9\\u05e8\\u05d5\\u05df \\u05d6\\u05dc\\u05d9\\u05db\\u05d4\", \"marker\": {\"color\": \"#F7E1A0\"}, \"name\": \"\\u05d9\\u05e8\\u05d5\\u05df \\u05d6\\u05dc\\u05d9\\u05db\\u05d4\", \"offsetgroup\": \"\\u05d9\\u05e8\\u05d5\\u05df \\u05d6\\u05dc\\u05d9\\u05db\\u05d4\", \"orientation\": \"v\", \"showlegend\": true, \"textposition\": \"auto\", \"type\": \"bar\", \"x\": [\"2021-03-30T00:00:00+00:00\", \"2021-03-31T00:00:00+00:00\", \"2021-04-01T00:00:00+00:00\", \"2021-04-02T00:00:00+00:00\", \"2021-04-03T00:00:00+00:00\", \"2021-04-04T00:00:00+00:00\", \"2021-04-05T00:00:00+00:00\"], \"xaxis\": \"x\", \"y\": [16, 9, 4, 0, 3, 4, 11], \"yaxis\": \"y\"}, {\"alignmentgroup\": \"True\", \"hovertemplate\": \"variable=\\u05e0\\u05d9\\u05e6\\u05df \\u05d4\\u05d5\\u05e8\\u05d5\\u05d1\\u05d9\\u05e5<br>created_at=%{x}<br>value=%{y}<extra></extra>\", \"legendgroup\": \"\\u05e0\\u05d9\\u05e6\\u05df \\u05d4\\u05d5\\u05e8\\u05d5\\u05d1\\u05d9\\u05e5\", \"marker\": {\"color\": \"#E2E2E2\"}, \"name\": \"\\u05e0\\u05d9\\u05e6\\u05df \\u05d4\\u05d5\\u05e8\\u05d5\\u05d1\\u05d9\\u05e5\", \"offsetgroup\": \"\\u05e0\\u05d9\\u05e6\\u05df \\u05d4\\u05d5\\u05e8\\u05d5\\u05d1\\u05d9\\u05e5\", \"orientation\": \"v\", \"showlegend\": true, \"textposition\": \"auto\", \"type\": \"bar\", \"x\": [\"2021-03-30T00:00:00+00:00\", \"2021-03-31T00:00:00+00:00\", \"2021-04-01T00:00:00+00:00\", \"2021-04-02T00:00:00+00:00\", \"2021-04-03T00:00:00+00:00\", \"2021-04-04T00:00:00+00:00\", \"2021-04-05T00:00:00+00:00\"], \"xaxis\": \"x\", \"y\": [29, 28, 14, 26, 10, 10, 37], \"yaxis\": \"y\"}, {\"alignmentgroup\": \"True\", \"hovertemplate\": \"variable=\\u05d0\\u05e8\\u05d9\\u05d4 \\u05d3\\u05e8\\u05e2\\u05d9<br>created_at=%{x}<br>value=%{y}<extra></extra>\", \"legendgroup\": \"\\u05d0\\u05e8\\u05d9\\u05d4 \\u05d3\\u05e8\\u05e2\\u05d9\", \"marker\": {\"color\": \"#1CBE4F\"}, \"name\": \"\\u05d0\\u05e8\\u05d9\\u05d4 \\u05d3\\u05e8\\u05e2\\u05d9\", \"offsetgroup\": \"\\u05d0\\u05e8\\u05d9\\u05d4 \\u05d3\\u05e8\\u05e2\\u05d9\", \"orientation\": \"v\", \"showlegend\": true, \"textposition\": \"auto\", \"type\": \"bar\", \"x\": [\"2021-03-30T00:00:00+00:00\", \"2021-03-31T00:00:00+00:00\", \"2021-04-01T00:00:00+00:00\", \"2021-04-02T00:00:00+00:00\", \"2021-04-03T00:00:00+00:00\", \"2021-04-04T00:00:00+00:00\", \"2021-04-05T00:00:00+00:00\"], \"xaxis\": \"x\", \"y\": [54, 51, 54, 20, 19, 26, 45], \"yaxis\": \"y\"}, {\"alignmentgroup\": \"True\", \"hovertemplate\": \"variable=\\u05de\\u05e9\\u05d4 \\u05d2\\u05e4\\u05e0\\u05d9<br>created_at=%{x}<br>value=%{y}<extra></extra>\", \"legendgroup\": \"\\u05de\\u05e9\\u05d4 \\u05d2\\u05e4\\u05e0\\u05d9\", \"marker\": {\"color\": \"#C4451C\"}, \"name\": \"\\u05de\\u05e9\\u05d4 \\u05d2\\u05e4\\u05e0\\u05d9\", \"offsetgroup\": \"\\u05de\\u05e9\\u05d4 \\u05d2\\u05e4\\u05e0\\u05d9\", \"orientation\": \"v\", \"showlegend\": true, \"textposition\": \"auto\", \"type\": \"bar\", \"x\": [\"2021-03-30T00:00:00+00:00\", \"2021-03-31T00:00:00+00:00\", \"2021-04-01T00:00:00+00:00\", \"2021-04-02T00:00:00+00:00\", \"2021-04-03T00:00:00+00:00\", \"2021-04-04T00:00:00+00:00\", \"2021-04-05T00:00:00+00:00\"], \"xaxis\": \"x\", \"y\": [25, 3, 9, 6, 0, 9, 16], \"yaxis\": \"y\"}, {\"alignmentgroup\": \"True\", \"hovertemplate\": \"variable=\\u05d0\\u05d1\\u05d9\\u05d2\\u05d3\\u05d5\\u05e8 \\u05dc\\u05d9\\u05d1\\u05e8\\u05de\\u05df<br>created_at=%{x}<br>value=%{y}<extra></extra>\", \"legendgroup\": \"\\u05d0\\u05d1\\u05d9\\u05d2\\u05d3\\u05d5\\u05e8 \\u05dc\\u05d9\\u05d1\\u05e8\\u05de\\u05df\", \"marker\": {\"color\": \"#DEA0FD\"}, \"name\": \"\\u05d0\\u05d1\\u05d9\\u05d2\\u05d3\\u05d5\\u05e8 \\u05dc\\u05d9\\u05d1\\u05e8\\u05de\\u05df\", \"offsetgroup\": \"\\u05d0\\u05d1\\u05d9\\u05d2\\u05d3\\u05d5\\u05e8 \\u05dc\\u05d9\\u05d1\\u05e8\\u05de\\u05df\", \"orientation\": \"v\", \"showlegend\": true, \"textposition\": \"auto\", \"type\": \"bar\", \"x\": [\"2021-03-30T00:00:00+00:00\", \"2021-03-31T00:00:00+00:00\", \"2021-04-01T00:00:00+00:00\", \"2021-04-02T00:00:00+00:00\", \"2021-04-03T00:00:00+00:00\", \"2021-04-04T00:00:00+00:00\", \"2021-04-05T00:00:00+00:00\"], \"xaxis\": \"x\", \"y\": [28, 26, 24, 16, 4, 11, 21], \"yaxis\": \"y\"}, {\"alignmentgroup\": \"True\", \"hovertemplate\": \"variable=\\u05d0\\u05d9\\u05d9\\u05de\\u05df \\u05e2\\u05d5\\u05d3\\u05d4<br>created_at=%{x}<br>value=%{y}<extra></extra>\", \"legendgroup\": \"\\u05d0\\u05d9\\u05d9\\u05de\\u05df \\u05e2\\u05d5\\u05d3\\u05d4\", \"marker\": {\"color\": \"#FE00FA\"}, \"name\": \"\\u05d0\\u05d9\\u05d9\\u05de\\u05df \\u05e2\\u05d5\\u05d3\\u05d4\", \"offsetgroup\": \"\\u05d0\\u05d9\\u05d9\\u05de\\u05df \\u05e2\\u05d5\\u05d3\\u05d4\", \"orientation\": \"v\", \"showlegend\": true, \"textposition\": \"auto\", \"type\": \"bar\", \"x\": [\"2021-03-30T00:00:00+00:00\", \"2021-03-31T00:00:00+00:00\", \"2021-04-01T00:00:00+00:00\", \"2021-04-02T00:00:00+00:00\", \"2021-04-03T00:00:00+00:00\", \"2021-04-04T00:00:00+00:00\", \"2021-04-05T00:00:00+00:00\"], \"xaxis\": \"x\", \"y\": [39, 32, 155, 59, 21, 14, 41], \"yaxis\": \"y\"}, {\"alignmentgroup\": \"True\", \"hovertemplate\": \"variable=\\u05de\\u05e0\\u05e1\\u05d5\\u05e8 \\u05e2\\u05d1\\u05d0\\u05e1<br>created_at=%{x}<br>value=%{y}<extra></extra>\", \"legendgroup\": \"\\u05de\\u05e0\\u05e1\\u05d5\\u05e8 \\u05e2\\u05d1\\u05d0\\u05e1\", \"marker\": {\"color\": \"#325A9B\"}, \"name\": \"\\u05de\\u05e0\\u05e1\\u05d5\\u05e8 \\u05e2\\u05d1\\u05d0\\u05e1\", \"offsetgroup\": \"\\u05de\\u05e0\\u05e1\\u05d5\\u05e8 \\u05e2\\u05d1\\u05d0\\u05e1\", \"orientation\": \"v\", \"showlegend\": true, \"textposition\": \"auto\", \"type\": \"bar\", \"x\": [\"2021-03-30T00:00:00+00:00\", \"2021-03-31T00:00:00+00:00\", \"2021-04-01T00:00:00+00:00\", \"2021-04-02T00:00:00+00:00\", \"2021-04-03T00:00:00+00:00\", \"2021-04-04T00:00:00+00:00\", \"2021-04-05T00:00:00+00:00\"], \"xaxis\": \"x\", \"y\": [506, 504, 1463, 801, 206, 254, 191], \"yaxis\": \"y\"}],                        {\"barmode\": \"relative\", \"legend\": {\"title\": {\"text\": \"variable\"}, \"tracegroupgap\": 0}, \"margin\": {\"t\": 60}, \"template\": {\"data\": {\"bar\": [{\"error_x\": {\"color\": \"#2a3f5f\"}, \"error_y\": {\"color\": \"#2a3f5f\"}, \"marker\": {\"line\": {\"color\": \"#E5ECF6\", \"width\": 0.5}}, \"type\": \"bar\"}], \"barpolar\": [{\"marker\": {\"line\": {\"color\": \"#E5ECF6\", \"width\": 0.5}}, \"type\": \"barpolar\"}], \"carpet\": [{\"aaxis\": {\"endlinecolor\": \"#2a3f5f\", \"gridcolor\": \"white\", \"linecolor\": \"white\", \"minorgridcolor\": \"white\", \"startlinecolor\": \"#2a3f5f\"}, \"baxis\": {\"endlinecolor\": \"#2a3f5f\", \"gridcolor\": \"white\", \"linecolor\": \"white\", \"minorgridcolor\": \"white\", \"startlinecolor\": \"#2a3f5f\"}, \"type\": \"carpet\"}], \"choropleth\": [{\"colorbar\": {\"outlinewidth\": 0, \"ticks\": \"\"}, \"type\": \"choropleth\"}], \"contour\": [{\"colorbar\": {\"outlinewidth\": 0, \"ticks\": \"\"}, \"colorscale\": [[0.0, \"#0d0887\"], [0.1111111111111111, \"#46039f\"], [0.2222222222222222, \"#7201a8\"], [0.3333333333333333, \"#9c179e\"], [0.4444444444444444, \"#bd3786\"], [0.5555555555555556, \"#d8576b\"], [0.6666666666666666, \"#ed7953\"], [0.7777777777777778, \"#fb9f3a\"], [0.8888888888888888, \"#fdca26\"], [1.0, \"#f0f921\"]], \"type\": \"contour\"}], \"contourcarpet\": [{\"colorbar\": {\"outlinewidth\": 0, \"ticks\": \"\"}, \"type\": \"contourcarpet\"}], \"heatmap\": [{\"colorbar\": {\"outlinewidth\": 0, \"ticks\": \"\"}, \"colorscale\": [[0.0, \"#0d0887\"], [0.1111111111111111, \"#46039f\"], [0.2222222222222222, \"#7201a8\"], [0.3333333333333333, \"#9c179e\"], [0.4444444444444444, \"#bd3786\"], [0.5555555555555556, \"#d8576b\"], [0.6666666666666666, \"#ed7953\"], [0.7777777777777778, \"#fb9f3a\"], [0.8888888888888888, \"#fdca26\"], [1.0, \"#f0f921\"]], \"type\": \"heatmap\"}], \"heatmapgl\": [{\"colorbar\": {\"outlinewidth\": 0, \"ticks\": \"\"}, \"colorscale\": [[0.0, \"#0d0887\"], [0.1111111111111111, \"#46039f\"], [0.2222222222222222, \"#7201a8\"], [0.3333333333333333, \"#9c179e\"], [0.4444444444444444, \"#bd3786\"], [0.5555555555555556, \"#d8576b\"], [0.6666666666666666, \"#ed7953\"], [0.7777777777777778, \"#fb9f3a\"], [0.8888888888888888, \"#fdca26\"], [1.0, \"#f0f921\"]], \"type\": \"heatmapgl\"}], \"histogram\": [{\"marker\": {\"colorbar\": {\"outlinewidth\": 0, \"ticks\": \"\"}}, \"type\": \"histogram\"}], \"histogram2d\": [{\"colorbar\": {\"outlinewidth\": 0, \"ticks\": \"\"}, \"colorscale\": [[0.0, \"#0d0887\"], [0.1111111111111111, \"#46039f\"], [0.2222222222222222, \"#7201a8\"], [0.3333333333333333, \"#9c179e\"], [0.4444444444444444, \"#bd3786\"], [0.5555555555555556, \"#d8576b\"], [0.6666666666666666, \"#ed7953\"], [0.7777777777777778, \"#fb9f3a\"], [0.8888888888888888, \"#fdca26\"], [1.0, \"#f0f921\"]], \"type\": \"histogram2d\"}], \"histogram2dcontour\": [{\"colorbar\": {\"outlinewidth\": 0, \"ticks\": \"\"}, \"colorscale\": [[0.0, \"#0d0887\"], [0.1111111111111111, \"#46039f\"], [0.2222222222222222, \"#7201a8\"], [0.3333333333333333, \"#9c179e\"], [0.4444444444444444, \"#bd3786\"], [0.5555555555555556, \"#d8576b\"], [0.6666666666666666, \"#ed7953\"], [0.7777777777777778, \"#fb9f3a\"], [0.8888888888888888, \"#fdca26\"], [1.0, \"#f0f921\"]], \"type\": \"histogram2dcontour\"}], \"mesh3d\": [{\"colorbar\": {\"outlinewidth\": 0, \"ticks\": \"\"}, \"type\": \"mesh3d\"}], \"parcoords\": [{\"line\": {\"colorbar\": {\"outlinewidth\": 0, \"ticks\": \"\"}}, \"type\": \"parcoords\"}], \"pie\": [{\"automargin\": true, \"type\": \"pie\"}], \"scatter\": [{\"marker\": {\"colorbar\": {\"outlinewidth\": 0, \"ticks\": \"\"}}, \"type\": \"scatter\"}], \"scatter3d\": [{\"line\": {\"colorbar\": {\"outlinewidth\": 0, \"ticks\": \"\"}}, \"marker\": {\"colorbar\": {\"outlinewidth\": 0, \"ticks\": \"\"}}, \"type\": \"scatter3d\"}], \"scattercarpet\": [{\"marker\": {\"colorbar\": {\"outlinewidth\": 0, \"ticks\": \"\"}}, \"type\": \"scattercarpet\"}], \"scattergeo\": [{\"marker\": {\"colorbar\": {\"outlinewidth\": 0, \"ticks\": \"\"}}, \"type\": \"scattergeo\"}], \"scattergl\": [{\"marker\": {\"colorbar\": {\"outlinewidth\": 0, \"ticks\": \"\"}}, \"type\": \"scattergl\"}], \"scattermapbox\": [{\"marker\": {\"colorbar\": {\"outlinewidth\": 0, \"ticks\": \"\"}}, \"type\": \"scattermapbox\"}], \"scatterpolar\": [{\"marker\": {\"colorbar\": {\"outlinewidth\": 0, \"ticks\": \"\"}}, \"type\": \"scatterpolar\"}], \"scatterpolargl\": [{\"marker\": {\"colorbar\": {\"outlinewidth\": 0, \"ticks\": \"\"}}, \"type\": \"scatterpolargl\"}], \"scatterternary\": [{\"marker\": {\"colorbar\": {\"outlinewidth\": 0, \"ticks\": \"\"}}, \"type\": \"scatterternary\"}], \"surface\": [{\"colorbar\": {\"outlinewidth\": 0, \"ticks\": \"\"}, \"colorscale\": [[0.0, \"#0d0887\"], [0.1111111111111111, \"#46039f\"], [0.2222222222222222, \"#7201a8\"], [0.3333333333333333, \"#9c179e\"], [0.4444444444444444, \"#bd3786\"], [0.5555555555555556, \"#d8576b\"], [0.6666666666666666, \"#ed7953\"], [0.7777777777777778, \"#fb9f3a\"], [0.8888888888888888, \"#fdca26\"], [1.0, \"#f0f921\"]], \"type\": \"surface\"}], \"table\": [{\"cells\": {\"fill\": {\"color\": \"#EBF0F8\"}, \"line\": {\"color\": \"white\"}}, \"header\": {\"fill\": {\"color\": \"#C8D4E3\"}, \"line\": {\"color\": \"white\"}}, \"type\": \"table\"}]}, \"layout\": {\"annotationdefaults\": {\"arrowcolor\": \"#2a3f5f\", \"arrowhead\": 0, \"arrowwidth\": 1}, \"autotypenumbers\": \"strict\", \"coloraxis\": {\"colorbar\": {\"outlinewidth\": 0, \"ticks\": \"\"}}, \"colorscale\": {\"diverging\": [[0, \"#8e0152\"], [0.1, \"#c51b7d\"], [0.2, \"#de77ae\"], [0.3, \"#f1b6da\"], [0.4, \"#fde0ef\"], [0.5, \"#f7f7f7\"], [0.6, \"#e6f5d0\"], [0.7, \"#b8e186\"], [0.8, \"#7fbc41\"], [0.9, \"#4d9221\"], [1, \"#276419\"]], \"sequential\": [[0.0, \"#0d0887\"], [0.1111111111111111, \"#46039f\"], [0.2222222222222222, \"#7201a8\"], [0.3333333333333333, \"#9c179e\"], [0.4444444444444444, \"#bd3786\"], [0.5555555555555556, \"#d8576b\"], [0.6666666666666666, \"#ed7953\"], [0.7777777777777778, \"#fb9f3a\"], [0.8888888888888888, \"#fdca26\"], [1.0, \"#f0f921\"]], \"sequentialminus\": [[0.0, \"#0d0887\"], [0.1111111111111111, \"#46039f\"], [0.2222222222222222, \"#7201a8\"], [0.3333333333333333, \"#9c179e\"], [0.4444444444444444, \"#bd3786\"], [0.5555555555555556, \"#d8576b\"], [0.6666666666666666, \"#ed7953\"], [0.7777777777777778, \"#fb9f3a\"], [0.8888888888888888, \"#fdca26\"], [1.0, \"#f0f921\"]]}, \"colorway\": [\"#636efa\", \"#EF553B\", \"#00cc96\", \"#ab63fa\", \"#FFA15A\", \"#19d3f3\", \"#FF6692\", \"#B6E880\", \"#FF97FF\", \"#FECB52\"], \"font\": {\"color\": \"#2a3f5f\"}, \"geo\": {\"bgcolor\": \"white\", \"lakecolor\": \"white\", \"landcolor\": \"#E5ECF6\", \"showlakes\": true, \"showland\": true, \"subunitcolor\": \"white\"}, \"hoverlabel\": {\"align\": \"left\"}, \"hovermode\": \"closest\", \"mapbox\": {\"style\": \"light\"}, \"paper_bgcolor\": \"white\", \"plot_bgcolor\": \"#E5ECF6\", \"polar\": {\"angularaxis\": {\"gridcolor\": \"white\", \"linecolor\": \"white\", \"ticks\": \"\"}, \"bgcolor\": \"#E5ECF6\", \"radialaxis\": {\"gridcolor\": \"white\", \"linecolor\": \"white\", \"ticks\": \"\"}}, \"scene\": {\"xaxis\": {\"backgroundcolor\": \"#E5ECF6\", \"gridcolor\": \"white\", \"gridwidth\": 2, \"linecolor\": \"white\", \"showbackground\": true, \"ticks\": \"\", \"zerolinecolor\": \"white\"}, \"yaxis\": {\"backgroundcolor\": \"#E5ECF6\", \"gridcolor\": \"white\", \"gridwidth\": 2, \"linecolor\": \"white\", \"showbackground\": true, \"ticks\": \"\", \"zerolinecolor\": \"white\"}, \"zaxis\": {\"backgroundcolor\": \"#E5ECF6\", \"gridcolor\": \"white\", \"gridwidth\": 2, \"linecolor\": \"white\", \"showbackground\": true, \"ticks\": \"\", \"zerolinecolor\": \"white\"}}, \"shapedefaults\": {\"line\": {\"color\": \"#2a3f5f\"}}, \"ternary\": {\"aaxis\": {\"gridcolor\": \"white\", \"linecolor\": \"white\", \"ticks\": \"\"}, \"baxis\": {\"gridcolor\": \"white\", \"linecolor\": \"white\", \"ticks\": \"\"}, \"bgcolor\": \"#E5ECF6\", \"caxis\": {\"gridcolor\": \"white\", \"linecolor\": \"white\", \"ticks\": \"\"}}, \"title\": {\"x\": 0.05}, \"xaxis\": {\"automargin\": true, \"gridcolor\": \"white\", \"linecolor\": \"white\", \"ticks\": \"\", \"title\": {\"standoff\": 15}, \"zerolinecolor\": \"white\", \"zerolinewidth\": 2}, \"yaxis\": {\"automargin\": true, \"gridcolor\": \"white\", \"linecolor\": \"white\", \"ticks\": \"\", \"title\": {\"standoff\": 15}, \"zerolinecolor\": \"white\", \"zerolinewidth\": 2}}}, \"xaxis\": {\"anchor\": \"y\", \"domain\": [0.0, 1.0], \"title\": {\"text\": \"created_at\"}}, \"yaxis\": {\"anchor\": \"x\", \"domain\": [0.0, 1.0], \"title\": {\"text\": \"value\"}}},                        {\"responsive\": true}                    ).then(function(){\n                            \nvar gd = document.getElementById('34ee271d-a017-496e-a9ba-5764911f80ab');\nvar x = new MutationObserver(function (mutations, observer) {{\n        var display = window.getComputedStyle(gd).display;\n        if (!display || display === 'none') {{\n            console.log([gd, 'removed!']);\n            Plotly.purge(gd);\n            observer.disconnect();\n        }}\n}});\n\n// Listen for the removal of the full notebook cells\nvar notebookContainer = gd.closest('#notebook-container');\nif (notebookContainer) {{\n    x.observe(notebookContainer, {childList: true});\n}}\n\n// Listen for the clearing of the current output cell\nvar outputEl = gd.closest('.output');\nif (outputEl) {{\n    x.observe(outputEl, {childList: true});\n}}\n\n                        })                };                });            </script>        </div>"
     },
     "metadata": {},
     "output_type": "display_data"
    }
   ],
   "source": [
    "# split the tweets by day\n",
    "ddf = df.resample('D')\n",
    "# sum the daily amount of tweets\n",
    "sum_df = ddf.sum()[candidate_list].iloc[1:-1]\n",
    "# plot the raw daily amount per candidate\n",
    "fig = px.bar(sum_df, color_discrete_sequence=px.colors.qualitative.Alphabet)\n",
    "fig.write_html('bar_plot.html')\n",
    "fig.show()"
   ],
   "metadata": {
    "collapsed": false,
    "pycharm": {
     "name": "#%%\n"
    }
   }
  },
  {
   "cell_type": "code",
   "execution_count": 47,
   "metadata": {
    "pycharm": {
     "name": "#%%\n"
    }
   },
   "outputs": [
    {
     "data": {
      "application/vnd.plotly.v1+json": {
       "config": {
        "plotlyServerURL": "https://plot.ly"
       },
       "data": [
        {
         "marker": {
          "color": "#AA0DFE"
         },
         "name": "יאיר לפיד",
         "type": "bar",
         "x": [
          "2021-03-30T00:00:00+00:00",
          "2021-03-31T00:00:00+00:00",
          "2021-04-01T00:00:00+00:00",
          "2021-04-02T00:00:00+00:00",
          "2021-04-03T00:00:00+00:00",
          "2021-04-04T00:00:00+00:00",
          "2021-04-05T00:00:00+00:00"
         ],
         "y": [
          313,
          304,
          235,
          102,
          114,
          187,
          560
         ]
        },
        {
         "marker": {
          "color": "#3283FE"
         },
         "name": "בני גנץ",
         "type": "bar",
         "x": [
          "2021-03-30T00:00:00+00:00",
          "2021-03-31T00:00:00+00:00",
          "2021-04-01T00:00:00+00:00",
          "2021-04-02T00:00:00+00:00",
          "2021-04-03T00:00:00+00:00",
          "2021-04-04T00:00:00+00:00",
          "2021-04-05T00:00:00+00:00"
         ],
         "y": [
          394,
          279,
          154,
          90,
          76,
          157,
          234
         ]
        },
        {
         "marker": {
          "color": "#85660D"
         },
         "name": "בצלאל סמוטריץ",
         "type": "bar",
         "x": [
          "2021-03-30T00:00:00+00:00",
          "2021-03-31T00:00:00+00:00",
          "2021-04-01T00:00:00+00:00",
          "2021-04-02T00:00:00+00:00",
          "2021-04-03T00:00:00+00:00",
          "2021-04-04T00:00:00+00:00",
          "2021-04-05T00:00:00+00:00"
         ],
         "y": [
          17,
          25,
          36,
          35,
          22,
          39,
          42
         ]
        },
        {
         "marker": {
          "color": "#782AB6"
         },
         "name": "נפתלי בנט",
         "type": "bar",
         "x": [
          "2021-03-30T00:00:00+00:00",
          "2021-03-31T00:00:00+00:00",
          "2021-04-01T00:00:00+00:00",
          "2021-04-02T00:00:00+00:00",
          "2021-04-03T00:00:00+00:00",
          "2021-04-04T00:00:00+00:00",
          "2021-04-05T00:00:00+00:00"
         ],
         "y": [
          162,
          315,
          294,
          172,
          145,
          257,
          350
         ]
        },
        {
         "marker": {
          "color": "#565656"
         },
         "name": "מרב מיכאלי",
         "type": "bar",
         "x": [
          "2021-03-30T00:00:00+00:00",
          "2021-03-31T00:00:00+00:00",
          "2021-04-01T00:00:00+00:00",
          "2021-04-02T00:00:00+00:00",
          "2021-04-03T00:00:00+00:00",
          "2021-04-04T00:00:00+00:00",
          "2021-04-05T00:00:00+00:00"
         ],
         "y": [
          66,
          59,
          46,
          46,
          32,
          54,
          53
         ]
        },
        {
         "marker": {
          "color": "#1C8356"
         },
         "name": "גדעון סער",
         "type": "bar",
         "x": [
          "2021-03-30T00:00:00+00:00",
          "2021-03-31T00:00:00+00:00",
          "2021-04-01T00:00:00+00:00",
          "2021-04-02T00:00:00+00:00",
          "2021-04-03T00:00:00+00:00",
          "2021-04-04T00:00:00+00:00",
          "2021-04-05T00:00:00+00:00"
         ],
         "y": [
          187,
          541,
          279,
          182,
          112,
          480,
          669
         ]
        },
        {
         "marker": {
          "color": "#16FF32"
         },
         "name": "בניימין נתניהו",
         "type": "bar",
         "x": [
          "2021-03-30T00:00:00+00:00",
          "2021-03-31T00:00:00+00:00",
          "2021-04-01T00:00:00+00:00",
          "2021-04-02T00:00:00+00:00",
          "2021-04-03T00:00:00+00:00",
          "2021-04-04T00:00:00+00:00",
          "2021-04-05T00:00:00+00:00"
         ],
         "y": [
          1,
          1,
          0,
          0,
          0,
          2,
          1
         ]
        },
        {
         "marker": {
          "color": "#F7E1A0"
         },
         "name": "ירון זליכה",
         "type": "bar",
         "x": [
          "2021-03-30T00:00:00+00:00",
          "2021-03-31T00:00:00+00:00",
          "2021-04-01T00:00:00+00:00",
          "2021-04-02T00:00:00+00:00",
          "2021-04-03T00:00:00+00:00",
          "2021-04-04T00:00:00+00:00",
          "2021-04-05T00:00:00+00:00"
         ],
         "y": [
          16,
          9,
          4,
          0,
          3,
          4,
          11
         ]
        },
        {
         "marker": {
          "color": "#E2E2E2"
         },
         "name": "ניצן הורוביץ",
         "type": "bar",
         "x": [
          "2021-03-30T00:00:00+00:00",
          "2021-03-31T00:00:00+00:00",
          "2021-04-01T00:00:00+00:00",
          "2021-04-02T00:00:00+00:00",
          "2021-04-03T00:00:00+00:00",
          "2021-04-04T00:00:00+00:00",
          "2021-04-05T00:00:00+00:00"
         ],
         "y": [
          29,
          28,
          14,
          26,
          10,
          10,
          37
         ]
        },
        {
         "marker": {
          "color": "#1CBE4F"
         },
         "name": "אריה דרעי",
         "type": "bar",
         "x": [
          "2021-03-30T00:00:00+00:00",
          "2021-03-31T00:00:00+00:00",
          "2021-04-01T00:00:00+00:00",
          "2021-04-02T00:00:00+00:00",
          "2021-04-03T00:00:00+00:00",
          "2021-04-04T00:00:00+00:00",
          "2021-04-05T00:00:00+00:00"
         ],
         "y": [
          54,
          51,
          54,
          20,
          19,
          26,
          45
         ]
        },
        {
         "marker": {
          "color": "#C4451C"
         },
         "name": "משה גפני",
         "type": "bar",
         "x": [
          "2021-03-30T00:00:00+00:00",
          "2021-03-31T00:00:00+00:00",
          "2021-04-01T00:00:00+00:00",
          "2021-04-02T00:00:00+00:00",
          "2021-04-03T00:00:00+00:00",
          "2021-04-04T00:00:00+00:00",
          "2021-04-05T00:00:00+00:00"
         ],
         "y": [
          25,
          3,
          9,
          6,
          0,
          9,
          16
         ]
        },
        {
         "marker": {
          "color": "#DEA0FD"
         },
         "name": "אביגדור ליברמן",
         "type": "bar",
         "x": [
          "2021-03-30T00:00:00+00:00",
          "2021-03-31T00:00:00+00:00",
          "2021-04-01T00:00:00+00:00",
          "2021-04-02T00:00:00+00:00",
          "2021-04-03T00:00:00+00:00",
          "2021-04-04T00:00:00+00:00",
          "2021-04-05T00:00:00+00:00"
         ],
         "y": [
          28,
          26,
          24,
          16,
          4,
          11,
          21
         ]
        },
        {
         "marker": {
          "color": "#FE00FA"
         },
         "name": "איימן עודה",
         "type": "bar",
         "x": [
          "2021-03-30T00:00:00+00:00",
          "2021-03-31T00:00:00+00:00",
          "2021-04-01T00:00:00+00:00",
          "2021-04-02T00:00:00+00:00",
          "2021-04-03T00:00:00+00:00",
          "2021-04-04T00:00:00+00:00",
          "2021-04-05T00:00:00+00:00"
         ],
         "y": [
          39,
          32,
          155,
          59,
          21,
          14,
          41
         ]
        },
        {
         "marker": {
          "color": "#325A9B"
         },
         "name": "מנסור עבאס",
         "type": "bar",
         "x": [
          "2021-03-30T00:00:00+00:00",
          "2021-03-31T00:00:00+00:00",
          "2021-04-01T00:00:00+00:00",
          "2021-04-02T00:00:00+00:00",
          "2021-04-03T00:00:00+00:00",
          "2021-04-04T00:00:00+00:00",
          "2021-04-05T00:00:00+00:00"
         ],
         "y": [
          506,
          504,
          1463,
          801,
          206,
          254,
          191
         ]
        }
       ],
       "layout": {
        "barmode": "group",
        "template": {
         "data": {
          "bar": [
           {
            "error_x": {
             "color": "#2a3f5f"
            },
            "error_y": {
             "color": "#2a3f5f"
            },
            "marker": {
             "line": {
              "color": "#E5ECF6",
              "width": 0.5
             }
            },
            "type": "bar"
           }
          ],
          "barpolar": [
           {
            "marker": {
             "line": {
              "color": "#E5ECF6",
              "width": 0.5
             }
            },
            "type": "barpolar"
           }
          ],
          "carpet": [
           {
            "aaxis": {
             "endlinecolor": "#2a3f5f",
             "gridcolor": "white",
             "linecolor": "white",
             "minorgridcolor": "white",
             "startlinecolor": "#2a3f5f"
            },
            "baxis": {
             "endlinecolor": "#2a3f5f",
             "gridcolor": "white",
             "linecolor": "white",
             "minorgridcolor": "white",
             "startlinecolor": "#2a3f5f"
            },
            "type": "carpet"
           }
          ],
          "choropleth": [
           {
            "colorbar": {
             "outlinewidth": 0,
             "ticks": ""
            },
            "type": "choropleth"
           }
          ],
          "contour": [
           {
            "colorbar": {
             "outlinewidth": 0,
             "ticks": ""
            },
            "colorscale": [
             [
              0.0,
              "#0d0887"
             ],
             [
              0.1111111111111111,
              "#46039f"
             ],
             [
              0.2222222222222222,
              "#7201a8"
             ],
             [
              0.3333333333333333,
              "#9c179e"
             ],
             [
              0.4444444444444444,
              "#bd3786"
             ],
             [
              0.5555555555555556,
              "#d8576b"
             ],
             [
              0.6666666666666666,
              "#ed7953"
             ],
             [
              0.7777777777777778,
              "#fb9f3a"
             ],
             [
              0.8888888888888888,
              "#fdca26"
             ],
             [
              1.0,
              "#f0f921"
             ]
            ],
            "type": "contour"
           }
          ],
          "contourcarpet": [
           {
            "colorbar": {
             "outlinewidth": 0,
             "ticks": ""
            },
            "type": "contourcarpet"
           }
          ],
          "heatmap": [
           {
            "colorbar": {
             "outlinewidth": 0,
             "ticks": ""
            },
            "colorscale": [
             [
              0.0,
              "#0d0887"
             ],
             [
              0.1111111111111111,
              "#46039f"
             ],
             [
              0.2222222222222222,
              "#7201a8"
             ],
             [
              0.3333333333333333,
              "#9c179e"
             ],
             [
              0.4444444444444444,
              "#bd3786"
             ],
             [
              0.5555555555555556,
              "#d8576b"
             ],
             [
              0.6666666666666666,
              "#ed7953"
             ],
             [
              0.7777777777777778,
              "#fb9f3a"
             ],
             [
              0.8888888888888888,
              "#fdca26"
             ],
             [
              1.0,
              "#f0f921"
             ]
            ],
            "type": "heatmap"
           }
          ],
          "heatmapgl": [
           {
            "colorbar": {
             "outlinewidth": 0,
             "ticks": ""
            },
            "colorscale": [
             [
              0.0,
              "#0d0887"
             ],
             [
              0.1111111111111111,
              "#46039f"
             ],
             [
              0.2222222222222222,
              "#7201a8"
             ],
             [
              0.3333333333333333,
              "#9c179e"
             ],
             [
              0.4444444444444444,
              "#bd3786"
             ],
             [
              0.5555555555555556,
              "#d8576b"
             ],
             [
              0.6666666666666666,
              "#ed7953"
             ],
             [
              0.7777777777777778,
              "#fb9f3a"
             ],
             [
              0.8888888888888888,
              "#fdca26"
             ],
             [
              1.0,
              "#f0f921"
             ]
            ],
            "type": "heatmapgl"
           }
          ],
          "histogram": [
           {
            "marker": {
             "colorbar": {
              "outlinewidth": 0,
              "ticks": ""
             }
            },
            "type": "histogram"
           }
          ],
          "histogram2d": [
           {
            "colorbar": {
             "outlinewidth": 0,
             "ticks": ""
            },
            "colorscale": [
             [
              0.0,
              "#0d0887"
             ],
             [
              0.1111111111111111,
              "#46039f"
             ],
             [
              0.2222222222222222,
              "#7201a8"
             ],
             [
              0.3333333333333333,
              "#9c179e"
             ],
             [
              0.4444444444444444,
              "#bd3786"
             ],
             [
              0.5555555555555556,
              "#d8576b"
             ],
             [
              0.6666666666666666,
              "#ed7953"
             ],
             [
              0.7777777777777778,
              "#fb9f3a"
             ],
             [
              0.8888888888888888,
              "#fdca26"
             ],
             [
              1.0,
              "#f0f921"
             ]
            ],
            "type": "histogram2d"
           }
          ],
          "histogram2dcontour": [
           {
            "colorbar": {
             "outlinewidth": 0,
             "ticks": ""
            },
            "colorscale": [
             [
              0.0,
              "#0d0887"
             ],
             [
              0.1111111111111111,
              "#46039f"
             ],
             [
              0.2222222222222222,
              "#7201a8"
             ],
             [
              0.3333333333333333,
              "#9c179e"
             ],
             [
              0.4444444444444444,
              "#bd3786"
             ],
             [
              0.5555555555555556,
              "#d8576b"
             ],
             [
              0.6666666666666666,
              "#ed7953"
             ],
             [
              0.7777777777777778,
              "#fb9f3a"
             ],
             [
              0.8888888888888888,
              "#fdca26"
             ],
             [
              1.0,
              "#f0f921"
             ]
            ],
            "type": "histogram2dcontour"
           }
          ],
          "mesh3d": [
           {
            "colorbar": {
             "outlinewidth": 0,
             "ticks": ""
            },
            "type": "mesh3d"
           }
          ],
          "parcoords": [
           {
            "line": {
             "colorbar": {
              "outlinewidth": 0,
              "ticks": ""
             }
            },
            "type": "parcoords"
           }
          ],
          "pie": [
           {
            "automargin": true,
            "type": "pie"
           }
          ],
          "scatter": [
           {
            "marker": {
             "colorbar": {
              "outlinewidth": 0,
              "ticks": ""
             }
            },
            "type": "scatter"
           }
          ],
          "scatter3d": [
           {
            "line": {
             "colorbar": {
              "outlinewidth": 0,
              "ticks": ""
             }
            },
            "marker": {
             "colorbar": {
              "outlinewidth": 0,
              "ticks": ""
             }
            },
            "type": "scatter3d"
           }
          ],
          "scattercarpet": [
           {
            "marker": {
             "colorbar": {
              "outlinewidth": 0,
              "ticks": ""
             }
            },
            "type": "scattercarpet"
           }
          ],
          "scattergeo": [
           {
            "marker": {
             "colorbar": {
              "outlinewidth": 0,
              "ticks": ""
             }
            },
            "type": "scattergeo"
           }
          ],
          "scattergl": [
           {
            "marker": {
             "colorbar": {
              "outlinewidth": 0,
              "ticks": ""
             }
            },
            "type": "scattergl"
           }
          ],
          "scattermapbox": [
           {
            "marker": {
             "colorbar": {
              "outlinewidth": 0,
              "ticks": ""
             }
            },
            "type": "scattermapbox"
           }
          ],
          "scatterpolar": [
           {
            "marker": {
             "colorbar": {
              "outlinewidth": 0,
              "ticks": ""
             }
            },
            "type": "scatterpolar"
           }
          ],
          "scatterpolargl": [
           {
            "marker": {
             "colorbar": {
              "outlinewidth": 0,
              "ticks": ""
             }
            },
            "type": "scatterpolargl"
           }
          ],
          "scatterternary": [
           {
            "marker": {
             "colorbar": {
              "outlinewidth": 0,
              "ticks": ""
             }
            },
            "type": "scatterternary"
           }
          ],
          "surface": [
           {
            "colorbar": {
             "outlinewidth": 0,
             "ticks": ""
            },
            "colorscale": [
             [
              0.0,
              "#0d0887"
             ],
             [
              0.1111111111111111,
              "#46039f"
             ],
             [
              0.2222222222222222,
              "#7201a8"
             ],
             [
              0.3333333333333333,
              "#9c179e"
             ],
             [
              0.4444444444444444,
              "#bd3786"
             ],
             [
              0.5555555555555556,
              "#d8576b"
             ],
             [
              0.6666666666666666,
              "#ed7953"
             ],
             [
              0.7777777777777778,
              "#fb9f3a"
             ],
             [
              0.8888888888888888,
              "#fdca26"
             ],
             [
              1.0,
              "#f0f921"
             ]
            ],
            "type": "surface"
           }
          ],
          "table": [
           {
            "cells": {
             "fill": {
              "color": "#EBF0F8"
             },
             "line": {
              "color": "white"
             }
            },
            "header": {
             "fill": {
              "color": "#C8D4E3"
             },
             "line": {
              "color": "white"
             }
            },
            "type": "table"
           }
          ]
         },
         "layout": {
          "annotationdefaults": {
           "arrowcolor": "#2a3f5f",
           "arrowhead": 0,
           "arrowwidth": 1
          },
          "autotypenumbers": "strict",
          "coloraxis": {
           "colorbar": {
            "outlinewidth": 0,
            "ticks": ""
           }
          },
          "colorscale": {
           "diverging": [
            [
             0,
             "#8e0152"
            ],
            [
             0.1,
             "#c51b7d"
            ],
            [
             0.2,
             "#de77ae"
            ],
            [
             0.3,
             "#f1b6da"
            ],
            [
             0.4,
             "#fde0ef"
            ],
            [
             0.5,
             "#f7f7f7"
            ],
            [
             0.6,
             "#e6f5d0"
            ],
            [
             0.7,
             "#b8e186"
            ],
            [
             0.8,
             "#7fbc41"
            ],
            [
             0.9,
             "#4d9221"
            ],
            [
             1,
             "#276419"
            ]
           ],
           "sequential": [
            [
             0.0,
             "#0d0887"
            ],
            [
             0.1111111111111111,
             "#46039f"
            ],
            [
             0.2222222222222222,
             "#7201a8"
            ],
            [
             0.3333333333333333,
             "#9c179e"
            ],
            [
             0.4444444444444444,
             "#bd3786"
            ],
            [
             0.5555555555555556,
             "#d8576b"
            ],
            [
             0.6666666666666666,
             "#ed7953"
            ],
            [
             0.7777777777777778,
             "#fb9f3a"
            ],
            [
             0.8888888888888888,
             "#fdca26"
            ],
            [
             1.0,
             "#f0f921"
            ]
           ],
           "sequentialminus": [
            [
             0.0,
             "#0d0887"
            ],
            [
             0.1111111111111111,
             "#46039f"
            ],
            [
             0.2222222222222222,
             "#7201a8"
            ],
            [
             0.3333333333333333,
             "#9c179e"
            ],
            [
             0.4444444444444444,
             "#bd3786"
            ],
            [
             0.5555555555555556,
             "#d8576b"
            ],
            [
             0.6666666666666666,
             "#ed7953"
            ],
            [
             0.7777777777777778,
             "#fb9f3a"
            ],
            [
             0.8888888888888888,
             "#fdca26"
            ],
            [
             1.0,
             "#f0f921"
            ]
           ]
          },
          "colorway": [
           "#636efa",
           "#EF553B",
           "#00cc96",
           "#ab63fa",
           "#FFA15A",
           "#19d3f3",
           "#FF6692",
           "#B6E880",
           "#FF97FF",
           "#FECB52"
          ],
          "font": {
           "color": "#2a3f5f"
          },
          "geo": {
           "bgcolor": "white",
           "lakecolor": "white",
           "landcolor": "#E5ECF6",
           "showlakes": true,
           "showland": true,
           "subunitcolor": "white"
          },
          "hoverlabel": {
           "align": "left"
          },
          "hovermode": "closest",
          "mapbox": {
           "style": "light"
          },
          "paper_bgcolor": "white",
          "plot_bgcolor": "#E5ECF6",
          "polar": {
           "angularaxis": {
            "gridcolor": "white",
            "linecolor": "white",
            "ticks": ""
           },
           "bgcolor": "#E5ECF6",
           "radialaxis": {
            "gridcolor": "white",
            "linecolor": "white",
            "ticks": ""
           }
          },
          "scene": {
           "xaxis": {
            "backgroundcolor": "#E5ECF6",
            "gridcolor": "white",
            "gridwidth": 2,
            "linecolor": "white",
            "showbackground": true,
            "ticks": "",
            "zerolinecolor": "white"
           },
           "yaxis": {
            "backgroundcolor": "#E5ECF6",
            "gridcolor": "white",
            "gridwidth": 2,
            "linecolor": "white",
            "showbackground": true,
            "ticks": "",
            "zerolinecolor": "white"
           },
           "zaxis": {
            "backgroundcolor": "#E5ECF6",
            "gridcolor": "white",
            "gridwidth": 2,
            "linecolor": "white",
            "showbackground": true,
            "ticks": "",
            "zerolinecolor": "white"
           }
          },
          "shapedefaults": {
           "line": {
            "color": "#2a3f5f"
           }
          },
          "ternary": {
           "aaxis": {
            "gridcolor": "white",
            "linecolor": "white",
            "ticks": ""
           },
           "baxis": {
            "gridcolor": "white",
            "linecolor": "white",
            "ticks": ""
           },
           "bgcolor": "#E5ECF6",
           "caxis": {
            "gridcolor": "white",
            "linecolor": "white",
            "ticks": ""
           }
          },
          "title": {
           "x": 0.05
          },
          "xaxis": {
           "automargin": true,
           "gridcolor": "white",
           "linecolor": "white",
           "ticks": "",
           "title": {
            "standoff": 15
           },
           "zerolinecolor": "white",
           "zerolinewidth": 2
          },
          "yaxis": {
           "automargin": true,
           "gridcolor": "white",
           "linecolor": "white",
           "ticks": "",
           "title": {
            "standoff": 15
           },
           "zerolinecolor": "white",
           "zerolinewidth": 2
          }
         }
        }
       }
      },
      "text/html": "<div>                            <div id=\"ba8ad2d3-2470-484f-bf40-f73f018ee0bc\" class=\"plotly-graph-div\" style=\"height:525px; width:100%;\"></div>            <script type=\"text/javascript\">                require([\"plotly\"], function(Plotly) {                    window.PLOTLYENV=window.PLOTLYENV || {};                                    if (document.getElementById(\"ba8ad2d3-2470-484f-bf40-f73f018ee0bc\")) {                    Plotly.newPlot(                        \"ba8ad2d3-2470-484f-bf40-f73f018ee0bc\",                        [{\"marker\": {\"color\": \"#AA0DFE\"}, \"name\": \"\\u05d9\\u05d0\\u05d9\\u05e8 \\u05dc\\u05e4\\u05d9\\u05d3\", \"type\": \"bar\", \"x\": [\"2021-03-30T00:00:00+00:00\", \"2021-03-31T00:00:00+00:00\", \"2021-04-01T00:00:00+00:00\", \"2021-04-02T00:00:00+00:00\", \"2021-04-03T00:00:00+00:00\", \"2021-04-04T00:00:00+00:00\", \"2021-04-05T00:00:00+00:00\"], \"y\": [313, 304, 235, 102, 114, 187, 560]}, {\"marker\": {\"color\": \"#3283FE\"}, \"name\": \"\\u05d1\\u05e0\\u05d9 \\u05d2\\u05e0\\u05e5\", \"type\": \"bar\", \"x\": [\"2021-03-30T00:00:00+00:00\", \"2021-03-31T00:00:00+00:00\", \"2021-04-01T00:00:00+00:00\", \"2021-04-02T00:00:00+00:00\", \"2021-04-03T00:00:00+00:00\", \"2021-04-04T00:00:00+00:00\", \"2021-04-05T00:00:00+00:00\"], \"y\": [394, 279, 154, 90, 76, 157, 234]}, {\"marker\": {\"color\": \"#85660D\"}, \"name\": \"\\u05d1\\u05e6\\u05dc\\u05d0\\u05dc \\u05e1\\u05de\\u05d5\\u05d8\\u05e8\\u05d9\\u05e5\", \"type\": \"bar\", \"x\": [\"2021-03-30T00:00:00+00:00\", \"2021-03-31T00:00:00+00:00\", \"2021-04-01T00:00:00+00:00\", \"2021-04-02T00:00:00+00:00\", \"2021-04-03T00:00:00+00:00\", \"2021-04-04T00:00:00+00:00\", \"2021-04-05T00:00:00+00:00\"], \"y\": [17, 25, 36, 35, 22, 39, 42]}, {\"marker\": {\"color\": \"#782AB6\"}, \"name\": \"\\u05e0\\u05e4\\u05ea\\u05dc\\u05d9 \\u05d1\\u05e0\\u05d8\", \"type\": \"bar\", \"x\": [\"2021-03-30T00:00:00+00:00\", \"2021-03-31T00:00:00+00:00\", \"2021-04-01T00:00:00+00:00\", \"2021-04-02T00:00:00+00:00\", \"2021-04-03T00:00:00+00:00\", \"2021-04-04T00:00:00+00:00\", \"2021-04-05T00:00:00+00:00\"], \"y\": [162, 315, 294, 172, 145, 257, 350]}, {\"marker\": {\"color\": \"#565656\"}, \"name\": \"\\u05de\\u05e8\\u05d1 \\u05de\\u05d9\\u05db\\u05d0\\u05dc\\u05d9\", \"type\": \"bar\", \"x\": [\"2021-03-30T00:00:00+00:00\", \"2021-03-31T00:00:00+00:00\", \"2021-04-01T00:00:00+00:00\", \"2021-04-02T00:00:00+00:00\", \"2021-04-03T00:00:00+00:00\", \"2021-04-04T00:00:00+00:00\", \"2021-04-05T00:00:00+00:00\"], \"y\": [66, 59, 46, 46, 32, 54, 53]}, {\"marker\": {\"color\": \"#1C8356\"}, \"name\": \"\\u05d2\\u05d3\\u05e2\\u05d5\\u05df \\u05e1\\u05e2\\u05e8\", \"type\": \"bar\", \"x\": [\"2021-03-30T00:00:00+00:00\", \"2021-03-31T00:00:00+00:00\", \"2021-04-01T00:00:00+00:00\", \"2021-04-02T00:00:00+00:00\", \"2021-04-03T00:00:00+00:00\", \"2021-04-04T00:00:00+00:00\", \"2021-04-05T00:00:00+00:00\"], \"y\": [187, 541, 279, 182, 112, 480, 669]}, {\"marker\": {\"color\": \"#16FF32\"}, \"name\": \"\\u05d1\\u05e0\\u05d9\\u05d9\\u05de\\u05d9\\u05df \\u05e0\\u05ea\\u05e0\\u05d9\\u05d4\\u05d5\", \"type\": \"bar\", \"x\": [\"2021-03-30T00:00:00+00:00\", \"2021-03-31T00:00:00+00:00\", \"2021-04-01T00:00:00+00:00\", \"2021-04-02T00:00:00+00:00\", \"2021-04-03T00:00:00+00:00\", \"2021-04-04T00:00:00+00:00\", \"2021-04-05T00:00:00+00:00\"], \"y\": [1, 1, 0, 0, 0, 2, 1]}, {\"marker\": {\"color\": \"#F7E1A0\"}, \"name\": \"\\u05d9\\u05e8\\u05d5\\u05df \\u05d6\\u05dc\\u05d9\\u05db\\u05d4\", \"type\": \"bar\", \"x\": [\"2021-03-30T00:00:00+00:00\", \"2021-03-31T00:00:00+00:00\", \"2021-04-01T00:00:00+00:00\", \"2021-04-02T00:00:00+00:00\", \"2021-04-03T00:00:00+00:00\", \"2021-04-04T00:00:00+00:00\", \"2021-04-05T00:00:00+00:00\"], \"y\": [16, 9, 4, 0, 3, 4, 11]}, {\"marker\": {\"color\": \"#E2E2E2\"}, \"name\": \"\\u05e0\\u05d9\\u05e6\\u05df \\u05d4\\u05d5\\u05e8\\u05d5\\u05d1\\u05d9\\u05e5\", \"type\": \"bar\", \"x\": [\"2021-03-30T00:00:00+00:00\", \"2021-03-31T00:00:00+00:00\", \"2021-04-01T00:00:00+00:00\", \"2021-04-02T00:00:00+00:00\", \"2021-04-03T00:00:00+00:00\", \"2021-04-04T00:00:00+00:00\", \"2021-04-05T00:00:00+00:00\"], \"y\": [29, 28, 14, 26, 10, 10, 37]}, {\"marker\": {\"color\": \"#1CBE4F\"}, \"name\": \"\\u05d0\\u05e8\\u05d9\\u05d4 \\u05d3\\u05e8\\u05e2\\u05d9\", \"type\": \"bar\", \"x\": [\"2021-03-30T00:00:00+00:00\", \"2021-03-31T00:00:00+00:00\", \"2021-04-01T00:00:00+00:00\", \"2021-04-02T00:00:00+00:00\", \"2021-04-03T00:00:00+00:00\", \"2021-04-04T00:00:00+00:00\", \"2021-04-05T00:00:00+00:00\"], \"y\": [54, 51, 54, 20, 19, 26, 45]}, {\"marker\": {\"color\": \"#C4451C\"}, \"name\": \"\\u05de\\u05e9\\u05d4 \\u05d2\\u05e4\\u05e0\\u05d9\", \"type\": \"bar\", \"x\": [\"2021-03-30T00:00:00+00:00\", \"2021-03-31T00:00:00+00:00\", \"2021-04-01T00:00:00+00:00\", \"2021-04-02T00:00:00+00:00\", \"2021-04-03T00:00:00+00:00\", \"2021-04-04T00:00:00+00:00\", \"2021-04-05T00:00:00+00:00\"], \"y\": [25, 3, 9, 6, 0, 9, 16]}, {\"marker\": {\"color\": \"#DEA0FD\"}, \"name\": \"\\u05d0\\u05d1\\u05d9\\u05d2\\u05d3\\u05d5\\u05e8 \\u05dc\\u05d9\\u05d1\\u05e8\\u05de\\u05df\", \"type\": \"bar\", \"x\": [\"2021-03-30T00:00:00+00:00\", \"2021-03-31T00:00:00+00:00\", \"2021-04-01T00:00:00+00:00\", \"2021-04-02T00:00:00+00:00\", \"2021-04-03T00:00:00+00:00\", \"2021-04-04T00:00:00+00:00\", \"2021-04-05T00:00:00+00:00\"], \"y\": [28, 26, 24, 16, 4, 11, 21]}, {\"marker\": {\"color\": \"#FE00FA\"}, \"name\": \"\\u05d0\\u05d9\\u05d9\\u05de\\u05df \\u05e2\\u05d5\\u05d3\\u05d4\", \"type\": \"bar\", \"x\": [\"2021-03-30T00:00:00+00:00\", \"2021-03-31T00:00:00+00:00\", \"2021-04-01T00:00:00+00:00\", \"2021-04-02T00:00:00+00:00\", \"2021-04-03T00:00:00+00:00\", \"2021-04-04T00:00:00+00:00\", \"2021-04-05T00:00:00+00:00\"], \"y\": [39, 32, 155, 59, 21, 14, 41]}, {\"marker\": {\"color\": \"#325A9B\"}, \"name\": \"\\u05de\\u05e0\\u05e1\\u05d5\\u05e8 \\u05e2\\u05d1\\u05d0\\u05e1\", \"type\": \"bar\", \"x\": [\"2021-03-30T00:00:00+00:00\", \"2021-03-31T00:00:00+00:00\", \"2021-04-01T00:00:00+00:00\", \"2021-04-02T00:00:00+00:00\", \"2021-04-03T00:00:00+00:00\", \"2021-04-04T00:00:00+00:00\", \"2021-04-05T00:00:00+00:00\"], \"y\": [506, 504, 1463, 801, 206, 254, 191]}],                        {\"barmode\": \"group\", \"template\": {\"data\": {\"bar\": [{\"error_x\": {\"color\": \"#2a3f5f\"}, \"error_y\": {\"color\": \"#2a3f5f\"}, \"marker\": {\"line\": {\"color\": \"#E5ECF6\", \"width\": 0.5}}, \"type\": \"bar\"}], \"barpolar\": [{\"marker\": {\"line\": {\"color\": \"#E5ECF6\", \"width\": 0.5}}, \"type\": \"barpolar\"}], \"carpet\": [{\"aaxis\": {\"endlinecolor\": \"#2a3f5f\", \"gridcolor\": \"white\", \"linecolor\": \"white\", \"minorgridcolor\": \"white\", \"startlinecolor\": \"#2a3f5f\"}, \"baxis\": {\"endlinecolor\": \"#2a3f5f\", \"gridcolor\": \"white\", \"linecolor\": \"white\", \"minorgridcolor\": \"white\", \"startlinecolor\": \"#2a3f5f\"}, \"type\": \"carpet\"}], \"choropleth\": [{\"colorbar\": {\"outlinewidth\": 0, \"ticks\": \"\"}, \"type\": \"choropleth\"}], \"contour\": [{\"colorbar\": {\"outlinewidth\": 0, \"ticks\": \"\"}, \"colorscale\": [[0.0, \"#0d0887\"], [0.1111111111111111, \"#46039f\"], [0.2222222222222222, \"#7201a8\"], [0.3333333333333333, \"#9c179e\"], [0.4444444444444444, \"#bd3786\"], [0.5555555555555556, \"#d8576b\"], [0.6666666666666666, \"#ed7953\"], [0.7777777777777778, \"#fb9f3a\"], [0.8888888888888888, \"#fdca26\"], [1.0, \"#f0f921\"]], \"type\": \"contour\"}], \"contourcarpet\": [{\"colorbar\": {\"outlinewidth\": 0, \"ticks\": \"\"}, \"type\": \"contourcarpet\"}], \"heatmap\": [{\"colorbar\": {\"outlinewidth\": 0, \"ticks\": \"\"}, \"colorscale\": [[0.0, \"#0d0887\"], [0.1111111111111111, \"#46039f\"], [0.2222222222222222, \"#7201a8\"], [0.3333333333333333, \"#9c179e\"], [0.4444444444444444, \"#bd3786\"], [0.5555555555555556, \"#d8576b\"], [0.6666666666666666, \"#ed7953\"], [0.7777777777777778, \"#fb9f3a\"], [0.8888888888888888, \"#fdca26\"], [1.0, \"#f0f921\"]], \"type\": \"heatmap\"}], \"heatmapgl\": [{\"colorbar\": {\"outlinewidth\": 0, \"ticks\": \"\"}, \"colorscale\": [[0.0, \"#0d0887\"], [0.1111111111111111, \"#46039f\"], [0.2222222222222222, \"#7201a8\"], [0.3333333333333333, \"#9c179e\"], [0.4444444444444444, \"#bd3786\"], [0.5555555555555556, \"#d8576b\"], [0.6666666666666666, \"#ed7953\"], [0.7777777777777778, \"#fb9f3a\"], [0.8888888888888888, \"#fdca26\"], [1.0, \"#f0f921\"]], \"type\": \"heatmapgl\"}], \"histogram\": [{\"marker\": {\"colorbar\": {\"outlinewidth\": 0, \"ticks\": \"\"}}, \"type\": \"histogram\"}], \"histogram2d\": [{\"colorbar\": {\"outlinewidth\": 0, \"ticks\": \"\"}, \"colorscale\": [[0.0, \"#0d0887\"], [0.1111111111111111, \"#46039f\"], [0.2222222222222222, \"#7201a8\"], [0.3333333333333333, \"#9c179e\"], [0.4444444444444444, \"#bd3786\"], [0.5555555555555556, \"#d8576b\"], [0.6666666666666666, \"#ed7953\"], [0.7777777777777778, \"#fb9f3a\"], [0.8888888888888888, \"#fdca26\"], [1.0, \"#f0f921\"]], \"type\": \"histogram2d\"}], \"histogram2dcontour\": [{\"colorbar\": {\"outlinewidth\": 0, \"ticks\": \"\"}, \"colorscale\": [[0.0, \"#0d0887\"], [0.1111111111111111, \"#46039f\"], [0.2222222222222222, \"#7201a8\"], [0.3333333333333333, \"#9c179e\"], [0.4444444444444444, \"#bd3786\"], [0.5555555555555556, \"#d8576b\"], [0.6666666666666666, \"#ed7953\"], [0.7777777777777778, \"#fb9f3a\"], [0.8888888888888888, \"#fdca26\"], [1.0, \"#f0f921\"]], \"type\": \"histogram2dcontour\"}], \"mesh3d\": [{\"colorbar\": {\"outlinewidth\": 0, \"ticks\": \"\"}, \"type\": \"mesh3d\"}], \"parcoords\": [{\"line\": {\"colorbar\": {\"outlinewidth\": 0, \"ticks\": \"\"}}, \"type\": \"parcoords\"}], \"pie\": [{\"automargin\": true, \"type\": \"pie\"}], \"scatter\": [{\"marker\": {\"colorbar\": {\"outlinewidth\": 0, \"ticks\": \"\"}}, \"type\": \"scatter\"}], \"scatter3d\": [{\"line\": {\"colorbar\": {\"outlinewidth\": 0, \"ticks\": \"\"}}, \"marker\": {\"colorbar\": {\"outlinewidth\": 0, \"ticks\": \"\"}}, \"type\": \"scatter3d\"}], \"scattercarpet\": [{\"marker\": {\"colorbar\": {\"outlinewidth\": 0, \"ticks\": \"\"}}, \"type\": \"scattercarpet\"}], \"scattergeo\": [{\"marker\": {\"colorbar\": {\"outlinewidth\": 0, \"ticks\": \"\"}}, \"type\": \"scattergeo\"}], \"scattergl\": [{\"marker\": {\"colorbar\": {\"outlinewidth\": 0, \"ticks\": \"\"}}, \"type\": \"scattergl\"}], \"scattermapbox\": [{\"marker\": {\"colorbar\": {\"outlinewidth\": 0, \"ticks\": \"\"}}, \"type\": \"scattermapbox\"}], \"scatterpolar\": [{\"marker\": {\"colorbar\": {\"outlinewidth\": 0, \"ticks\": \"\"}}, \"type\": \"scatterpolar\"}], \"scatterpolargl\": [{\"marker\": {\"colorbar\": {\"outlinewidth\": 0, \"ticks\": \"\"}}, \"type\": \"scatterpolargl\"}], \"scatterternary\": [{\"marker\": {\"colorbar\": {\"outlinewidth\": 0, \"ticks\": \"\"}}, \"type\": \"scatterternary\"}], \"surface\": [{\"colorbar\": {\"outlinewidth\": 0, \"ticks\": \"\"}, \"colorscale\": [[0.0, \"#0d0887\"], [0.1111111111111111, \"#46039f\"], [0.2222222222222222, \"#7201a8\"], [0.3333333333333333, \"#9c179e\"], [0.4444444444444444, \"#bd3786\"], [0.5555555555555556, \"#d8576b\"], [0.6666666666666666, \"#ed7953\"], [0.7777777777777778, \"#fb9f3a\"], [0.8888888888888888, \"#fdca26\"], [1.0, \"#f0f921\"]], \"type\": \"surface\"}], \"table\": [{\"cells\": {\"fill\": {\"color\": \"#EBF0F8\"}, \"line\": {\"color\": \"white\"}}, \"header\": {\"fill\": {\"color\": \"#C8D4E3\"}, \"line\": {\"color\": \"white\"}}, \"type\": \"table\"}]}, \"layout\": {\"annotationdefaults\": {\"arrowcolor\": \"#2a3f5f\", \"arrowhead\": 0, \"arrowwidth\": 1}, \"autotypenumbers\": \"strict\", \"coloraxis\": {\"colorbar\": {\"outlinewidth\": 0, \"ticks\": \"\"}}, \"colorscale\": {\"diverging\": [[0, \"#8e0152\"], [0.1, \"#c51b7d\"], [0.2, \"#de77ae\"], [0.3, \"#f1b6da\"], [0.4, \"#fde0ef\"], [0.5, \"#f7f7f7\"], [0.6, \"#e6f5d0\"], [0.7, \"#b8e186\"], [0.8, \"#7fbc41\"], [0.9, \"#4d9221\"], [1, \"#276419\"]], \"sequential\": [[0.0, \"#0d0887\"], [0.1111111111111111, \"#46039f\"], [0.2222222222222222, \"#7201a8\"], [0.3333333333333333, \"#9c179e\"], [0.4444444444444444, \"#bd3786\"], [0.5555555555555556, \"#d8576b\"], [0.6666666666666666, \"#ed7953\"], [0.7777777777777778, \"#fb9f3a\"], [0.8888888888888888, \"#fdca26\"], [1.0, \"#f0f921\"]], \"sequentialminus\": [[0.0, \"#0d0887\"], [0.1111111111111111, \"#46039f\"], [0.2222222222222222, \"#7201a8\"], [0.3333333333333333, \"#9c179e\"], [0.4444444444444444, \"#bd3786\"], [0.5555555555555556, \"#d8576b\"], [0.6666666666666666, \"#ed7953\"], [0.7777777777777778, \"#fb9f3a\"], [0.8888888888888888, \"#fdca26\"], [1.0, \"#f0f921\"]]}, \"colorway\": [\"#636efa\", \"#EF553B\", \"#00cc96\", \"#ab63fa\", \"#FFA15A\", \"#19d3f3\", \"#FF6692\", \"#B6E880\", \"#FF97FF\", \"#FECB52\"], \"font\": {\"color\": \"#2a3f5f\"}, \"geo\": {\"bgcolor\": \"white\", \"lakecolor\": \"white\", \"landcolor\": \"#E5ECF6\", \"showlakes\": true, \"showland\": true, \"subunitcolor\": \"white\"}, \"hoverlabel\": {\"align\": \"left\"}, \"hovermode\": \"closest\", \"mapbox\": {\"style\": \"light\"}, \"paper_bgcolor\": \"white\", \"plot_bgcolor\": \"#E5ECF6\", \"polar\": {\"angularaxis\": {\"gridcolor\": \"white\", \"linecolor\": \"white\", \"ticks\": \"\"}, \"bgcolor\": \"#E5ECF6\", \"radialaxis\": {\"gridcolor\": \"white\", \"linecolor\": \"white\", \"ticks\": \"\"}}, \"scene\": {\"xaxis\": {\"backgroundcolor\": \"#E5ECF6\", \"gridcolor\": \"white\", \"gridwidth\": 2, \"linecolor\": \"white\", \"showbackground\": true, \"ticks\": \"\", \"zerolinecolor\": \"white\"}, \"yaxis\": {\"backgroundcolor\": \"#E5ECF6\", \"gridcolor\": \"white\", \"gridwidth\": 2, \"linecolor\": \"white\", \"showbackground\": true, \"ticks\": \"\", \"zerolinecolor\": \"white\"}, \"zaxis\": {\"backgroundcolor\": \"#E5ECF6\", \"gridcolor\": \"white\", \"gridwidth\": 2, \"linecolor\": \"white\", \"showbackground\": true, \"ticks\": \"\", \"zerolinecolor\": \"white\"}}, \"shapedefaults\": {\"line\": {\"color\": \"#2a3f5f\"}}, \"ternary\": {\"aaxis\": {\"gridcolor\": \"white\", \"linecolor\": \"white\", \"ticks\": \"\"}, \"baxis\": {\"gridcolor\": \"white\", \"linecolor\": \"white\", \"ticks\": \"\"}, \"bgcolor\": \"#E5ECF6\", \"caxis\": {\"gridcolor\": \"white\", \"linecolor\": \"white\", \"ticks\": \"\"}}, \"title\": {\"x\": 0.05}, \"xaxis\": {\"automargin\": true, \"gridcolor\": \"white\", \"linecolor\": \"white\", \"ticks\": \"\", \"title\": {\"standoff\": 15}, \"zerolinecolor\": \"white\", \"zerolinewidth\": 2}, \"yaxis\": {\"automargin\": true, \"gridcolor\": \"white\", \"linecolor\": \"white\", \"ticks\": \"\", \"title\": {\"standoff\": 15}, \"zerolinecolor\": \"white\", \"zerolinewidth\": 2}}}},                        {\"responsive\": true}                    ).then(function(){\n                            \nvar gd = document.getElementById('ba8ad2d3-2470-484f-bf40-f73f018ee0bc');\nvar x = new MutationObserver(function (mutations, observer) {{\n        var display = window.getComputedStyle(gd).display;\n        if (!display || display === 'none') {{\n            console.log([gd, 'removed!']);\n            Plotly.purge(gd);\n            observer.disconnect();\n        }}\n}});\n\n// Listen for the removal of the full notebook cells\nvar notebookContainer = gd.closest('#notebook-container');\nif (notebookContainer) {{\n    x.observe(notebookContainer, {childList: true});\n}}\n\n// Listen for the clearing of the current output cell\nvar outputEl = gd.closest('.output');\nif (outputEl) {{\n    x.observe(outputEl, {childList: true});\n}}\n\n                        })                };                });            </script>        </div>"
     },
     "metadata": {},
     "output_type": "display_data"
    }
   ],
   "source": [
    "palette = cycle(px.colors.qualitative.Alphabet)\n",
    "# plot each candidate side by side\n",
    "fig = go.Figure()\n",
    "for candidate in candidate_list:\n",
    "    fig.add_trace(go.Bar(\n",
    "        x=sum_df.index,\n",
    "        y=sum_df[candidate],\n",
    "        name=candidate,\n",
    "        marker_color=next(palette)\n",
    "    ))\n",
    "fig.update_layout(barmode='group')\n",
    "fig.write_html('stacked_bar_plot.html')\n",
    "fig.show()"
   ]
  }
 ],
 "metadata": {
  "kernelspec": {
   "display_name": "Python 3",
   "language": "python",
   "name": "python3"
  },
  "language_info": {
   "codemirror_mode": {
    "name": "ipython",
    "version": 3
   },
   "file_extension": ".py",
   "mimetype": "text/x-python",
   "name": "python",
   "nbconvert_exporter": "python",
   "pygments_lexer": "ipython3",
   "version": "3.7.1"
  }
 },
 "nbformat": 4,
 "nbformat_minor": 1
}