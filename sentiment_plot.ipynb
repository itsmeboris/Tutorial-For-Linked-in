{
 "cells": [
  {
   "cell_type": "markdown",
   "source": [
    "[![Open In Colab](https://colab.research.google.com/assets/colab-badge.svg)](https://colab.research.google.com/drive/109x8CyqEGEOz0rclgTMgX8a3YRuOiAyG)"
   ],
   "metadata": {
    "collapsed": false
   }
  },
  {
   "cell_type": "markdown",
   "source": [
    "# Tweet sentiment analysis"
   ],
   "metadata": {
    "collapsed": false
   }
  },
  {
   "cell_type": "markdown",
   "source": [
    "## Description and requirements:"
   ],
   "metadata": {
    "collapsed": false
   }
  },
  {
   "cell_type": "markdown",
   "source": [
    "In this notebook, you will learn how to perform sentiment analysis on tweets extracted from Twitter in Python.\n",
    "\n",
    "A requirement for this code to work is to have the English version of the Hedonomoter word list, which can be downloaded from [Hedonometer](https://hedonometer.org/). This dataset contains a list of words, in which each word is assigned a \"happiness score\". This happiness score varies between 1 and 9, with 1 being very negative and 9 being very positive. For example the word `coronavirus` received the value of 1.34, while the word `laughter` received 8.5.\n",
    "\n",
    "The method we will use here to measure the sentiment of one tweet is to add up the happiness scores of each word contained in the tweet and divide the total score by the number of words in the tweet.\n"
   ],
   "metadata": {
    "collapsed": false
   }
  },
  {
   "cell_type": "markdown",
   "source": [
    "### Import modules"
   ],
   "metadata": {
    "collapsed": false
   }
  },
  {
   "cell_type": "code",
   "execution_count": 29,
   "outputs": [
    {
     "name": "stderr",
     "output_type": "stream",
     "text": [
      "e:\\workspace\\python\\python troject\\venv\\lib\\site-packages\\tqdm\\std.py:725: FutureWarning:\n",
      "\n",
      "The Panel class is removed from pandas. Accessing it from the top-level namespace will also be removed in the next version\n",
      "\n"
     ]
    }
   ],
   "source": [
    "import ast\n",
    "import os\n",
    "import re\n",
    "\n",
    "import numpy as np\n",
    "import pandas as pd\n",
    "from tqdm import tqdm\n",
    "import plotly.express as px\n",
    "%matplotlib notebook\n",
    "\n",
    "tqdm.pandas()\n",
    "\n",
    "path_to_data = './data'\n",
    "hedonometer_path = os.path.join(path_to_data, 'Hedonometer_translated.csv')"
   ],
   "metadata": {
    "collapsed": false,
    "pycharm": {
     "name": "#%%\n"
    }
   }
  },
  {
   "cell_type": "code",
   "execution_count": 2,
   "outputs": [
    {
     "data": {
      "text/plain": "'4.14.3'"
     },
     "execution_count": 2,
     "metadata": {},
     "output_type": "execute_result"
    }
   ],
   "source": [
    "import plotly\n",
    "plotly.__version__"
   ],
   "metadata": {
    "collapsed": false,
    "pycharm": {
     "name": "#%%\n"
    }
   }
  },
  {
   "cell_type": "markdown",
   "source": [
    "### Define initial functions\n",
    "We will define a few functions that will be used for the sentiment analysis."
   ],
   "metadata": {
    "collapsed": false
   }
  },
  {
   "cell_type": "markdown",
   "source": [
    "#### sentiment\n",
    "This function will determine the sentiment of a tweet.\n",
    "It will take as an input:\n",
    "- `sentence` which is the tweet to analyze.\n",
    "\n",
    "It then goes over all words in the sentence and compute the average happiness score of all words that appear in the Hedonometer dataset."
   ],
   "metadata": {
    "collapsed": false
   }
  },
  {
   "cell_type": "code",
   "execution_count": 3,
   "outputs": [],
   "source": [
    "def sentiment(sentence):\n",
    "    senti = 0\n",
    "    total = 0\n",
    "    words = sentence.split(\" \")\n",
    "    for word in words:\n",
    "        if word in scores.keys():\n",
    "            senti += scores[word]\n",
    "            total += 1\n",
    "    try:\n",
    "        return senti / total\n",
    "    except ZeroDivisionError:\n",
    "        return 0"
   ],
   "metadata": {
    "collapsed": false,
    "pycharm": {
     "name": "#%%\n"
    }
   }
  },
  {
   "cell_type": "markdown",
   "source": [
    "#### standard_deviation\n",
    "This function will determine the standard deviation of a tweet.\n",
    "In statistics, the standard deviation is a measure of the amount of variation or dispersion of a set of values. A low standard deviation indicates that the values tend to be close to the mean (also called the expected value) of the set, while a high standard deviation indicates that the values are spread out over a wider range.\n",
    "\n",
    "It will take as an input:\n",
    "- `sentence` which is the sentence (Tweet) to analyze\n",
    "\n",
    "It then goes over all words in the sentence and compute the average standard deviation of all words that appear in the Hedonometer dataset."
   ],
   "metadata": {
    "collapsed": false
   }
  },
  {
   "cell_type": "code",
   "execution_count": 4,
   "outputs": [],
   "source": [
    "def standard_deviation(sentence):\n",
    "    standard_deviation = 0\n",
    "    total = 0\n",
    "    words = sentence.split(\" \")\n",
    "    for word in words:\n",
    "        if word in sds.keys():\n",
    "            standard_deviation += sds[word]\n",
    "            total += 1\n",
    "    try:\n",
    "        return standard_deviation / total\n",
    "    except ZeroDivisionError:\n",
    "        return 0"
   ],
   "metadata": {
    "collapsed": false,
    "pycharm": {
     "name": "#%%\n"
    }
   }
  },
  {
   "cell_type": "markdown",
   "source": [
    "#### grab_hits\n",
    "This function will catch all the matched words from the tweet that appear on the hedonometer.\n",
    "\n",
    "It will take as an input:\n",
    "- `sentence` which is the sentence (Tweet) to analyze\n",
    "\n",
    "It then goes over all words in the sentence, tries to match them with the hedonometer list, and returns the ones that were found."
   ],
   "metadata": {
    "collapsed": false
   }
  },
  {
   "cell_type": "code",
   "execution_count": 5,
   "outputs": [],
   "source": [
    "def grab_hits(sentence):\n",
    "    hits = []\n",
    "    words = sentence.split(\" \")\n",
    "    for word in words:\n",
    "        if word in sds.keys():\n",
    "            hits.append(word)\n",
    "    return hits"
   ],
   "metadata": {
    "collapsed": false,
    "pycharm": {
     "name": "#%%\n"
    }
   }
  },
  {
   "cell_type": "markdown",
   "source": [
    "Now, we would like to do this for each of the tweets in our df. To do this, we will use the `apply` method of a df.\n",
    "This method will run the functions `sentiment`, `standard_deviation`, and `grab_hits` on each of the tweets.\n",
    "After running, it will convert the result to a Pandas series and return it."
   ],
   "metadata": {
    "collapsed": false
   }
  },
  {
   "cell_type": "code",
   "execution_count": 6,
   "outputs": [],
   "source": [
    "# Run sentiment on each tweet\n",
    "def return_sentiment(df):\n",
    "    return pd.Series(df[\"clean_text\"].apply(lambda x: sentiment(x)))\n",
    "\n",
    "# Run standard_deviation on each tweet\n",
    "def return_standard_deviation(df):\n",
    "    return pd.Series(df[\"clean_text\"].apply(lambda x: standard_deviation(x)))\n",
    "\n",
    "# Run grab_hits on each tweet\n",
    "def return_hits(df):\n",
    "    return pd.Series(df[\"clean_text\"].apply(lambda x: grab_hits(x)))"
   ],
   "metadata": {
    "collapsed": false,
    "pycharm": {
     "name": "#%%\n"
    }
   }
  },
  {
   "cell_type": "markdown",
   "source": [
    "### Define cleaning functions"
   ],
   "metadata": {
    "collapsed": false
   }
  },
  {
   "cell_type": "markdown",
   "source": [
    "In order to clean our tweets from URLs, prefixes and more, we will define the following functions:"
   ],
   "metadata": {
    "collapsed": false
   }
  },
  {
   "cell_type": "markdown",
   "source": [
    "#### remove_pattern\n",
    "This function will remove a given pattern from the text using regular expression.\n",
    "\n",
    "It will take as an input:\n",
    "- `input_txt` The input text to remove\n",
    "- `pattern` The pattern to remove\n",
    "\n",
    "It will then return the cleaned text."
   ],
   "metadata": {
    "collapsed": false
   }
  },
  {
   "cell_type": "code",
   "execution_count": 7,
   "outputs": [],
   "source": [
    "def remove_pattern(input_txt, pattern):\n",
    "    r = re.findall(pattern, input_txt)\n",
    "    for i in r:\n",
    "        input_txt = re.sub(i, '', input_txt)\n",
    "    return input_txt"
   ],
   "metadata": {
    "collapsed": false,
    "pycharm": {
     "name": "#%%\n"
    }
   }
  },
  {
   "cell_type": "markdown",
   "source": [
    "#### remove_prefix\n",
    "This function will remove a prefix from a given text.\n",
    "\n",
    "It will receive as input:\n",
    "- `text` The text to remove the prefix from\n",
    "- `prefix` The prefix to remove\n",
    "\n",
    "It will then return the cleaned text."
   ],
   "metadata": {
    "collapsed": false
   }
  },
  {
   "cell_type": "code",
   "execution_count": 8,
   "outputs": [],
   "source": [
    "def remove_prefix(text, prefix):\n",
    "    if text.startswith(prefix):\n",
    "        text = text.replace(prefix, \"\", 1)\n",
    "    return text"
   ],
   "metadata": {
    "collapsed": false,
    "pycharm": {
     "name": "#%%\n"
    }
   }
  },
  {
   "cell_type": "markdown",
   "source": [
    "#### clean_and_sentiment\n",
    "It will clean the tweets from the df using the above functions.\n",
    "This function will receive:\n",
    "- `df` the DataFrame containing all the tweets\n",
    "\n",
    "It will create a new column called `clean_text` in the df that will contain all the clean and translated tweets."
   ],
   "metadata": {
    "collapsed": false
   }
  },
  {
   "cell_type": "code",
   "execution_count": 9,
   "outputs": [],
   "source": [
    "def clean_and_sentiment(df):\n",
    "    # Remove all url's from the tweet\n",
    "    df['clean_text'] = df['text'].str.replace('http\\S+|www.\\S+', '', case=False)\n",
    "    # Remove all \\n from text\n",
    "    df['clean_text'] = np.vectorize(remove_pattern)(df['clean_text'], \"\\n\")\n",
    "    # Remove all @ tags\n",
    "    df['clean_text'] = np.vectorize(remove_pattern)(df['clean_text'], \"@[\\w]*\")\n",
    "    # Remove all RT prefix\n",
    "    df['clean_text'] = df['clean_text'].apply(lambda x: remove_prefix(x, \"RT : \"))\n",
    "    # remove all # tags\n",
    "    df['clean_text'] = np.vectorize(remove_pattern)(df['clean_text'], r\"#(\\w+)\")\n",
    "    # Remove all # from it\n",
    "    df['clean_text'] = df['clean_text'].str.replace('#', '')\n",
    "    # Make the string lower case\n",
    "    df['clean_text'] = df['clean_text'].str.lower()\n",
    "    # remove all the punctuation\n",
    "    df['clean_text'] = df.clean_text.str.replace(r'[^\\w\\s]', '')\n",
    "    # If some tweets were left empty then remove them\n",
    "    df = df[df['clean_text'] != '']\n",
    "    # Run the hedonometer on the tweets\n",
    "    df[\"hedonometer\"] = return_sentiment(df)\n",
    "    # Clear all tweets with no score\n",
    "    df = df[df[\"hedonometer\"] != 0]\n",
    "    # Calculate the standard deviation for each tweets sentiment\n",
    "    df[\"hedo_sd\"] = return_standard_deviation(df)\n",
    "    # Run function to pull the words from each tweet that determine sentiment into a new column\n",
    "    df[\"hits\"] = return_hits(df)\n",
    "    return df"
   ],
   "metadata": {
    "collapsed": false,
    "pycharm": {
     "name": "#%%\n"
    }
   }
  },
  {
   "cell_type": "markdown",
   "source": [
    "### Load Hedonometer data"
   ],
   "metadata": {
    "collapsed": false
   }
  },
  {
   "cell_type": "markdown",
   "source": [
    "Finally, we can load our Hedonometer and start calculating the sentiments of the tweets.\n",
    "First, we will load the Hedonometer scores and store them in a dictionary. Each entry will be in the form of {key: value}, where `key` stands for a word from the list and `value` will be the sentiment score given to it."
   ],
   "metadata": {
    "collapsed": false
   }
  },
  {
   "cell_type": "code",
   "execution_count": 10,
   "outputs": [],
   "source": [
    "file = pd.read_csv(hedonometer_path).sort_values(by='Happiness Score')\n",
    "scores = file[[\"translate_text\", \"Happiness Score\"]]\n",
    "scores.columns = [\"word\", \"score\"]\n",
    "scores = dict(zip(scores.word, scores.score))"
   ],
   "metadata": {
    "collapsed": false,
    "pycharm": {
     "name": "#%%\n"
    }
   }
  },
  {
   "cell_type": "code",
   "execution_count": 11,
   "outputs": [
    {
     "data": {
      "text/plain": "   Unnamed: 0   Rank         Word Word in English  Happiness Score  \\\n0       10168  10168      suicide         suicide             1.30   \n1       10169  10169    terrorist       terrorist             1.30   \n2       10171  10171  coronavirus     coronavirus             1.34   \n3       10167  10167         rape            rape             1.44   \n4       10165  10165       murder          murder             1.48   \n\n   Standard Deviation of Ratings translate_text  \n0                           0.84        התאבדות  \n1                           0.91           מחבל  \n2                           0.66         קורונה  \n3                           0.79           אונס  \n4                           1.01            רצח  ",
      "text/html": "<div>\n<style scoped>\n    .dataframe tbody tr th:only-of-type {\n        vertical-align: middle;\n    }\n\n    .dataframe tbody tr th {\n        vertical-align: top;\n    }\n\n    .dataframe thead th {\n        text-align: right;\n    }\n</style>\n<table border=\"1\" class=\"dataframe\">\n  <thead>\n    <tr style=\"text-align: right;\">\n      <th></th>\n      <th>Unnamed: 0</th>\n      <th>Rank</th>\n      <th>Word</th>\n      <th>Word in English</th>\n      <th>Happiness Score</th>\n      <th>Standard Deviation of Ratings</th>\n      <th>translate_text</th>\n    </tr>\n  </thead>\n  <tbody>\n    <tr>\n      <th>0</th>\n      <td>10168</td>\n      <td>10168</td>\n      <td>suicide</td>\n      <td>suicide</td>\n      <td>1.30</td>\n      <td>0.84</td>\n      <td>התאבדות</td>\n    </tr>\n    <tr>\n      <th>1</th>\n      <td>10169</td>\n      <td>10169</td>\n      <td>terrorist</td>\n      <td>terrorist</td>\n      <td>1.30</td>\n      <td>0.91</td>\n      <td>מחבל</td>\n    </tr>\n    <tr>\n      <th>2</th>\n      <td>10171</td>\n      <td>10171</td>\n      <td>coronavirus</td>\n      <td>coronavirus</td>\n      <td>1.34</td>\n      <td>0.66</td>\n      <td>קורונה</td>\n    </tr>\n    <tr>\n      <th>3</th>\n      <td>10167</td>\n      <td>10167</td>\n      <td>rape</td>\n      <td>rape</td>\n      <td>1.44</td>\n      <td>0.79</td>\n      <td>אונס</td>\n    </tr>\n    <tr>\n      <th>4</th>\n      <td>10165</td>\n      <td>10165</td>\n      <td>murder</td>\n      <td>murder</td>\n      <td>1.48</td>\n      <td>1.01</td>\n      <td>רצח</td>\n    </tr>\n  </tbody>\n</table>\n</div>"
     },
     "execution_count": 11,
     "metadata": {},
     "output_type": "execute_result"
    }
   ],
   "source": [
    "file.head()"
   ],
   "metadata": {
    "collapsed": false,
    "pycharm": {
     "name": "#%%\n"
    }
   }
  },
  {
   "cell_type": "code",
   "execution_count": 12,
   "outputs": [
    {
     "data": {
      "text/plain": "       Unnamed: 0  Rank       Word Word in English  Happiness Score  \\\n10182           4     4    laughed         laughed             8.26   \n10183           3     3      happy           happy             8.30   \n10184           2     2       love            love             8.42   \n10185           1     1  happiness       happiness             8.44   \n10186           0     0   laughter        laughter             8.50   \n\n       Standard Deviation of Ratings translate_text  \n10182                           1.16            צחק  \n10183                           0.99            שמח  \n10184                           1.11           אהבה  \n10185                           0.97           אושר  \n10186                           0.93           צחוק  ",
      "text/html": "<div>\n<style scoped>\n    .dataframe tbody tr th:only-of-type {\n        vertical-align: middle;\n    }\n\n    .dataframe tbody tr th {\n        vertical-align: top;\n    }\n\n    .dataframe thead th {\n        text-align: right;\n    }\n</style>\n<table border=\"1\" class=\"dataframe\">\n  <thead>\n    <tr style=\"text-align: right;\">\n      <th></th>\n      <th>Unnamed: 0</th>\n      <th>Rank</th>\n      <th>Word</th>\n      <th>Word in English</th>\n      <th>Happiness Score</th>\n      <th>Standard Deviation of Ratings</th>\n      <th>translate_text</th>\n    </tr>\n  </thead>\n  <tbody>\n    <tr>\n      <th>10182</th>\n      <td>4</td>\n      <td>4</td>\n      <td>laughed</td>\n      <td>laughed</td>\n      <td>8.26</td>\n      <td>1.16</td>\n      <td>צחק</td>\n    </tr>\n    <tr>\n      <th>10183</th>\n      <td>3</td>\n      <td>3</td>\n      <td>happy</td>\n      <td>happy</td>\n      <td>8.30</td>\n      <td>0.99</td>\n      <td>שמח</td>\n    </tr>\n    <tr>\n      <th>10184</th>\n      <td>2</td>\n      <td>2</td>\n      <td>love</td>\n      <td>love</td>\n      <td>8.42</td>\n      <td>1.11</td>\n      <td>אהבה</td>\n    </tr>\n    <tr>\n      <th>10185</th>\n      <td>1</td>\n      <td>1</td>\n      <td>happiness</td>\n      <td>happiness</td>\n      <td>8.44</td>\n      <td>0.97</td>\n      <td>אושר</td>\n    </tr>\n    <tr>\n      <th>10186</th>\n      <td>0</td>\n      <td>0</td>\n      <td>laughter</td>\n      <td>laughter</td>\n      <td>8.50</td>\n      <td>0.93</td>\n      <td>צחוק</td>\n    </tr>\n  </tbody>\n</table>\n</div>"
     },
     "execution_count": 12,
     "metadata": {},
     "output_type": "execute_result"
    }
   ],
   "source": [
    "file.tail()"
   ],
   "metadata": {
    "collapsed": false,
    "pycharm": {
     "name": "#%%\n"
    }
   }
  },
  {
   "cell_type": "markdown",
   "source": [
    "Second, we will load the deviation scores.\n",
    "Again, we will create a dictionary where each entry will be in the form of {key: value}, where `key` stands for a word from the list and `value` will be the standard deviation given to it.\n",
    "Using the same file, we create a dictionary of words and standard deviations of scores."
   ],
   "metadata": {
    "collapsed": false
   }
  },
  {
   "cell_type": "code",
   "execution_count": 13,
   "outputs": [],
   "source": [
    "sds = file[[\"translate_text\", \"Standard Deviation of Ratings\"]]\n",
    "sds.columns = [\"word\", \"deviation\"]\n",
    "sds = dict(zip(sds.word, sds.deviation))"
   ],
   "metadata": {
    "collapsed": false,
    "pycharm": {
     "name": "#%%\n"
    }
   }
  },
  {
   "cell_type": "markdown",
   "source": [
    "### Example on Pakistani tweets"
   ],
   "metadata": {
    "collapsed": false
   }
  },
  {
   "cell_type": "markdown",
   "source": [
    "Now, let's run an example on the tweets we downloaded in our [previous post](https://www.linkedin.com/posts/boris-sobol_a-small-analysis-i-performed-on-twitter-to-activity-6780033712374579200-iixv)"
   ],
   "metadata": {
    "collapsed": false
   }
  },
  {
   "cell_type": "markdown",
   "source": [
    "First we will load out data and take a look at the data"
   ],
   "metadata": {
    "collapsed": false
   }
  },
  {
   "cell_type": "code",
   "execution_count": 14,
   "outputs": [],
   "source": [
    "# Open all Urdu translated tweets from the timelines directory\n",
    "df = pd.read_csv('candidates_06_04_2021.csv')\n",
    "# Load the tweets size\n",
    "lens = pd.read_csv('candidates_final_counts_06_04_2021.csv')"
   ],
   "metadata": {
    "collapsed": false,
    "pycharm": {
     "name": "#%%\n"
    }
   }
  },
  {
   "cell_type": "code",
   "execution_count": 15,
   "outputs": [
    {
     "name": "stderr",
     "output_type": "stream",
     "text": [
      "e:\\workspace\\python\\python troject\\venv\\lib\\site-packages\\ipykernel_launcher.py:4: SettingWithCopyWarning: \n",
      "A value is trying to be set on a copy of a slice from a DataFrame\n",
      "\n",
      "See the caveats in the documentation: https://pandas.pydata.org/pandas-docs/stable/user_guide/indexing.html#returning-a-view-versus-a-copy\n",
      "  after removing the cwd from sys.path.\n"
     ]
    }
   ],
   "source": [
    "df['tag'] = ''\n",
    "previous = 0\n",
    "for _, row in lens.iterrows():\n",
    "    df['tag'][previous:previous + row['total_tweets']] = row['name']\n",
    "    previous += row['total_tweets']"
   ],
   "metadata": {
    "collapsed": false,
    "pycharm": {
     "name": "#%%\n"
    }
   }
  },
  {
   "cell_type": "code",
   "execution_count": 16,
   "outputs": [
    {
     "data": {
      "text/plain": "(40038, 36)"
     },
     "execution_count": 16,
     "metadata": {},
     "output_type": "execute_result"
    }
   ],
   "source": [
    "df.shape"
   ],
   "metadata": {
    "collapsed": false,
    "pycharm": {
     "name": "#%%\n"
    }
   }
  },
  {
   "cell_type": "code",
   "execution_count": 17,
   "outputs": [
    {
     "data": {
      "text/plain": "0    @bardugojacob אני מאזין לך ולדליה איציק , חרמו...\n1    @WalaGoanmi @AviEdelson1 @tommybor כי יאיר לפי...\n2    יודע משהו שאנחנו לא? על אף שלא קיבל את מלאכת ה...\n3    @Orisimo1984 @aviadglickman אולי הם חשבו שעל י...\n4    @ronitlev12 נתניהו לא ראש הממשלה שלי!!!\\n\\nזה ...\nName: text, dtype: object"
     },
     "execution_count": 17,
     "metadata": {},
     "output_type": "execute_result"
    }
   ],
   "source": [
    "# Print the first 5 items\n",
    "df['text'].head()"
   ],
   "metadata": {
    "collapsed": false,
    "pycharm": {
     "name": "#%%\n"
    }
   }
  },
  {
   "cell_type": "code",
   "execution_count": 18,
   "outputs": [
    {
     "name": "stdout",
     "output_type": "stream",
     "text": [
      "{'id': 1280990552201232387, 'id_str': '1280990552201232387', 'name': 'Yorik Cohen Zedek', 'screen_name': 'CohenYorik', 'location': '', 'description': '', 'url': None, 'entities': {'description': {'urls': []}}, 'protected': False, 'followers_count': 11, 'friends_count': 223, 'listed_count': 0, 'created_at': 'Wed Jul 08 22:22:17 +0000 2020', 'favourites_count': 1487, 'utc_offset': None, 'time_zone': None, 'geo_enabled': False, 'verified': False, 'statuses_count': 686, 'lang': None, 'contributors_enabled': False, 'is_translator': False, 'is_translation_enabled': False, 'profile_background_color': 'F5F8FA', 'profile_background_image_url': None, 'profile_background_image_url_https': None, 'profile_background_tile': False, 'profile_image_url': 'http://pbs.twimg.com/profile_images/1314635318818156544/UMS555vJ_normal.jpg', 'profile_image_url_https': 'https://pbs.twimg.com/profile_images/1314635318818156544/UMS555vJ_normal.jpg', 'profile_banner_url': 'https://pbs.twimg.com/profile_banners/1280990552201232387/1602268240', 'profile_link_color': '1DA1F2', 'profile_sidebar_border_color': 'C0DEED', 'profile_sidebar_fill_color': 'DDEEF6', 'profile_text_color': '333333', 'profile_use_background_image': True, 'has_extended_profile': True, 'default_profile': True, 'default_profile_image': False, 'following': False, 'follow_request_sent': False, 'notifications': False, 'translator_type': 'none'}\n"
     ]
    }
   ],
   "source": [
    "# print a single user from the data\n",
    "print(df.iloc[0]['user'])"
   ],
   "metadata": {
    "collapsed": false,
    "pycharm": {
     "name": "#%%\n"
    }
   }
  },
  {
   "cell_type": "code",
   "execution_count": 19,
   "outputs": [],
   "source": [
    "# Make a dict from the text string\n",
    "df['user'] = df['user'].map(ast.literal_eval)\n",
    "# Extract the username of each user from the user column\n",
    "df['name'] = df['user'].apply(lambda user: user['name'])"
   ],
   "metadata": {
    "collapsed": false,
    "pycharm": {
     "name": "#%%\n"
    }
   }
  },
  {
   "cell_type": "markdown",
   "source": [
    "In our dataset:\n",
    "- Total of 4500 tweets.\n",
    "- The oldest tweet is from: March 19, 2021.\n",
    "- the most recent tweet is from: March 24, 2021.\n",
    "- Total of 2039 unique users.\n"
   ],
   "metadata": {
    "collapsed": false
   }
  },
  {
   "cell_type": "code",
   "execution_count": 20,
   "outputs": [
    {
     "name": "stdout",
     "output_type": "stream",
     "text": [
      "The oldest tweet is from: Fri Apr 02 00:00:32 +0000 2021.\n",
      "The most recent tweet is from: Wed Mar 31 23:57:38 +0000 2021.\n",
      "We have a total of 40038 tweets.\n",
      "We have a total of 8342 unique users.\n"
     ]
    }
   ],
   "source": [
    "print(f\"The oldest tweet is from: {df['created_at'].min()}.\")\n",
    "print(f\"The most recent tweet is from: {df['created_at'].max()}.\")\n",
    "print(f\"We have a total of {len(df)} tweets.\")\n",
    "print(f\"We have a total of {len(df['name'].unique())} unique users.\")"
   ],
   "metadata": {
    "collapsed": false,
    "pycharm": {
     "name": "#%%\n"
    }
   }
  },
  {
   "cell_type": "markdown",
   "source": [
    "We then clean our tweets, and calculate the sentiment and standard deviation of each tweet. As mentioned earlier, the method used to measure the sentiment of one tweet is to add up the happiness scores of each word contained in the tweet and divide the total score by the number of words in the tweet."
   ],
   "metadata": {
    "collapsed": false
   }
  },
  {
   "cell_type": "code",
   "execution_count": 21,
   "outputs": [
    {
     "name": "stdout",
     "output_type": "stream",
     "text": [
      "0     אני מאזין לך ולדליה איציק  חרמות חרמות בושה ו...\n",
      "1       כי יאיר לפיד זה ממש שמאל אז זהו שלא זה הכי ...\n",
      "2    יודע משהו שאנחנו לא על אף שלא קיבל את מלאכת הה...\n",
      "3      אולי הם חשבו שעל ידי זה הם יקבלואצל יאיר לפי...\n",
      "4     נתניהו לא ראש הממשלה שליזה אומר שאני יכול להפ...\n",
      "Name: clean_text, dtype: object\n"
     ]
    }
   ],
   "source": [
    "# Clean input and translate if needed\n",
    "df = clean_and_sentiment(df)\n",
    "print(df['clean_text'].head())"
   ],
   "metadata": {
    "collapsed": false,
    "pycharm": {
     "name": "#%%\n"
    }
   }
  },
  {
   "cell_type": "markdown",
   "source": [
    "### Define functions to plot results:"
   ],
   "metadata": {
    "collapsed": false
   }
  },
  {
   "cell_type": "markdown",
   "source": [
    "We define a few functions to produce our final results and plot them.\n",
    "#### get_mean_based_on_frequency\n",
    "This function will calculate the mean sentiment of a DataFrame based on a given frequency.\n",
    "\n",
    "This function will receive:\n",
    "- `df` A DataFrame of the tweets\n",
    "- `freq` A frequency of the tweets, default value is daily. For more information about this please visit [time-date-components](https://pandas.pydata.org/pandas-docs/stable/user_guide/timeseries.html#time-date-components)\n",
    "This function will calculate the mean sentiment of the tweets by a given frequency (e.g. Day, Week, Month, Year, etc.) starting from the `date`."
   ],
   "metadata": {
    "collapsed": false
   }
  },
  {
   "cell_type": "code",
   "execution_count": 22,
   "outputs": [],
   "source": [
    "def get_mean_based_on_frequency(df, freq):\n",
    "    df[\"created_at\"] = pd.to_datetime(df['created_at'])\n",
    "    df = df.set_index(\"created_at\")\n",
    "    df = df[['hedonometer']]\n",
    "    return df.resample(freq).mean()"
   ],
   "metadata": {
    "collapsed": false,
    "pycharm": {
     "name": "#%%\n"
    }
   }
  },
  {
   "cell_type": "markdown",
   "source": [
    "### Produce and plot final results"
   ],
   "metadata": {
    "collapsed": false
   }
  },
  {
   "cell_type": "markdown",
   "source": [
    "Now, we can finally plot our results.\n",
    "We will plot the mean of all the users that tweeted as well as the top user.\n",
    "\n",
    "In order to achieve that, we will need to do some work.\n",
    "We will only take the relevant information:\n",
    "- `tag`\n",
    "- `created_at`\n",
    "- `hedonometer` score\n",
    "- `clean_text`"
   ],
   "metadata": {
    "collapsed": false
   }
  },
  {
   "cell_type": "code",
   "execution_count": 23,
   "outputs": [
    {
     "name": "stdout",
     "output_type": "stream",
     "text": [
      "There are 14 different candidates\n",
      "The candidates with most tweets is: מנסור עבאס with 7850 tweets\n",
      "The candidates with the least tweets is: ירון זליכה with 83 tweets\n"
     ]
    }
   ],
   "source": [
    "# Get only the user_id, the time the tweet was created and the hedonometer score\n",
    "sent_df = df[[\"tag\", \"created_at\", \"hedonometer\", 'clean_text']]\n",
    "\n",
    "# Split them to different DataFrames, this will sort the DataFrame by the 'user_id' and sort them\n",
    "split_df = sorted([pd.DataFrame(y) for x, y in sent_df.groupby('tag', as_index=False)], key=len,\n",
    "                  reverse=True)\n",
    "print(f\"There are {len(split_df)} different candidates\\n\"\n",
    "      f\"The candidates with most tweets is: {split_df[0].iloc[0]['tag']} with {len(split_df[0])} tweets\\n\"\n",
    "      f\"The candidates with the least tweets is: {split_df[-1].iloc[0]['tag']} with {len(split_df[-1])} tweets\")"
   ],
   "metadata": {
    "collapsed": false,
    "pycharm": {
     "name": "#%%\n"
    }
   }
  },
  {
   "cell_type": "code",
   "execution_count": 24,
   "outputs": [],
   "source": [
    "# get the names of the users\n",
    "user_names = [sdf.iloc[0]['tag'] for sdf in split_df]"
   ],
   "metadata": {
    "collapsed": false,
    "pycharm": {
     "name": "#%%\n"
    }
   }
  },
  {
   "cell_type": "code",
   "execution_count": 25,
   "outputs": [
    {
     "name": "stderr",
     "output_type": "stream",
     "text": [
      "e:\\workspace\\python\\python troject\\venv\\lib\\site-packages\\ipykernel_launcher.py:2: SettingWithCopyWarning: \n",
      "A value is trying to be set on a copy of a slice from a DataFrame.\n",
      "Try using .loc[row_indexer,col_indexer] = value instead\n",
      "\n",
      "See the caveats in the documentation: https://pandas.pydata.org/pandas-docs/stable/user_guide/indexing.html#returning-a-view-versus-a-copy\n",
      "  \n"
     ]
    }
   ],
   "source": [
    "# Get hourly Mean of each user\n",
    "split_df = [get_mean_based_on_frequency(sf, freq='3H') for sf in split_df]\n",
    "# combine the users, each to its own column\n",
    "split_sentiment = pd.concat(split_df, axis=1)\n",
    "# Rename the columns\n",
    "split_sentiment.columns = user_names\n",
    "# Get Overall hourly mean of tweets\n",
    "user_sentiment = get_mean_based_on_frequency(sent_df, freq='3H')\n",
    "user_sentiment.columns = ['Sentiment']"
   ],
   "metadata": {
    "collapsed": false,
    "pycharm": {
     "name": "#%%\n"
    }
   }
  },
  {
   "cell_type": "code",
   "execution_count": 30,
   "outputs": [
    {
     "data": {
      "application/vnd.plotly.v1+json": {
       "config": {
        "plotlyServerURL": "https://plot.ly"
       },
       "data": [
        {
         "hovertemplate": "variable=Sentiment<br>Date=%{x}<br>Mean 3 hourly sentiment (scale 1-9)=%{y}<extra></extra>",
         "legendgroup": "Sentiment",
         "line": {
          "color": "#636efa",
          "dash": "solid"
         },
         "mode": "lines",
         "name": "Sentiment",
         "orientation": "v",
         "showlegend": true,
         "type": "scatter",
         "x": [
          "2021-03-29T09:00:00+00:00",
          "2021-03-29T12:00:00+00:00",
          "2021-03-29T15:00:00+00:00",
          "2021-03-29T18:00:00+00:00",
          "2021-03-29T21:00:00+00:00",
          "2021-03-30T00:00:00+00:00",
          "2021-03-30T03:00:00+00:00",
          "2021-03-30T06:00:00+00:00",
          "2021-03-30T09:00:00+00:00",
          "2021-03-30T12:00:00+00:00",
          "2021-03-30T15:00:00+00:00",
          "2021-03-30T18:00:00+00:00",
          "2021-03-30T21:00:00+00:00",
          "2021-03-31T00:00:00+00:00",
          "2021-03-31T03:00:00+00:00",
          "2021-03-31T06:00:00+00:00",
          "2021-03-31T09:00:00+00:00",
          "2021-03-31T12:00:00+00:00",
          "2021-03-31T15:00:00+00:00",
          "2021-03-31T18:00:00+00:00",
          "2021-03-31T21:00:00+00:00",
          "2021-04-01T00:00:00+00:00",
          "2021-04-01T03:00:00+00:00",
          "2021-04-01T06:00:00+00:00",
          "2021-04-01T09:00:00+00:00",
          "2021-04-01T12:00:00+00:00",
          "2021-04-01T15:00:00+00:00",
          "2021-04-01T18:00:00+00:00",
          "2021-04-01T21:00:00+00:00",
          "2021-04-02T00:00:00+00:00",
          "2021-04-02T03:00:00+00:00",
          "2021-04-02T06:00:00+00:00",
          "2021-04-02T09:00:00+00:00",
          "2021-04-02T12:00:00+00:00",
          "2021-04-02T15:00:00+00:00",
          "2021-04-02T18:00:00+00:00",
          "2021-04-02T21:00:00+00:00",
          "2021-04-03T00:00:00+00:00",
          "2021-04-03T03:00:00+00:00",
          "2021-04-03T06:00:00+00:00",
          "2021-04-03T09:00:00+00:00",
          "2021-04-03T12:00:00+00:00",
          "2021-04-03T15:00:00+00:00",
          "2021-04-03T18:00:00+00:00",
          "2021-04-03T21:00:00+00:00",
          "2021-04-04T00:00:00+00:00",
          "2021-04-04T03:00:00+00:00",
          "2021-04-04T06:00:00+00:00",
          "2021-04-04T09:00:00+00:00",
          "2021-04-04T12:00:00+00:00",
          "2021-04-04T15:00:00+00:00",
          "2021-04-04T18:00:00+00:00",
          "2021-04-04T21:00:00+00:00",
          "2021-04-05T00:00:00+00:00",
          "2021-04-05T03:00:00+00:00",
          "2021-04-05T06:00:00+00:00",
          "2021-04-05T09:00:00+00:00",
          "2021-04-05T12:00:00+00:00",
          "2021-04-05T15:00:00+00:00",
          "2021-04-05T18:00:00+00:00",
          "2021-04-05T21:00:00+00:00",
          "2021-04-06T00:00:00+00:00",
          "2021-04-06T03:00:00+00:00",
          "2021-04-06T06:00:00+00:00",
          "2021-04-06T09:00:00+00:00",
          "2021-04-06T12:00:00+00:00"
         ],
         "xaxis": "x",
         "y": [
          5.474084867248518,
          5.488758301056325,
          5.502574850326396,
          5.52305253983851,
          5.483302910013568,
          5.553535424171789,
          5.501812331489222,
          5.534160993055609,
          5.511926702328436,
          5.478372428456927,
          5.548058685489359,
          5.51383229057772,
          5.540925313735401,
          5.483963971727862,
          5.46129280437511,
          5.532694108605488,
          5.526161274111021,
          5.494049929785122,
          5.508442517783836,
          5.474675227872918,
          5.454886522700755,
          5.4162477281490435,
          5.4647973394004925,
          5.474064674845809,
          5.505930370436339,
          5.499737197714294,
          5.567648409238367,
          5.528613367218825,
          5.495926526935542,
          5.519184354044649,
          5.485008433904167,
          5.471676830951455,
          5.469879560381047,
          5.497449042794285,
          5.51997228078294,
          5.5437563156996505,
          5.582175953781068,
          5.361298959494611,
          5.315943695930423,
          5.34455259382455,
          5.581181671473185,
          5.551782598487654,
          5.505419934733941,
          5.46961399572043,
          5.484369862155394,
          5.544743438660108,
          5.4678920044724935,
          5.4789695755743395,
          5.444673712772263,
          5.327935011383551,
          5.401795002616428,
          5.440360775388132,
          5.371250678453833,
          5.458696597868533,
          5.384442117803431,
          5.494043369819785,
          5.453457580326372,
          5.445649985206932,
          5.491052150932451,
          5.503692757930645,
          5.4356642398369015,
          5.483239413306799,
          5.455516705332524,
          5.445450828558297,
          5.393754349677691,
          5.4382805700704875
         ],
         "yaxis": "y"
        }
       ],
       "layout": {
        "legend": {
         "title": {
          "text": "variable"
         },
         "tracegroupgap": 0
        },
        "template": {
         "data": {
          "bar": [
           {
            "error_x": {
             "color": "#2a3f5f"
            },
            "error_y": {
             "color": "#2a3f5f"
            },
            "marker": {
             "line": {
              "color": "#E5ECF6",
              "width": 0.5
             }
            },
            "type": "bar"
           }
          ],
          "barpolar": [
           {
            "marker": {
             "line": {
              "color": "#E5ECF6",
              "width": 0.5
             }
            },
            "type": "barpolar"
           }
          ],
          "carpet": [
           {
            "aaxis": {
             "endlinecolor": "#2a3f5f",
             "gridcolor": "white",
             "linecolor": "white",
             "minorgridcolor": "white",
             "startlinecolor": "#2a3f5f"
            },
            "baxis": {
             "endlinecolor": "#2a3f5f",
             "gridcolor": "white",
             "linecolor": "white",
             "minorgridcolor": "white",
             "startlinecolor": "#2a3f5f"
            },
            "type": "carpet"
           }
          ],
          "choropleth": [
           {
            "colorbar": {
             "outlinewidth": 0,
             "ticks": ""
            },
            "type": "choropleth"
           }
          ],
          "contour": [
           {
            "colorbar": {
             "outlinewidth": 0,
             "ticks": ""
            },
            "colorscale": [
             [
              0.0,
              "#0d0887"
             ],
             [
              0.1111111111111111,
              "#46039f"
             ],
             [
              0.2222222222222222,
              "#7201a8"
             ],
             [
              0.3333333333333333,
              "#9c179e"
             ],
             [
              0.4444444444444444,
              "#bd3786"
             ],
             [
              0.5555555555555556,
              "#d8576b"
             ],
             [
              0.6666666666666666,
              "#ed7953"
             ],
             [
              0.7777777777777778,
              "#fb9f3a"
             ],
             [
              0.8888888888888888,
              "#fdca26"
             ],
             [
              1.0,
              "#f0f921"
             ]
            ],
            "type": "contour"
           }
          ],
          "contourcarpet": [
           {
            "colorbar": {
             "outlinewidth": 0,
             "ticks": ""
            },
            "type": "contourcarpet"
           }
          ],
          "heatmap": [
           {
            "colorbar": {
             "outlinewidth": 0,
             "ticks": ""
            },
            "colorscale": [
             [
              0.0,
              "#0d0887"
             ],
             [
              0.1111111111111111,
              "#46039f"
             ],
             [
              0.2222222222222222,
              "#7201a8"
             ],
             [
              0.3333333333333333,
              "#9c179e"
             ],
             [
              0.4444444444444444,
              "#bd3786"
             ],
             [
              0.5555555555555556,
              "#d8576b"
             ],
             [
              0.6666666666666666,
              "#ed7953"
             ],
             [
              0.7777777777777778,
              "#fb9f3a"
             ],
             [
              0.8888888888888888,
              "#fdca26"
             ],
             [
              1.0,
              "#f0f921"
             ]
            ],
            "type": "heatmap"
           }
          ],
          "heatmapgl": [
           {
            "colorbar": {
             "outlinewidth": 0,
             "ticks": ""
            },
            "colorscale": [
             [
              0.0,
              "#0d0887"
             ],
             [
              0.1111111111111111,
              "#46039f"
             ],
             [
              0.2222222222222222,
              "#7201a8"
             ],
             [
              0.3333333333333333,
              "#9c179e"
             ],
             [
              0.4444444444444444,
              "#bd3786"
             ],
             [
              0.5555555555555556,
              "#d8576b"
             ],
             [
              0.6666666666666666,
              "#ed7953"
             ],
             [
              0.7777777777777778,
              "#fb9f3a"
             ],
             [
              0.8888888888888888,
              "#fdca26"
             ],
             [
              1.0,
              "#f0f921"
             ]
            ],
            "type": "heatmapgl"
           }
          ],
          "histogram": [
           {
            "marker": {
             "colorbar": {
              "outlinewidth": 0,
              "ticks": ""
             }
            },
            "type": "histogram"
           }
          ],
          "histogram2d": [
           {
            "colorbar": {
             "outlinewidth": 0,
             "ticks": ""
            },
            "colorscale": [
             [
              0.0,
              "#0d0887"
             ],
             [
              0.1111111111111111,
              "#46039f"
             ],
             [
              0.2222222222222222,
              "#7201a8"
             ],
             [
              0.3333333333333333,
              "#9c179e"
             ],
             [
              0.4444444444444444,
              "#bd3786"
             ],
             [
              0.5555555555555556,
              "#d8576b"
             ],
             [
              0.6666666666666666,
              "#ed7953"
             ],
             [
              0.7777777777777778,
              "#fb9f3a"
             ],
             [
              0.8888888888888888,
              "#fdca26"
             ],
             [
              1.0,
              "#f0f921"
             ]
            ],
            "type": "histogram2d"
           }
          ],
          "histogram2dcontour": [
           {
            "colorbar": {
             "outlinewidth": 0,
             "ticks": ""
            },
            "colorscale": [
             [
              0.0,
              "#0d0887"
             ],
             [
              0.1111111111111111,
              "#46039f"
             ],
             [
              0.2222222222222222,
              "#7201a8"
             ],
             [
              0.3333333333333333,
              "#9c179e"
             ],
             [
              0.4444444444444444,
              "#bd3786"
             ],
             [
              0.5555555555555556,
              "#d8576b"
             ],
             [
              0.6666666666666666,
              "#ed7953"
             ],
             [
              0.7777777777777778,
              "#fb9f3a"
             ],
             [
              0.8888888888888888,
              "#fdca26"
             ],
             [
              1.0,
              "#f0f921"
             ]
            ],
            "type": "histogram2dcontour"
           }
          ],
          "mesh3d": [
           {
            "colorbar": {
             "outlinewidth": 0,
             "ticks": ""
            },
            "type": "mesh3d"
           }
          ],
          "parcoords": [
           {
            "line": {
             "colorbar": {
              "outlinewidth": 0,
              "ticks": ""
             }
            },
            "type": "parcoords"
           }
          ],
          "pie": [
           {
            "automargin": true,
            "type": "pie"
           }
          ],
          "scatter": [
           {
            "marker": {
             "colorbar": {
              "outlinewidth": 0,
              "ticks": ""
             }
            },
            "type": "scatter"
           }
          ],
          "scatter3d": [
           {
            "line": {
             "colorbar": {
              "outlinewidth": 0,
              "ticks": ""
             }
            },
            "marker": {
             "colorbar": {
              "outlinewidth": 0,
              "ticks": ""
             }
            },
            "type": "scatter3d"
           }
          ],
          "scattercarpet": [
           {
            "marker": {
             "colorbar": {
              "outlinewidth": 0,
              "ticks": ""
             }
            },
            "type": "scattercarpet"
           }
          ],
          "scattergeo": [
           {
            "marker": {
             "colorbar": {
              "outlinewidth": 0,
              "ticks": ""
             }
            },
            "type": "scattergeo"
           }
          ],
          "scattergl": [
           {
            "marker": {
             "colorbar": {
              "outlinewidth": 0,
              "ticks": ""
             }
            },
            "type": "scattergl"
           }
          ],
          "scattermapbox": [
           {
            "marker": {
             "colorbar": {
              "outlinewidth": 0,
              "ticks": ""
             }
            },
            "type": "scattermapbox"
           }
          ],
          "scatterpolar": [
           {
            "marker": {
             "colorbar": {
              "outlinewidth": 0,
              "ticks": ""
             }
            },
            "type": "scatterpolar"
           }
          ],
          "scatterpolargl": [
           {
            "marker": {
             "colorbar": {
              "outlinewidth": 0,
              "ticks": ""
             }
            },
            "type": "scatterpolargl"
           }
          ],
          "scatterternary": [
           {
            "marker": {
             "colorbar": {
              "outlinewidth": 0,
              "ticks": ""
             }
            },
            "type": "scatterternary"
           }
          ],
          "surface": [
           {
            "colorbar": {
             "outlinewidth": 0,
             "ticks": ""
            },
            "colorscale": [
             [
              0.0,
              "#0d0887"
             ],
             [
              0.1111111111111111,
              "#46039f"
             ],
             [
              0.2222222222222222,
              "#7201a8"
             ],
             [
              0.3333333333333333,
              "#9c179e"
             ],
             [
              0.4444444444444444,
              "#bd3786"
             ],
             [
              0.5555555555555556,
              "#d8576b"
             ],
             [
              0.6666666666666666,
              "#ed7953"
             ],
             [
              0.7777777777777778,
              "#fb9f3a"
             ],
             [
              0.8888888888888888,
              "#fdca26"
             ],
             [
              1.0,
              "#f0f921"
             ]
            ],
            "type": "surface"
           }
          ],
          "table": [
           {
            "cells": {
             "fill": {
              "color": "#EBF0F8"
             },
             "line": {
              "color": "white"
             }
            },
            "header": {
             "fill": {
              "color": "#C8D4E3"
             },
             "line": {
              "color": "white"
             }
            },
            "type": "table"
           }
          ]
         },
         "layout": {
          "annotationdefaults": {
           "arrowcolor": "#2a3f5f",
           "arrowhead": 0,
           "arrowwidth": 1
          },
          "autotypenumbers": "strict",
          "coloraxis": {
           "colorbar": {
            "outlinewidth": 0,
            "ticks": ""
           }
          },
          "colorscale": {
           "diverging": [
            [
             0,
             "#8e0152"
            ],
            [
             0.1,
             "#c51b7d"
            ],
            [
             0.2,
             "#de77ae"
            ],
            [
             0.3,
             "#f1b6da"
            ],
            [
             0.4,
             "#fde0ef"
            ],
            [
             0.5,
             "#f7f7f7"
            ],
            [
             0.6,
             "#e6f5d0"
            ],
            [
             0.7,
             "#b8e186"
            ],
            [
             0.8,
             "#7fbc41"
            ],
            [
             0.9,
             "#4d9221"
            ],
            [
             1,
             "#276419"
            ]
           ],
           "sequential": [
            [
             0.0,
             "#0d0887"
            ],
            [
             0.1111111111111111,
             "#46039f"
            ],
            [
             0.2222222222222222,
             "#7201a8"
            ],
            [
             0.3333333333333333,
             "#9c179e"
            ],
            [
             0.4444444444444444,
             "#bd3786"
            ],
            [
             0.5555555555555556,
             "#d8576b"
            ],
            [
             0.6666666666666666,
             "#ed7953"
            ],
            [
             0.7777777777777778,
             "#fb9f3a"
            ],
            [
             0.8888888888888888,
             "#fdca26"
            ],
            [
             1.0,
             "#f0f921"
            ]
           ],
           "sequentialminus": [
            [
             0.0,
             "#0d0887"
            ],
            [
             0.1111111111111111,
             "#46039f"
            ],
            [
             0.2222222222222222,
             "#7201a8"
            ],
            [
             0.3333333333333333,
             "#9c179e"
            ],
            [
             0.4444444444444444,
             "#bd3786"
            ],
            [
             0.5555555555555556,
             "#d8576b"
            ],
            [
             0.6666666666666666,
             "#ed7953"
            ],
            [
             0.7777777777777778,
             "#fb9f3a"
            ],
            [
             0.8888888888888888,
             "#fdca26"
            ],
            [
             1.0,
             "#f0f921"
            ]
           ]
          },
          "colorway": [
           "#636efa",
           "#EF553B",
           "#00cc96",
           "#ab63fa",
           "#FFA15A",
           "#19d3f3",
           "#FF6692",
           "#B6E880",
           "#FF97FF",
           "#FECB52"
          ],
          "font": {
           "color": "#2a3f5f"
          },
          "geo": {
           "bgcolor": "white",
           "lakecolor": "white",
           "landcolor": "#E5ECF6",
           "showlakes": true,
           "showland": true,
           "subunitcolor": "white"
          },
          "hoverlabel": {
           "align": "left"
          },
          "hovermode": "closest",
          "mapbox": {
           "style": "light"
          },
          "paper_bgcolor": "white",
          "plot_bgcolor": "#E5ECF6",
          "polar": {
           "angularaxis": {
            "gridcolor": "white",
            "linecolor": "white",
            "ticks": ""
           },
           "bgcolor": "#E5ECF6",
           "radialaxis": {
            "gridcolor": "white",
            "linecolor": "white",
            "ticks": ""
           }
          },
          "scene": {
           "xaxis": {
            "backgroundcolor": "#E5ECF6",
            "gridcolor": "white",
            "gridwidth": 2,
            "linecolor": "white",
            "showbackground": true,
            "ticks": "",
            "zerolinecolor": "white"
           },
           "yaxis": {
            "backgroundcolor": "#E5ECF6",
            "gridcolor": "white",
            "gridwidth": 2,
            "linecolor": "white",
            "showbackground": true,
            "ticks": "",
            "zerolinecolor": "white"
           },
           "zaxis": {
            "backgroundcolor": "#E5ECF6",
            "gridcolor": "white",
            "gridwidth": 2,
            "linecolor": "white",
            "showbackground": true,
            "ticks": "",
            "zerolinecolor": "white"
           }
          },
          "shapedefaults": {
           "line": {
            "color": "#2a3f5f"
           }
          },
          "ternary": {
           "aaxis": {
            "gridcolor": "white",
            "linecolor": "white",
            "ticks": ""
           },
           "baxis": {
            "gridcolor": "white",
            "linecolor": "white",
            "ticks": ""
           },
           "bgcolor": "#E5ECF6",
           "caxis": {
            "gridcolor": "white",
            "linecolor": "white",
            "ticks": ""
           }
          },
          "title": {
           "x": 0.05
          },
          "xaxis": {
           "automargin": true,
           "gridcolor": "white",
           "linecolor": "white",
           "ticks": "",
           "title": {
            "standoff": 15
           },
           "zerolinecolor": "white",
           "zerolinewidth": 2
          },
          "yaxis": {
           "automargin": true,
           "gridcolor": "white",
           "linecolor": "white",
           "ticks": "",
           "title": {
            "standoff": 15
           },
           "zerolinecolor": "white",
           "zerolinewidth": 2
          }
         }
        },
        "title": {
         "text": "Mean sentiment of 3 hourly tweets of all candidates"
        },
        "xaxis": {
         "anchor": "y",
         "domain": [
          0.0,
          1.0
         ],
         "title": {
          "text": "Date"
         }
        },
        "yaxis": {
         "anchor": "x",
         "domain": [
          0.0,
          1.0
         ],
         "title": {
          "text": "Mean 3 hourly sentiment (scale 1-9)"
         }
        }
       }
      },
      "text/html": "<div>                            <div id=\"bdf93ce6-e735-4251-91ad-b01559740695\" class=\"plotly-graph-div\" style=\"height:525px; width:100%;\"></div>            <script type=\"text/javascript\">                require([\"plotly\"], function(Plotly) {                    window.PLOTLYENV=window.PLOTLYENV || {};                                    if (document.getElementById(\"bdf93ce6-e735-4251-91ad-b01559740695\")) {                    Plotly.newPlot(                        \"bdf93ce6-e735-4251-91ad-b01559740695\",                        [{\"hovertemplate\": \"variable=Sentiment<br>Date=%{x}<br>Mean 3 hourly sentiment (scale 1-9)=%{y}<extra></extra>\", \"legendgroup\": \"Sentiment\", \"line\": {\"color\": \"#636efa\", \"dash\": \"solid\"}, \"mode\": \"lines\", \"name\": \"Sentiment\", \"orientation\": \"v\", \"showlegend\": true, \"type\": \"scatter\", \"x\": [\"2021-03-29T09:00:00+00:00\", \"2021-03-29T12:00:00+00:00\", \"2021-03-29T15:00:00+00:00\", \"2021-03-29T18:00:00+00:00\", \"2021-03-29T21:00:00+00:00\", \"2021-03-30T00:00:00+00:00\", \"2021-03-30T03:00:00+00:00\", \"2021-03-30T06:00:00+00:00\", \"2021-03-30T09:00:00+00:00\", \"2021-03-30T12:00:00+00:00\", \"2021-03-30T15:00:00+00:00\", \"2021-03-30T18:00:00+00:00\", \"2021-03-30T21:00:00+00:00\", \"2021-03-31T00:00:00+00:00\", \"2021-03-31T03:00:00+00:00\", \"2021-03-31T06:00:00+00:00\", \"2021-03-31T09:00:00+00:00\", \"2021-03-31T12:00:00+00:00\", \"2021-03-31T15:00:00+00:00\", \"2021-03-31T18:00:00+00:00\", \"2021-03-31T21:00:00+00:00\", \"2021-04-01T00:00:00+00:00\", \"2021-04-01T03:00:00+00:00\", \"2021-04-01T06:00:00+00:00\", \"2021-04-01T09:00:00+00:00\", \"2021-04-01T12:00:00+00:00\", \"2021-04-01T15:00:00+00:00\", \"2021-04-01T18:00:00+00:00\", \"2021-04-01T21:00:00+00:00\", \"2021-04-02T00:00:00+00:00\", \"2021-04-02T03:00:00+00:00\", \"2021-04-02T06:00:00+00:00\", \"2021-04-02T09:00:00+00:00\", \"2021-04-02T12:00:00+00:00\", \"2021-04-02T15:00:00+00:00\", \"2021-04-02T18:00:00+00:00\", \"2021-04-02T21:00:00+00:00\", \"2021-04-03T00:00:00+00:00\", \"2021-04-03T03:00:00+00:00\", \"2021-04-03T06:00:00+00:00\", \"2021-04-03T09:00:00+00:00\", \"2021-04-03T12:00:00+00:00\", \"2021-04-03T15:00:00+00:00\", \"2021-04-03T18:00:00+00:00\", \"2021-04-03T21:00:00+00:00\", \"2021-04-04T00:00:00+00:00\", \"2021-04-04T03:00:00+00:00\", \"2021-04-04T06:00:00+00:00\", \"2021-04-04T09:00:00+00:00\", \"2021-04-04T12:00:00+00:00\", \"2021-04-04T15:00:00+00:00\", \"2021-04-04T18:00:00+00:00\", \"2021-04-04T21:00:00+00:00\", \"2021-04-05T00:00:00+00:00\", \"2021-04-05T03:00:00+00:00\", \"2021-04-05T06:00:00+00:00\", \"2021-04-05T09:00:00+00:00\", \"2021-04-05T12:00:00+00:00\", \"2021-04-05T15:00:00+00:00\", \"2021-04-05T18:00:00+00:00\", \"2021-04-05T21:00:00+00:00\", \"2021-04-06T00:00:00+00:00\", \"2021-04-06T03:00:00+00:00\", \"2021-04-06T06:00:00+00:00\", \"2021-04-06T09:00:00+00:00\", \"2021-04-06T12:00:00+00:00\"], \"xaxis\": \"x\", \"y\": [5.474084867248518, 5.488758301056325, 5.502574850326396, 5.52305253983851, 5.483302910013568, 5.553535424171789, 5.501812331489222, 5.534160993055609, 5.511926702328436, 5.478372428456927, 5.548058685489359, 5.51383229057772, 5.540925313735401, 5.483963971727862, 5.46129280437511, 5.532694108605488, 5.526161274111021, 5.494049929785122, 5.508442517783836, 5.474675227872918, 5.454886522700755, 5.4162477281490435, 5.4647973394004925, 5.474064674845809, 5.505930370436339, 5.499737197714294, 5.567648409238367, 5.528613367218825, 5.495926526935542, 5.519184354044649, 5.485008433904167, 5.471676830951455, 5.469879560381047, 5.497449042794285, 5.51997228078294, 5.5437563156996505, 5.582175953781068, 5.361298959494611, 5.315943695930423, 5.34455259382455, 5.581181671473185, 5.551782598487654, 5.505419934733941, 5.46961399572043, 5.484369862155394, 5.544743438660108, 5.4678920044724935, 5.4789695755743395, 5.444673712772263, 5.327935011383551, 5.401795002616428, 5.440360775388132, 5.371250678453833, 5.458696597868533, 5.384442117803431, 5.494043369819785, 5.453457580326372, 5.445649985206932, 5.491052150932451, 5.503692757930645, 5.4356642398369015, 5.483239413306799, 5.455516705332524, 5.445450828558297, 5.393754349677691, 5.4382805700704875], \"yaxis\": \"y\"}],                        {\"legend\": {\"title\": {\"text\": \"variable\"}, \"tracegroupgap\": 0}, \"template\": {\"data\": {\"bar\": [{\"error_x\": {\"color\": \"#2a3f5f\"}, \"error_y\": {\"color\": \"#2a3f5f\"}, \"marker\": {\"line\": {\"color\": \"#E5ECF6\", \"width\": 0.5}}, \"type\": \"bar\"}], \"barpolar\": [{\"marker\": {\"line\": {\"color\": \"#E5ECF6\", \"width\": 0.5}}, \"type\": \"barpolar\"}], \"carpet\": [{\"aaxis\": {\"endlinecolor\": \"#2a3f5f\", \"gridcolor\": \"white\", \"linecolor\": \"white\", \"minorgridcolor\": \"white\", \"startlinecolor\": \"#2a3f5f\"}, \"baxis\": {\"endlinecolor\": \"#2a3f5f\", \"gridcolor\": \"white\", \"linecolor\": \"white\", \"minorgridcolor\": \"white\", \"startlinecolor\": \"#2a3f5f\"}, \"type\": \"carpet\"}], \"choropleth\": [{\"colorbar\": {\"outlinewidth\": 0, \"ticks\": \"\"}, \"type\": \"choropleth\"}], \"contour\": [{\"colorbar\": {\"outlinewidth\": 0, \"ticks\": \"\"}, \"colorscale\": [[0.0, \"#0d0887\"], [0.1111111111111111, \"#46039f\"], [0.2222222222222222, \"#7201a8\"], [0.3333333333333333, \"#9c179e\"], [0.4444444444444444, \"#bd3786\"], [0.5555555555555556, \"#d8576b\"], [0.6666666666666666, \"#ed7953\"], [0.7777777777777778, \"#fb9f3a\"], [0.8888888888888888, \"#fdca26\"], [1.0, \"#f0f921\"]], \"type\": \"contour\"}], \"contourcarpet\": [{\"colorbar\": {\"outlinewidth\": 0, \"ticks\": \"\"}, \"type\": \"contourcarpet\"}], \"heatmap\": [{\"colorbar\": {\"outlinewidth\": 0, \"ticks\": \"\"}, \"colorscale\": [[0.0, \"#0d0887\"], [0.1111111111111111, \"#46039f\"], [0.2222222222222222, \"#7201a8\"], [0.3333333333333333, \"#9c179e\"], [0.4444444444444444, \"#bd3786\"], [0.5555555555555556, \"#d8576b\"], [0.6666666666666666, \"#ed7953\"], [0.7777777777777778, \"#fb9f3a\"], [0.8888888888888888, \"#fdca26\"], [1.0, \"#f0f921\"]], \"type\": \"heatmap\"}], \"heatmapgl\": [{\"colorbar\": {\"outlinewidth\": 0, \"ticks\": \"\"}, \"colorscale\": [[0.0, \"#0d0887\"], [0.1111111111111111, \"#46039f\"], [0.2222222222222222, \"#7201a8\"], [0.3333333333333333, \"#9c179e\"], [0.4444444444444444, \"#bd3786\"], [0.5555555555555556, \"#d8576b\"], [0.6666666666666666, \"#ed7953\"], [0.7777777777777778, \"#fb9f3a\"], [0.8888888888888888, \"#fdca26\"], [1.0, \"#f0f921\"]], \"type\": \"heatmapgl\"}], \"histogram\": [{\"marker\": {\"colorbar\": {\"outlinewidth\": 0, \"ticks\": \"\"}}, \"type\": \"histogram\"}], \"histogram2d\": [{\"colorbar\": {\"outlinewidth\": 0, \"ticks\": \"\"}, \"colorscale\": [[0.0, \"#0d0887\"], [0.1111111111111111, \"#46039f\"], [0.2222222222222222, \"#7201a8\"], [0.3333333333333333, \"#9c179e\"], [0.4444444444444444, \"#bd3786\"], [0.5555555555555556, \"#d8576b\"], [0.6666666666666666, \"#ed7953\"], [0.7777777777777778, \"#fb9f3a\"], [0.8888888888888888, \"#fdca26\"], [1.0, \"#f0f921\"]], \"type\": \"histogram2d\"}], \"histogram2dcontour\": [{\"colorbar\": {\"outlinewidth\": 0, \"ticks\": \"\"}, \"colorscale\": [[0.0, \"#0d0887\"], [0.1111111111111111, \"#46039f\"], [0.2222222222222222, \"#7201a8\"], [0.3333333333333333, \"#9c179e\"], [0.4444444444444444, \"#bd3786\"], [0.5555555555555556, \"#d8576b\"], [0.6666666666666666, \"#ed7953\"], [0.7777777777777778, \"#fb9f3a\"], [0.8888888888888888, \"#fdca26\"], [1.0, \"#f0f921\"]], \"type\": \"histogram2dcontour\"}], \"mesh3d\": [{\"colorbar\": {\"outlinewidth\": 0, \"ticks\": \"\"}, \"type\": \"mesh3d\"}], \"parcoords\": [{\"line\": {\"colorbar\": {\"outlinewidth\": 0, \"ticks\": \"\"}}, \"type\": \"parcoords\"}], \"pie\": [{\"automargin\": true, \"type\": \"pie\"}], \"scatter\": [{\"marker\": {\"colorbar\": {\"outlinewidth\": 0, \"ticks\": \"\"}}, \"type\": \"scatter\"}], \"scatter3d\": [{\"line\": {\"colorbar\": {\"outlinewidth\": 0, \"ticks\": \"\"}}, \"marker\": {\"colorbar\": {\"outlinewidth\": 0, \"ticks\": \"\"}}, \"type\": \"scatter3d\"}], \"scattercarpet\": [{\"marker\": {\"colorbar\": {\"outlinewidth\": 0, \"ticks\": \"\"}}, \"type\": \"scattercarpet\"}], \"scattergeo\": [{\"marker\": {\"colorbar\": {\"outlinewidth\": 0, \"ticks\": \"\"}}, \"type\": \"scattergeo\"}], \"scattergl\": [{\"marker\": {\"colorbar\": {\"outlinewidth\": 0, \"ticks\": \"\"}}, \"type\": \"scattergl\"}], \"scattermapbox\": [{\"marker\": {\"colorbar\": {\"outlinewidth\": 0, \"ticks\": \"\"}}, \"type\": \"scattermapbox\"}], \"scatterpolar\": [{\"marker\": {\"colorbar\": {\"outlinewidth\": 0, \"ticks\": \"\"}}, \"type\": \"scatterpolar\"}], \"scatterpolargl\": [{\"marker\": {\"colorbar\": {\"outlinewidth\": 0, \"ticks\": \"\"}}, \"type\": \"scatterpolargl\"}], \"scatterternary\": [{\"marker\": {\"colorbar\": {\"outlinewidth\": 0, \"ticks\": \"\"}}, \"type\": \"scatterternary\"}], \"surface\": [{\"colorbar\": {\"outlinewidth\": 0, \"ticks\": \"\"}, \"colorscale\": [[0.0, \"#0d0887\"], [0.1111111111111111, \"#46039f\"], [0.2222222222222222, \"#7201a8\"], [0.3333333333333333, \"#9c179e\"], [0.4444444444444444, \"#bd3786\"], [0.5555555555555556, \"#d8576b\"], [0.6666666666666666, \"#ed7953\"], [0.7777777777777778, \"#fb9f3a\"], [0.8888888888888888, \"#fdca26\"], [1.0, \"#f0f921\"]], \"type\": \"surface\"}], \"table\": [{\"cells\": {\"fill\": {\"color\": \"#EBF0F8\"}, \"line\": {\"color\": \"white\"}}, \"header\": {\"fill\": {\"color\": \"#C8D4E3\"}, \"line\": {\"color\": \"white\"}}, \"type\": \"table\"}]}, \"layout\": {\"annotationdefaults\": {\"arrowcolor\": \"#2a3f5f\", \"arrowhead\": 0, \"arrowwidth\": 1}, \"autotypenumbers\": \"strict\", \"coloraxis\": {\"colorbar\": {\"outlinewidth\": 0, \"ticks\": \"\"}}, \"colorscale\": {\"diverging\": [[0, \"#8e0152\"], [0.1, \"#c51b7d\"], [0.2, \"#de77ae\"], [0.3, \"#f1b6da\"], [0.4, \"#fde0ef\"], [0.5, \"#f7f7f7\"], [0.6, \"#e6f5d0\"], [0.7, \"#b8e186\"], [0.8, \"#7fbc41\"], [0.9, \"#4d9221\"], [1, \"#276419\"]], \"sequential\": [[0.0, \"#0d0887\"], [0.1111111111111111, \"#46039f\"], [0.2222222222222222, \"#7201a8\"], [0.3333333333333333, \"#9c179e\"], [0.4444444444444444, \"#bd3786\"], [0.5555555555555556, \"#d8576b\"], [0.6666666666666666, \"#ed7953\"], [0.7777777777777778, \"#fb9f3a\"], [0.8888888888888888, \"#fdca26\"], [1.0, \"#f0f921\"]], \"sequentialminus\": [[0.0, \"#0d0887\"], [0.1111111111111111, \"#46039f\"], [0.2222222222222222, \"#7201a8\"], [0.3333333333333333, \"#9c179e\"], [0.4444444444444444, \"#bd3786\"], [0.5555555555555556, \"#d8576b\"], [0.6666666666666666, \"#ed7953\"], [0.7777777777777778, \"#fb9f3a\"], [0.8888888888888888, \"#fdca26\"], [1.0, \"#f0f921\"]]}, \"colorway\": [\"#636efa\", \"#EF553B\", \"#00cc96\", \"#ab63fa\", \"#FFA15A\", \"#19d3f3\", \"#FF6692\", \"#B6E880\", \"#FF97FF\", \"#FECB52\"], \"font\": {\"color\": \"#2a3f5f\"}, \"geo\": {\"bgcolor\": \"white\", \"lakecolor\": \"white\", \"landcolor\": \"#E5ECF6\", \"showlakes\": true, \"showland\": true, \"subunitcolor\": \"white\"}, \"hoverlabel\": {\"align\": \"left\"}, \"hovermode\": \"closest\", \"mapbox\": {\"style\": \"light\"}, \"paper_bgcolor\": \"white\", \"plot_bgcolor\": \"#E5ECF6\", \"polar\": {\"angularaxis\": {\"gridcolor\": \"white\", \"linecolor\": \"white\", \"ticks\": \"\"}, \"bgcolor\": \"#E5ECF6\", \"radialaxis\": {\"gridcolor\": \"white\", \"linecolor\": \"white\", \"ticks\": \"\"}}, \"scene\": {\"xaxis\": {\"backgroundcolor\": \"#E5ECF6\", \"gridcolor\": \"white\", \"gridwidth\": 2, \"linecolor\": \"white\", \"showbackground\": true, \"ticks\": \"\", \"zerolinecolor\": \"white\"}, \"yaxis\": {\"backgroundcolor\": \"#E5ECF6\", \"gridcolor\": \"white\", \"gridwidth\": 2, \"linecolor\": \"white\", \"showbackground\": true, \"ticks\": \"\", \"zerolinecolor\": \"white\"}, \"zaxis\": {\"backgroundcolor\": \"#E5ECF6\", \"gridcolor\": \"white\", \"gridwidth\": 2, \"linecolor\": \"white\", \"showbackground\": true, \"ticks\": \"\", \"zerolinecolor\": \"white\"}}, \"shapedefaults\": {\"line\": {\"color\": \"#2a3f5f\"}}, \"ternary\": {\"aaxis\": {\"gridcolor\": \"white\", \"linecolor\": \"white\", \"ticks\": \"\"}, \"baxis\": {\"gridcolor\": \"white\", \"linecolor\": \"white\", \"ticks\": \"\"}, \"bgcolor\": \"#E5ECF6\", \"caxis\": {\"gridcolor\": \"white\", \"linecolor\": \"white\", \"ticks\": \"\"}}, \"title\": {\"x\": 0.05}, \"xaxis\": {\"automargin\": true, \"gridcolor\": \"white\", \"linecolor\": \"white\", \"ticks\": \"\", \"title\": {\"standoff\": 15}, \"zerolinecolor\": \"white\", \"zerolinewidth\": 2}, \"yaxis\": {\"automargin\": true, \"gridcolor\": \"white\", \"linecolor\": \"white\", \"ticks\": \"\", \"title\": {\"standoff\": 15}, \"zerolinecolor\": \"white\", \"zerolinewidth\": 2}}}, \"title\": {\"text\": \"Mean sentiment of 3 hourly tweets of all candidates\"}, \"xaxis\": {\"anchor\": \"y\", \"domain\": [0.0, 1.0], \"title\": {\"text\": \"Date\"}}, \"yaxis\": {\"anchor\": \"x\", \"domain\": [0.0, 1.0], \"title\": {\"text\": \"Mean 3 hourly sentiment (scale 1-9)\"}}},                        {\"responsive\": true}                    ).then(function(){\n                            \nvar gd = document.getElementById('bdf93ce6-e735-4251-91ad-b01559740695');\nvar x = new MutationObserver(function (mutations, observer) {{\n        var display = window.getComputedStyle(gd).display;\n        if (!display || display === 'none') {{\n            console.log([gd, 'removed!']);\n            Plotly.purge(gd);\n            observer.disconnect();\n        }}\n}});\n\n// Listen for the removal of the full notebook cells\nvar notebookContainer = gd.closest('#notebook-container');\nif (notebookContainer) {{\n    x.observe(notebookContainer, {childList: true});\n}}\n\n// Listen for the clearing of the current output cell\nvar outputEl = gd.closest('.output');\nif (outputEl) {{\n    x.observe(outputEl, {childList: true});\n}}\n\n                        })                };                });            </script>        </div>"
     },
     "metadata": {},
     "output_type": "display_data"
    }
   ],
   "source": [
    "fig = px.line(user_sentiment, title='Mean sentiment of 3 hourly tweets of all candidates',\n",
    "        labels={\n",
    "            'created_at': 'Date',\n",
    "            'value': 'Mean 3 hourly sentiment (scale 1-9)'\n",
    "        })\n",
    "fig.write_html('_'.join('Mean sentiment of 3 hourly tweets of all candidates.html'.split(' ')))\n",
    "fig.show()"
   ],
   "metadata": {
    "collapsed": false,
    "pycharm": {
     "name": "#%%\n"
    }
   }
  },
  {
   "cell_type": "code",
   "execution_count": 31,
   "outputs": [
    {
     "data": {
      "application/vnd.plotly.v1+json": {
       "config": {
        "plotlyServerURL": "https://plot.ly"
       },
       "data": [
        {
         "hovertemplate": "variable=מנסור עבאס<br>Date=%{x}<br>Mean 3 hourly sentiment (scale 1-9)=%{y}<extra></extra>",
         "legendgroup": "מנסור עבאס",
         "line": {
          "color": "rgb(127, 60, 141)",
          "dash": "solid"
         },
         "mode": "lines",
         "name": "מנסור עבאס",
         "orientation": "v",
         "showlegend": true,
         "type": "scatter",
         "x": [
          "2021-03-29T09:00:00+00:00",
          "2021-03-29T12:00:00+00:00",
          "2021-03-29T15:00:00+00:00",
          "2021-03-29T18:00:00+00:00",
          "2021-03-29T21:00:00+00:00",
          "2021-03-30T00:00:00+00:00",
          "2021-03-30T03:00:00+00:00",
          "2021-03-30T06:00:00+00:00",
          "2021-03-30T09:00:00+00:00",
          "2021-03-30T12:00:00+00:00",
          "2021-03-30T15:00:00+00:00",
          "2021-03-30T18:00:00+00:00",
          "2021-03-30T21:00:00+00:00",
          "2021-03-31T00:00:00+00:00",
          "2021-03-31T03:00:00+00:00",
          "2021-03-31T06:00:00+00:00",
          "2021-03-31T09:00:00+00:00",
          "2021-03-31T12:00:00+00:00",
          "2021-03-31T15:00:00+00:00",
          "2021-03-31T18:00:00+00:00",
          "2021-03-31T21:00:00+00:00",
          "2021-04-01T00:00:00+00:00",
          "2021-04-01T03:00:00+00:00",
          "2021-04-01T06:00:00+00:00",
          "2021-04-01T09:00:00+00:00",
          "2021-04-01T12:00:00+00:00",
          "2021-04-01T15:00:00+00:00",
          "2021-04-01T18:00:00+00:00",
          "2021-04-01T21:00:00+00:00",
          "2021-04-02T00:00:00+00:00",
          "2021-04-02T03:00:00+00:00",
          "2021-04-02T06:00:00+00:00",
          "2021-04-02T09:00:00+00:00",
          "2021-04-02T12:00:00+00:00",
          "2021-04-02T15:00:00+00:00",
          "2021-04-02T18:00:00+00:00",
          "2021-04-02T21:00:00+00:00",
          "2021-04-03T00:00:00+00:00",
          "2021-04-03T03:00:00+00:00",
          "2021-04-03T06:00:00+00:00",
          "2021-04-03T09:00:00+00:00",
          "2021-04-03T12:00:00+00:00",
          "2021-04-03T15:00:00+00:00",
          "2021-04-03T18:00:00+00:00",
          "2021-04-03T21:00:00+00:00",
          "2021-04-04T00:00:00+00:00",
          "2021-04-04T03:00:00+00:00",
          "2021-04-04T06:00:00+00:00",
          "2021-04-04T09:00:00+00:00",
          "2021-04-04T12:00:00+00:00",
          "2021-04-04T15:00:00+00:00",
          "2021-04-04T18:00:00+00:00",
          "2021-04-04T21:00:00+00:00",
          "2021-04-05T00:00:00+00:00",
          "2021-04-05T03:00:00+00:00",
          "2021-04-05T06:00:00+00:00",
          "2021-04-05T09:00:00+00:00",
          "2021-04-05T12:00:00+00:00",
          "2021-04-05T15:00:00+00:00",
          "2021-04-05T18:00:00+00:00",
          "2021-04-05T21:00:00+00:00",
          "2021-04-06T00:00:00+00:00",
          "2021-04-06T03:00:00+00:00",
          "2021-04-06T06:00:00+00:00",
          "2021-04-06T09:00:00+00:00",
          "2021-04-06T12:00:00+00:00"
         ],
         "xaxis": "x",
         "y": [
          5.614361221340387,
          5.492072672008843,
          5.646193086913086,
          5.693787844611528,
          5.608342460277244,
          5.612797123015873,
          5.658223250384263,
          5.586382430628115,
          5.497767862503656,
          5.471185771559483,
          5.592855335685907,
          5.5591514217197675,
          5.5990491537232625,
          5.379632981601731,
          5.419195609626645,
          5.53081660968451,
          5.52759115347019,
          5.568532146865481,
          5.620176425261248,
          5.581446403856561,
          5.597439889689889,
          5.402437146187146,
          5.517649667149667,
          5.514101130500325,
          5.412827945614594,
          5.369006523031235,
          5.608907441006259,
          5.555233566004282,
          5.48671589111139,
          5.515108480913026,
          5.444537726534852,
          5.429295331634935,
          5.469955011761233,
          5.588805246402907,
          5.784532571428571,
          5.66243216175359,
          5.782046113847838,
          5.548765432098765,
          5.530274515960229,
          5.532078442229604,
          5.61922193536049,
          5.635491213151929,
          5.499041165624499,
          5.550999682539681,
          5.5033424465745915,
          5.532968783068783,
          5.529457142857145,
          5.4939035718970795,
          5.479702578841926,
          5.510897111978932,
          5.292420298627925,
          null,
          null,
          null,
          null,
          null,
          null,
          null,
          null,
          null,
          null,
          null,
          null,
          null,
          null,
          null
         ],
         "yaxis": "y"
        },
        {
         "hovertemplate": "variable=בניימין נתניהו<br>Date=%{x}<br>Mean 3 hourly sentiment (scale 1-9)=%{y}<extra></extra>",
         "legendgroup": "בניימין נתניהו",
         "line": {
          "color": "rgb(17, 165, 121)",
          "dash": "solid"
         },
         "mode": "lines",
         "name": "בניימין נתניהו",
         "orientation": "v",
         "showlegend": true,
         "type": "scatter",
         "x": [
          "2021-03-29T09:00:00+00:00",
          "2021-03-29T12:00:00+00:00",
          "2021-03-29T15:00:00+00:00",
          "2021-03-29T18:00:00+00:00",
          "2021-03-29T21:00:00+00:00",
          "2021-03-30T00:00:00+00:00",
          "2021-03-30T03:00:00+00:00",
          "2021-03-30T06:00:00+00:00",
          "2021-03-30T09:00:00+00:00",
          "2021-03-30T12:00:00+00:00",
          "2021-03-30T15:00:00+00:00",
          "2021-03-30T18:00:00+00:00",
          "2021-03-30T21:00:00+00:00",
          "2021-03-31T00:00:00+00:00",
          "2021-03-31T03:00:00+00:00",
          "2021-03-31T06:00:00+00:00",
          "2021-03-31T09:00:00+00:00",
          "2021-03-31T12:00:00+00:00",
          "2021-03-31T15:00:00+00:00",
          "2021-03-31T18:00:00+00:00",
          "2021-03-31T21:00:00+00:00",
          "2021-04-01T00:00:00+00:00",
          "2021-04-01T03:00:00+00:00",
          "2021-04-01T06:00:00+00:00",
          "2021-04-01T09:00:00+00:00",
          "2021-04-01T12:00:00+00:00",
          "2021-04-01T15:00:00+00:00",
          "2021-04-01T18:00:00+00:00",
          "2021-04-01T21:00:00+00:00",
          "2021-04-02T00:00:00+00:00",
          "2021-04-02T03:00:00+00:00",
          "2021-04-02T06:00:00+00:00",
          "2021-04-02T09:00:00+00:00",
          "2021-04-02T12:00:00+00:00",
          "2021-04-02T15:00:00+00:00",
          "2021-04-02T18:00:00+00:00",
          "2021-04-02T21:00:00+00:00",
          "2021-04-03T00:00:00+00:00",
          "2021-04-03T03:00:00+00:00",
          "2021-04-03T06:00:00+00:00",
          "2021-04-03T09:00:00+00:00",
          "2021-04-03T12:00:00+00:00",
          "2021-04-03T15:00:00+00:00",
          "2021-04-03T18:00:00+00:00",
          "2021-04-03T21:00:00+00:00",
          "2021-04-04T00:00:00+00:00",
          "2021-04-04T03:00:00+00:00",
          "2021-04-04T06:00:00+00:00",
          "2021-04-04T09:00:00+00:00",
          "2021-04-04T12:00:00+00:00",
          "2021-04-04T15:00:00+00:00",
          "2021-04-04T18:00:00+00:00",
          "2021-04-04T21:00:00+00:00",
          "2021-04-05T00:00:00+00:00",
          "2021-04-05T03:00:00+00:00",
          "2021-04-05T06:00:00+00:00",
          "2021-04-05T09:00:00+00:00",
          "2021-04-05T12:00:00+00:00",
          "2021-04-05T15:00:00+00:00",
          "2021-04-05T18:00:00+00:00",
          "2021-04-05T21:00:00+00:00",
          "2021-04-06T00:00:00+00:00",
          "2021-04-06T03:00:00+00:00",
          "2021-04-06T06:00:00+00:00",
          "2021-04-06T09:00:00+00:00",
          "2021-04-06T12:00:00+00:00"
         ],
         "xaxis": "x",
         "y": [
          5.45204434680231,
          5.489311545444942,
          5.499358427689818,
          5.517311035867364,
          5.514375195961902,
          5.543952014652017,
          5.5136622616371165,
          null,
          null,
          6.132333333333333,
          5.968,
          5.646977777777778,
          6.035,
          null,
          5.12,
          5.740111111111111,
          5.929206349206349,
          5.8100000000000005,
          6.0200000000000005,
          null,
          5.274,
          null,
          null,
          null,
          null,
          null,
          5.430892857142858,
          6.205000000000001,
          5.935833333333333,
          6.094285714285715,
          5.769297619047619,
          5.710820512820513,
          5.376190476190476,
          5.62712380952381,
          null,
          null,
          5.669999999999999,
          null,
          5.740714285714286,
          null,
          5.6308333333333325,
          5.611,
          5.6677,
          5.475809523809524,
          5.86,
          5.675142857142856,
          5.672000000000001,
          5.6494,
          null,
          5.448095238095238,
          5.567244897959183,
          5.552454301075271,
          5.623333333333333,
          5.673749999999999,
          5.588071428571429,
          5.548333333333333,
          5.583083333333333,
          5.56031746031746,
          5.560786332714905,
          5.847053781866286,
          5.804914285714286,
          5.801269841269842,
          5.794283636363637,
          5.718333333333333,
          5.503205164652929,
          5.601353422619049
         ],
         "yaxis": "y"
        },
        {
         "hovertemplate": "variable=גדעון סער<br>Date=%{x}<br>Mean 3 hourly sentiment (scale 1-9)=%{y}<extra></extra>",
         "legendgroup": "גדעון סער",
         "line": {
          "color": "rgb(57, 105, 172)",
          "dash": "solid"
         },
         "mode": "lines",
         "name": "גדעון סער",
         "orientation": "v",
         "showlegend": true,
         "type": "scatter",
         "x": [
          "2021-03-29T09:00:00+00:00",
          "2021-03-29T12:00:00+00:00",
          "2021-03-29T15:00:00+00:00",
          "2021-03-29T18:00:00+00:00",
          "2021-03-29T21:00:00+00:00",
          "2021-03-30T00:00:00+00:00",
          "2021-03-30T03:00:00+00:00",
          "2021-03-30T06:00:00+00:00",
          "2021-03-30T09:00:00+00:00",
          "2021-03-30T12:00:00+00:00",
          "2021-03-30T15:00:00+00:00",
          "2021-03-30T18:00:00+00:00",
          "2021-03-30T21:00:00+00:00",
          "2021-03-31T00:00:00+00:00",
          "2021-03-31T03:00:00+00:00",
          "2021-03-31T06:00:00+00:00",
          "2021-03-31T09:00:00+00:00",
          "2021-03-31T12:00:00+00:00",
          "2021-03-31T15:00:00+00:00",
          "2021-03-31T18:00:00+00:00",
          "2021-03-31T21:00:00+00:00",
          "2021-04-01T00:00:00+00:00",
          "2021-04-01T03:00:00+00:00",
          "2021-04-01T06:00:00+00:00",
          "2021-04-01T09:00:00+00:00",
          "2021-04-01T12:00:00+00:00",
          "2021-04-01T15:00:00+00:00",
          "2021-04-01T18:00:00+00:00",
          "2021-04-01T21:00:00+00:00",
          "2021-04-02T00:00:00+00:00",
          "2021-04-02T03:00:00+00:00",
          "2021-04-02T06:00:00+00:00",
          "2021-04-02T09:00:00+00:00",
          "2021-04-02T12:00:00+00:00",
          "2021-04-02T15:00:00+00:00",
          "2021-04-02T18:00:00+00:00",
          "2021-04-02T21:00:00+00:00",
          "2021-04-03T00:00:00+00:00",
          "2021-04-03T03:00:00+00:00",
          "2021-04-03T06:00:00+00:00",
          "2021-04-03T09:00:00+00:00",
          "2021-04-03T12:00:00+00:00",
          "2021-04-03T15:00:00+00:00",
          "2021-04-03T18:00:00+00:00",
          "2021-04-03T21:00:00+00:00",
          "2021-04-04T00:00:00+00:00",
          "2021-04-04T03:00:00+00:00",
          "2021-04-04T06:00:00+00:00",
          "2021-04-04T09:00:00+00:00",
          "2021-04-04T12:00:00+00:00",
          "2021-04-04T15:00:00+00:00",
          "2021-04-04T18:00:00+00:00",
          "2021-04-04T21:00:00+00:00",
          "2021-04-05T00:00:00+00:00",
          "2021-04-05T03:00:00+00:00",
          "2021-04-05T06:00:00+00:00",
          "2021-04-05T09:00:00+00:00",
          "2021-04-05T12:00:00+00:00",
          "2021-04-05T15:00:00+00:00",
          "2021-04-05T18:00:00+00:00",
          "2021-04-05T21:00:00+00:00",
          "2021-04-06T00:00:00+00:00",
          "2021-04-06T03:00:00+00:00",
          "2021-04-06T06:00:00+00:00",
          "2021-04-06T09:00:00+00:00",
          "2021-04-06T12:00:00+00:00"
         ],
         "xaxis": "x",
         "y": [
          null,
          null,
          null,
          null,
          null,
          null,
          5.519010415334649,
          null,
          null,
          null,
          null,
          5.601903177132007,
          5.608156588832414,
          5.4665,
          5.470645812687983,
          5.491256819762028,
          5.5432114432210655,
          5.644619393980507,
          5.5391364365971105,
          5.526969456357663,
          5.485026402640264,
          5.520565891962444,
          5.468667399267397,
          5.534834114959115,
          5.4213128146587035,
          5.386581423161519,
          5.491700208629753,
          5.496778377088862,
          5.323115347018574,
          5.556833333333334,
          5.61028364389234,
          5.607660800310801,
          5.568999665726732,
          5.417695167927315,
          5.363865617715618,
          5.529248263888888,
          5.609494107744108,
          5.180133333333333,
          5.077965270840271,
          5.511901695526695,
          5.911638047138046,
          5.674524925595237,
          5.498653762456183,
          5.438732861743733,
          5.4258558802308805,
          5.3799242424242415,
          5.247659722222222,
          5.499286655905301,
          5.48326133468726,
          5.233273925236195,
          5.361035019841269,
          5.4608900310493285,
          5.335054315833257,
          5.522503863996193,
          5.397412985365257,
          5.407646445895464,
          5.407554514770033,
          5.504870628568606,
          5.506674202440349,
          5.450580067155068,
          5.321035234606662,
          5.5167632597754555,
          5.401596739786396,
          5.43353322628665,
          5.713860167610166,
          null
         ],
         "yaxis": "y"
        },
        {
         "hovertemplate": "variable=נפתלי בנט<br>Date=%{x}<br>Mean 3 hourly sentiment (scale 1-9)=%{y}<extra></extra>",
         "legendgroup": "נפתלי בנט",
         "line": {
          "color": "rgb(242, 183, 1)",
          "dash": "solid"
         },
         "mode": "lines",
         "name": "נפתלי בנט",
         "orientation": "v",
         "showlegend": true,
         "type": "scatter",
         "x": [
          "2021-03-29T09:00:00+00:00",
          "2021-03-29T12:00:00+00:00",
          "2021-03-29T15:00:00+00:00",
          "2021-03-29T18:00:00+00:00",
          "2021-03-29T21:00:00+00:00",
          "2021-03-30T00:00:00+00:00",
          "2021-03-30T03:00:00+00:00",
          "2021-03-30T06:00:00+00:00",
          "2021-03-30T09:00:00+00:00",
          "2021-03-30T12:00:00+00:00",
          "2021-03-30T15:00:00+00:00",
          "2021-03-30T18:00:00+00:00",
          "2021-03-30T21:00:00+00:00",
          "2021-03-31T00:00:00+00:00",
          "2021-03-31T03:00:00+00:00",
          "2021-03-31T06:00:00+00:00",
          "2021-03-31T09:00:00+00:00",
          "2021-03-31T12:00:00+00:00",
          "2021-03-31T15:00:00+00:00",
          "2021-03-31T18:00:00+00:00",
          "2021-03-31T21:00:00+00:00",
          "2021-04-01T00:00:00+00:00",
          "2021-04-01T03:00:00+00:00",
          "2021-04-01T06:00:00+00:00",
          "2021-04-01T09:00:00+00:00",
          "2021-04-01T12:00:00+00:00",
          "2021-04-01T15:00:00+00:00",
          "2021-04-01T18:00:00+00:00",
          "2021-04-01T21:00:00+00:00",
          "2021-04-02T00:00:00+00:00",
          "2021-04-02T03:00:00+00:00",
          "2021-04-02T06:00:00+00:00",
          "2021-04-02T09:00:00+00:00",
          "2021-04-02T12:00:00+00:00",
          "2021-04-02T15:00:00+00:00",
          "2021-04-02T18:00:00+00:00",
          "2021-04-02T21:00:00+00:00",
          "2021-04-03T00:00:00+00:00",
          "2021-04-03T03:00:00+00:00",
          "2021-04-03T06:00:00+00:00",
          "2021-04-03T09:00:00+00:00",
          "2021-04-03T12:00:00+00:00",
          "2021-04-03T15:00:00+00:00",
          "2021-04-03T18:00:00+00:00",
          "2021-04-03T21:00:00+00:00",
          "2021-04-04T00:00:00+00:00",
          "2021-04-04T03:00:00+00:00",
          "2021-04-04T06:00:00+00:00",
          "2021-04-04T09:00:00+00:00",
          "2021-04-04T12:00:00+00:00",
          "2021-04-04T15:00:00+00:00",
          "2021-04-04T18:00:00+00:00",
          "2021-04-04T21:00:00+00:00",
          "2021-04-05T00:00:00+00:00",
          "2021-04-05T03:00:00+00:00",
          "2021-04-05T06:00:00+00:00",
          "2021-04-05T09:00:00+00:00",
          "2021-04-05T12:00:00+00:00",
          "2021-04-05T15:00:00+00:00",
          "2021-04-05T18:00:00+00:00",
          "2021-04-05T21:00:00+00:00",
          "2021-04-06T00:00:00+00:00",
          "2021-04-06T03:00:00+00:00",
          "2021-04-06T06:00:00+00:00",
          "2021-04-06T09:00:00+00:00",
          "2021-04-06T12:00:00+00:00"
         ],
         "xaxis": "x",
         "y": [
          5.386231350045301,
          5.483283383283383,
          5.421116045245076,
          5.479083959899751,
          5.319164941338854,
          5.86222222222222,
          5.1891839285714285,
          5.323492424242422,
          5.377595332577481,
          5.4134155474155525,
          5.465299067867617,
          5.435104665108907,
          5.422250752334086,
          5.549672727272728,
          5.499153106349912,
          5.585510859991377,
          5.375903693446601,
          5.355267910464198,
          5.387312389049794,
          5.358244518401501,
          5.4022052114552075,
          5.2405180652680645,
          5.375532828282828,
          5.406660422459201,
          5.526909005186239,
          5.49763026548981,
          5.472872297225797,
          5.423914728789731,
          5.530119674185464,
          5.5414259259259255,
          5.508307359307358,
          5.407940278156189,
          5.32721376927167,
          5.419792049655063,
          5.54586368859898,
          5.471305992805991,
          5.444857875457875,
          5.21823076923077,
          5.1832032627865985,
          5.200119694813626,
          5.483449782814242,
          5.440099637842597,
          5.457506705006706,
          5.430027278277277,
          5.48965278980279,
          5.71014393939394,
          5.468871216085501,
          5.6755155659942895,
          5.436882198609471,
          5.253143620109138,
          5.389047186895501,
          5.392283966835988,
          5.293215560695014,
          5.360911925376213,
          5.297249392160353,
          5.405366885718447,
          5.3163258992938145,
          5.40596622821623,
          5.361607057774505,
          5.432699667534391,
          5.362436610189329,
          5.253843537414965,
          5.433350457932088,
          5.357871350871353,
          5.253316449123267,
          5.84270987654321
         ],
         "yaxis": "y"
        },
        {
         "hovertemplate": "variable=יאיר לפיד<br>Date=%{x}<br>Mean 3 hourly sentiment (scale 1-9)=%{y}<extra></extra>",
         "legendgroup": "יאיר לפיד",
         "line": {
          "color": "rgb(231, 63, 116)",
          "dash": "solid"
         },
         "mode": "lines",
         "name": "יאיר לפיד",
         "orientation": "v",
         "showlegend": true,
         "type": "scatter",
         "x": [
          "2021-03-29T09:00:00+00:00",
          "2021-03-29T12:00:00+00:00",
          "2021-03-29T15:00:00+00:00",
          "2021-03-29T18:00:00+00:00",
          "2021-03-29T21:00:00+00:00",
          "2021-03-30T00:00:00+00:00",
          "2021-03-30T03:00:00+00:00",
          "2021-03-30T06:00:00+00:00",
          "2021-03-30T09:00:00+00:00",
          "2021-03-30T12:00:00+00:00",
          "2021-03-30T15:00:00+00:00",
          "2021-03-30T18:00:00+00:00",
          "2021-03-30T21:00:00+00:00",
          "2021-03-31T00:00:00+00:00",
          "2021-03-31T03:00:00+00:00",
          "2021-03-31T06:00:00+00:00",
          "2021-03-31T09:00:00+00:00",
          "2021-03-31T12:00:00+00:00",
          "2021-03-31T15:00:00+00:00",
          "2021-03-31T18:00:00+00:00",
          "2021-03-31T21:00:00+00:00",
          "2021-04-01T00:00:00+00:00",
          "2021-04-01T03:00:00+00:00",
          "2021-04-01T06:00:00+00:00",
          "2021-04-01T09:00:00+00:00",
          "2021-04-01T12:00:00+00:00",
          "2021-04-01T15:00:00+00:00",
          "2021-04-01T18:00:00+00:00",
          "2021-04-01T21:00:00+00:00",
          "2021-04-02T00:00:00+00:00",
          "2021-04-02T03:00:00+00:00",
          "2021-04-02T06:00:00+00:00",
          "2021-04-02T09:00:00+00:00",
          "2021-04-02T12:00:00+00:00",
          "2021-04-02T15:00:00+00:00",
          "2021-04-02T18:00:00+00:00",
          "2021-04-02T21:00:00+00:00",
          "2021-04-03T00:00:00+00:00",
          "2021-04-03T03:00:00+00:00",
          "2021-04-03T06:00:00+00:00",
          "2021-04-03T09:00:00+00:00",
          "2021-04-03T12:00:00+00:00",
          "2021-04-03T15:00:00+00:00",
          "2021-04-03T18:00:00+00:00",
          "2021-04-03T21:00:00+00:00",
          "2021-04-04T00:00:00+00:00",
          "2021-04-04T03:00:00+00:00",
          "2021-04-04T06:00:00+00:00",
          "2021-04-04T09:00:00+00:00",
          "2021-04-04T12:00:00+00:00",
          "2021-04-04T15:00:00+00:00",
          "2021-04-04T18:00:00+00:00",
          "2021-04-04T21:00:00+00:00",
          "2021-04-05T00:00:00+00:00",
          "2021-04-05T03:00:00+00:00",
          "2021-04-05T06:00:00+00:00",
          "2021-04-05T09:00:00+00:00",
          "2021-04-05T12:00:00+00:00",
          "2021-04-05T15:00:00+00:00",
          "2021-04-05T18:00:00+00:00",
          "2021-04-05T21:00:00+00:00",
          "2021-04-06T00:00:00+00:00",
          "2021-04-06T03:00:00+00:00",
          "2021-04-06T06:00:00+00:00",
          "2021-04-06T09:00:00+00:00",
          "2021-04-06T12:00:00+00:00"
         ],
         "xaxis": "x",
         "y": [
          5.5088916802687296,
          5.4660260033552746,
          5.373014976293549,
          5.390567083707486,
          5.359734265734265,
          5.452895833333333,
          5.458915397102896,
          5.514413516297103,
          5.558521160387232,
          5.4237236874236885,
          5.547745209111876,
          5.448966218249669,
          5.460491871962463,
          5.6049347041847035,
          5.467260912698413,
          5.549614412825575,
          5.556216096334909,
          5.447966042809448,
          5.4687903605233155,
          5.392629068671443,
          5.40041516722449,
          5.3362207792207785,
          5.418476958525345,
          5.468671076966853,
          5.566842118992119,
          5.620664151576123,
          5.470544103499987,
          5.445330955660503,
          5.484448179271708,
          5.577466604823747,
          5.509690917107585,
          5.327538926681784,
          5.564166537827252,
          5.407596648301195,
          5.410012113617376,
          5.581897435897437,
          5.518333333333334,
          null,
          5.289666666666666,
          5.553954248366015,
          5.478906819517933,
          5.523934159378037,
          5.469332288660414,
          5.455115764251181,
          5.462389702889702,
          5.384212962962963,
          5.558189733469145,
          5.499145541549952,
          5.275023390046645,
          5.440256607076053,
          5.445367379148631,
          5.391470487166297,
          5.38198433726767,
          5.431716575091574,
          5.352950212180979,
          5.558476647209,
          5.515832165154536,
          5.472202621149345,
          5.452058771523612,
          5.524564576677438,
          5.450786669843566,
          5.5541549481591845,
          5.451081953504011,
          5.430490984998791,
          5.445722437051087,
          5.4413356490575575
         ],
         "yaxis": "y"
        },
        {
         "hovertemplate": "variable=בני גנץ<br>Date=%{x}<br>Mean 3 hourly sentiment (scale 1-9)=%{y}<extra></extra>",
         "legendgroup": "בני גנץ",
         "line": {
          "color": "rgb(128, 186, 90)",
          "dash": "solid"
         },
         "mode": "lines",
         "name": "בני גנץ",
         "orientation": "v",
         "showlegend": true,
         "type": "scatter",
         "x": [
          "2021-03-29T09:00:00+00:00",
          "2021-03-29T12:00:00+00:00",
          "2021-03-29T15:00:00+00:00",
          "2021-03-29T18:00:00+00:00",
          "2021-03-29T21:00:00+00:00",
          "2021-03-30T00:00:00+00:00",
          "2021-03-30T03:00:00+00:00",
          "2021-03-30T06:00:00+00:00",
          "2021-03-30T09:00:00+00:00",
          "2021-03-30T12:00:00+00:00",
          "2021-03-30T15:00:00+00:00",
          "2021-03-30T18:00:00+00:00",
          "2021-03-30T21:00:00+00:00",
          "2021-03-31T00:00:00+00:00",
          "2021-03-31T03:00:00+00:00",
          "2021-03-31T06:00:00+00:00",
          "2021-03-31T09:00:00+00:00",
          "2021-03-31T12:00:00+00:00",
          "2021-03-31T15:00:00+00:00",
          "2021-03-31T18:00:00+00:00",
          "2021-03-31T21:00:00+00:00",
          "2021-04-01T00:00:00+00:00",
          "2021-04-01T03:00:00+00:00",
          "2021-04-01T06:00:00+00:00",
          "2021-04-01T09:00:00+00:00",
          "2021-04-01T12:00:00+00:00",
          "2021-04-01T15:00:00+00:00",
          "2021-04-01T18:00:00+00:00",
          "2021-04-01T21:00:00+00:00",
          "2021-04-02T00:00:00+00:00",
          "2021-04-02T03:00:00+00:00",
          "2021-04-02T06:00:00+00:00",
          "2021-04-02T09:00:00+00:00",
          "2021-04-02T12:00:00+00:00",
          "2021-04-02T15:00:00+00:00",
          "2021-04-02T18:00:00+00:00",
          "2021-04-02T21:00:00+00:00",
          "2021-04-03T00:00:00+00:00",
          "2021-04-03T03:00:00+00:00",
          "2021-04-03T06:00:00+00:00",
          "2021-04-03T09:00:00+00:00",
          "2021-04-03T12:00:00+00:00",
          "2021-04-03T15:00:00+00:00",
          "2021-04-03T18:00:00+00:00",
          "2021-04-03T21:00:00+00:00",
          "2021-04-04T00:00:00+00:00",
          "2021-04-04T03:00:00+00:00",
          "2021-04-04T06:00:00+00:00",
          "2021-04-04T09:00:00+00:00",
          "2021-04-04T12:00:00+00:00",
          "2021-04-04T15:00:00+00:00",
          "2021-04-04T18:00:00+00:00",
          "2021-04-04T21:00:00+00:00",
          "2021-04-05T00:00:00+00:00",
          "2021-04-05T03:00:00+00:00",
          "2021-04-05T06:00:00+00:00",
          "2021-04-05T09:00:00+00:00",
          "2021-04-05T12:00:00+00:00",
          "2021-04-05T15:00:00+00:00",
          "2021-04-05T18:00:00+00:00",
          "2021-04-05T21:00:00+00:00",
          "2021-04-06T00:00:00+00:00",
          "2021-04-06T03:00:00+00:00",
          "2021-04-06T06:00:00+00:00",
          "2021-04-06T09:00:00+00:00",
          "2021-04-06T12:00:00+00:00"
         ],
         "xaxis": "x",
         "y": [
          5.438885390703576,
          5.437627078368964,
          5.439950543024228,
          5.425444904585206,
          5.486467532467533,
          5.469276455026456,
          5.549001903718773,
          5.576318031351363,
          5.580451740519151,
          5.473496314532028,
          5.5861258427365,
          5.434476608065425,
          5.340769450549451,
          5.653987012987012,
          5.449249231950843,
          5.4438991402116415,
          5.652679658621443,
          5.4602806945879,
          5.527182669520257,
          5.5627069847887185,
          5.495129251700681,
          5.342222222222222,
          5.673903401360544,
          5.222880203653785,
          5.659029960317461,
          5.584789198606269,
          5.505295436555788,
          5.435948002189378,
          5.517744342778432,
          5.476502164502165,
          5.4527503968253965,
          5.6092037115889575,
          5.51339751157933,
          5.393709914883833,
          5.3420699254449255,
          5.397944738389183,
          5.306190476190476,
          5.233333333333333,
          5.458368055555555,
          5.078570075757576,
          5.338238095238096,
          5.563851370851371,
          5.581332766439909,
          5.372864280055455,
          5.461150793650792,
          5.562055860805861,
          5.462509894867038,
          5.3178580647747316,
          5.4232021520146505,
          5.303710648148148,
          5.371403508771931,
          5.301213580246913,
          5.38558608058608,
          5.266222222222223,
          5.369260564831993,
          5.569587026964801,
          5.725134116199455,
          5.331848036345901,
          5.571332017655548,
          5.4208434881867715,
          5.514835317460317,
          5.3708921568627455,
          5.427265873015872,
          5.581855967078188,
          5.336183760683761,
          5.582516534391536
         ],
         "yaxis": "y"
        },
        {
         "hovertemplate": "variable=איימן עודה<br>Date=%{x}<br>Mean 3 hourly sentiment (scale 1-9)=%{y}<extra></extra>",
         "legendgroup": "איימן עודה",
         "line": {
          "color": "rgb(230, 131, 16)",
          "dash": "solid"
         },
         "mode": "lines",
         "name": "איימן עודה",
         "orientation": "v",
         "showlegend": true,
         "type": "scatter",
         "x": [
          "2021-03-29T09:00:00+00:00",
          "2021-03-29T12:00:00+00:00",
          "2021-03-29T15:00:00+00:00",
          "2021-03-29T18:00:00+00:00",
          "2021-03-29T21:00:00+00:00",
          "2021-03-30T00:00:00+00:00",
          "2021-03-30T03:00:00+00:00",
          "2021-03-30T06:00:00+00:00",
          "2021-03-30T09:00:00+00:00",
          "2021-03-30T12:00:00+00:00",
          "2021-03-30T15:00:00+00:00",
          "2021-03-30T18:00:00+00:00",
          "2021-03-30T21:00:00+00:00",
          "2021-03-31T00:00:00+00:00",
          "2021-03-31T03:00:00+00:00",
          "2021-03-31T06:00:00+00:00",
          "2021-03-31T09:00:00+00:00",
          "2021-03-31T12:00:00+00:00",
          "2021-03-31T15:00:00+00:00",
          "2021-03-31T18:00:00+00:00",
          "2021-03-31T21:00:00+00:00",
          "2021-04-01T00:00:00+00:00",
          "2021-04-01T03:00:00+00:00",
          "2021-04-01T06:00:00+00:00",
          "2021-04-01T09:00:00+00:00",
          "2021-04-01T12:00:00+00:00",
          "2021-04-01T15:00:00+00:00",
          "2021-04-01T18:00:00+00:00",
          "2021-04-01T21:00:00+00:00",
          "2021-04-02T00:00:00+00:00",
          "2021-04-02T03:00:00+00:00",
          "2021-04-02T06:00:00+00:00",
          "2021-04-02T09:00:00+00:00",
          "2021-04-02T12:00:00+00:00",
          "2021-04-02T15:00:00+00:00",
          "2021-04-02T18:00:00+00:00",
          "2021-04-02T21:00:00+00:00",
          "2021-04-03T00:00:00+00:00",
          "2021-04-03T03:00:00+00:00",
          "2021-04-03T06:00:00+00:00",
          "2021-04-03T09:00:00+00:00",
          "2021-04-03T12:00:00+00:00",
          "2021-04-03T15:00:00+00:00",
          "2021-04-03T18:00:00+00:00",
          "2021-04-03T21:00:00+00:00",
          "2021-04-04T00:00:00+00:00",
          "2021-04-04T03:00:00+00:00",
          "2021-04-04T06:00:00+00:00",
          "2021-04-04T09:00:00+00:00",
          "2021-04-04T12:00:00+00:00",
          "2021-04-04T15:00:00+00:00",
          "2021-04-04T18:00:00+00:00",
          "2021-04-04T21:00:00+00:00",
          "2021-04-05T00:00:00+00:00",
          "2021-04-05T03:00:00+00:00",
          "2021-04-05T06:00:00+00:00",
          "2021-04-05T09:00:00+00:00",
          "2021-04-05T12:00:00+00:00",
          "2021-04-05T15:00:00+00:00",
          "2021-04-05T18:00:00+00:00",
          "2021-04-05T21:00:00+00:00",
          "2021-04-06T00:00:00+00:00",
          "2021-04-06T03:00:00+00:00",
          "2021-04-06T06:00:00+00:00",
          "2021-04-06T09:00:00+00:00",
          "2021-04-06T12:00:00+00:00"
         ],
         "xaxis": "x",
         "y": [
          5.732363636363637,
          5.791153846153846,
          5.687,
          5.67247619047619,
          5.477944444444444,
          null,
          5.653693181818182,
          5.722219576719577,
          5.352727272727273,
          5.2239781746031735,
          4.90140404040404,
          5.516249999999999,
          5.7293,
          3.7249999999999996,
          5.586675457875458,
          5.674312500000001,
          5.826041666666667,
          5.320022023809524,
          5.410666666666667,
          5.296309523809524,
          5.405625,
          null,
          5.530555555555555,
          5.504166666666667,
          5.78295760233918,
          5.859656084656084,
          5.508247458262308,
          null,
          null,
          null,
          null,
          null,
          null,
          null,
          null,
          null,
          null,
          null,
          null,
          null,
          null,
          null,
          null,
          null,
          null,
          null,
          null,
          null,
          null,
          null,
          5.4395784313725475,
          5.533684807256239,
          5.5597137085137085,
          5.369880952380952,
          5.427540706605222,
          5.479224651765468,
          5.244853585112206,
          5.537790270762105,
          5.477961720131724,
          5.428815591815594,
          5.457930036630035,
          5.523550915750915,
          5.452505551987694,
          5.426422448979593,
          5.57700274571108,
          5.637831642482325
         ],
         "yaxis": "y"
        },
        {
         "hovertemplate": "variable=מרב מיכאלי<br>Date=%{x}<br>Mean 3 hourly sentiment (scale 1-9)=%{y}<extra></extra>",
         "legendgroup": "מרב מיכאלי",
         "line": {
          "color": "rgb(0, 134, 149)",
          "dash": "solid"
         },
         "mode": "lines",
         "name": "מרב מיכאלי",
         "orientation": "v",
         "showlegend": true,
         "type": "scatter",
         "x": [
          "2021-03-29T09:00:00+00:00",
          "2021-03-29T12:00:00+00:00",
          "2021-03-29T15:00:00+00:00",
          "2021-03-29T18:00:00+00:00",
          "2021-03-29T21:00:00+00:00",
          "2021-03-30T00:00:00+00:00",
          "2021-03-30T03:00:00+00:00",
          "2021-03-30T06:00:00+00:00",
          "2021-03-30T09:00:00+00:00",
          "2021-03-30T12:00:00+00:00",
          "2021-03-30T15:00:00+00:00",
          "2021-03-30T18:00:00+00:00",
          "2021-03-30T21:00:00+00:00",
          "2021-03-31T00:00:00+00:00",
          "2021-03-31T03:00:00+00:00",
          "2021-03-31T06:00:00+00:00",
          "2021-03-31T09:00:00+00:00",
          "2021-03-31T12:00:00+00:00",
          "2021-03-31T15:00:00+00:00",
          "2021-03-31T18:00:00+00:00",
          "2021-03-31T21:00:00+00:00",
          "2021-04-01T00:00:00+00:00",
          "2021-04-01T03:00:00+00:00",
          "2021-04-01T06:00:00+00:00",
          "2021-04-01T09:00:00+00:00",
          "2021-04-01T12:00:00+00:00",
          "2021-04-01T15:00:00+00:00",
          "2021-04-01T18:00:00+00:00",
          "2021-04-01T21:00:00+00:00",
          "2021-04-02T00:00:00+00:00",
          "2021-04-02T03:00:00+00:00",
          "2021-04-02T06:00:00+00:00",
          "2021-04-02T09:00:00+00:00",
          "2021-04-02T12:00:00+00:00",
          "2021-04-02T15:00:00+00:00",
          "2021-04-02T18:00:00+00:00",
          "2021-04-02T21:00:00+00:00",
          "2021-04-03T00:00:00+00:00",
          "2021-04-03T03:00:00+00:00",
          "2021-04-03T06:00:00+00:00",
          "2021-04-03T09:00:00+00:00",
          "2021-04-03T12:00:00+00:00",
          "2021-04-03T15:00:00+00:00",
          "2021-04-03T18:00:00+00:00",
          "2021-04-03T21:00:00+00:00",
          "2021-04-04T00:00:00+00:00",
          "2021-04-04T03:00:00+00:00",
          "2021-04-04T06:00:00+00:00",
          "2021-04-04T09:00:00+00:00",
          "2021-04-04T12:00:00+00:00",
          "2021-04-04T15:00:00+00:00",
          "2021-04-04T18:00:00+00:00",
          "2021-04-04T21:00:00+00:00",
          "2021-04-05T00:00:00+00:00",
          "2021-04-05T03:00:00+00:00",
          "2021-04-05T06:00:00+00:00",
          "2021-04-05T09:00:00+00:00",
          "2021-04-05T12:00:00+00:00",
          "2021-04-05T15:00:00+00:00",
          "2021-04-05T18:00:00+00:00",
          "2021-04-05T21:00:00+00:00",
          "2021-04-06T00:00:00+00:00",
          "2021-04-06T03:00:00+00:00",
          "2021-04-06T06:00:00+00:00",
          "2021-04-06T09:00:00+00:00",
          "2021-04-06T12:00:00+00:00"
         ],
         "xaxis": "x",
         "y": [
          5.6237314814814825,
          5.506343749999999,
          5.295032349896481,
          5.527882605820106,
          5.591747474747475,
          5.75,
          5.563292517006802,
          5.491164021164021,
          5.4693555555555555,
          5.57537037037037,
          5.508112616066103,
          5.553448809523809,
          5.645136363636364,
          5.651111111111111,
          5.595876504447932,
          5.6581670995671,
          5.764709690893901,
          5.679500000000002,
          5.6306993006993,
          5.609103519668738,
          5.630999999999999,
          5.579999999999999,
          5.667587301587302,
          5.802388888888889,
          5.45404761904762,
          5.696734126984128,
          5.652166666666665,
          5.50439393939394,
          5.600291005291006,
          5.625,
          5.844722222222221,
          5.746749259512417,
          5.4881746031746035,
          5.675923687423687,
          4.94,
          5.182,
          5.711666666666666,
          null,
          5.661428571428571,
          5.406257142857142,
          5.615945578231292,
          5.457619047619048,
          5.3125,
          5.420278138528139,
          5.717222222222222,
          null,
          null,
          5.398651515151515,
          5.48528873771731,
          null,
          null,
          null,
          null,
          null,
          null,
          null,
          null,
          null,
          null,
          null,
          null,
          null,
          null,
          null,
          5.2784398162812805,
          5.3139064560722735
         ],
         "yaxis": "y"
        },
        {
         "hovertemplate": "variable=ניצן הורוביץ<br>Date=%{x}<br>Mean 3 hourly sentiment (scale 1-9)=%{y}<extra></extra>",
         "legendgroup": "ניצן הורוביץ",
         "line": {
          "color": "rgb(207, 28, 144)",
          "dash": "solid"
         },
         "mode": "lines",
         "name": "ניצן הורוביץ",
         "orientation": "v",
         "showlegend": true,
         "type": "scatter",
         "x": [
          "2021-03-29T09:00:00+00:00",
          "2021-03-29T12:00:00+00:00",
          "2021-03-29T15:00:00+00:00",
          "2021-03-29T18:00:00+00:00",
          "2021-03-29T21:00:00+00:00",
          "2021-03-30T00:00:00+00:00",
          "2021-03-30T03:00:00+00:00",
          "2021-03-30T06:00:00+00:00",
          "2021-03-30T09:00:00+00:00",
          "2021-03-30T12:00:00+00:00",
          "2021-03-30T15:00:00+00:00",
          "2021-03-30T18:00:00+00:00",
          "2021-03-30T21:00:00+00:00",
          "2021-03-31T00:00:00+00:00",
          "2021-03-31T03:00:00+00:00",
          "2021-03-31T06:00:00+00:00",
          "2021-03-31T09:00:00+00:00",
          "2021-03-31T12:00:00+00:00",
          "2021-03-31T15:00:00+00:00",
          "2021-03-31T18:00:00+00:00",
          "2021-03-31T21:00:00+00:00",
          "2021-04-01T00:00:00+00:00",
          "2021-04-01T03:00:00+00:00",
          "2021-04-01T06:00:00+00:00",
          "2021-04-01T09:00:00+00:00",
          "2021-04-01T12:00:00+00:00",
          "2021-04-01T15:00:00+00:00",
          "2021-04-01T18:00:00+00:00",
          "2021-04-01T21:00:00+00:00",
          "2021-04-02T00:00:00+00:00",
          "2021-04-02T03:00:00+00:00",
          "2021-04-02T06:00:00+00:00",
          "2021-04-02T09:00:00+00:00",
          "2021-04-02T12:00:00+00:00",
          "2021-04-02T15:00:00+00:00",
          "2021-04-02T18:00:00+00:00",
          "2021-04-02T21:00:00+00:00",
          "2021-04-03T00:00:00+00:00",
          "2021-04-03T03:00:00+00:00",
          "2021-04-03T06:00:00+00:00",
          "2021-04-03T09:00:00+00:00",
          "2021-04-03T12:00:00+00:00",
          "2021-04-03T15:00:00+00:00",
          "2021-04-03T18:00:00+00:00",
          "2021-04-03T21:00:00+00:00",
          "2021-04-04T00:00:00+00:00",
          "2021-04-04T03:00:00+00:00",
          "2021-04-04T06:00:00+00:00",
          "2021-04-04T09:00:00+00:00",
          "2021-04-04T12:00:00+00:00",
          "2021-04-04T15:00:00+00:00",
          "2021-04-04T18:00:00+00:00",
          "2021-04-04T21:00:00+00:00",
          "2021-04-05T00:00:00+00:00",
          "2021-04-05T03:00:00+00:00",
          "2021-04-05T06:00:00+00:00",
          "2021-04-05T09:00:00+00:00",
          "2021-04-05T12:00:00+00:00",
          "2021-04-05T15:00:00+00:00",
          "2021-04-05T18:00:00+00:00",
          "2021-04-05T21:00:00+00:00",
          "2021-04-06T00:00:00+00:00",
          "2021-04-06T03:00:00+00:00",
          "2021-04-06T06:00:00+00:00",
          "2021-04-06T09:00:00+00:00",
          "2021-04-06T12:00:00+00:00"
         ],
         "xaxis": "x",
         "y": [
          5.656591503267974,
          5.643956287008011,
          5.691338000541125,
          5.649542960662526,
          5.67504761904762,
          5.352833333333333,
          5.604437770562772,
          5.534212905452036,
          5.687573979591838,
          5.8429206349206355,
          5.501289377289378,
          5.513333333333333,
          5.889583333333333,
          5.965,
          5.450277777777778,
          5.4973790954415955,
          5.660533968253969,
          5.6409345238095225,
          5.694708931419457,
          5.6110191713048865,
          6.003809523809523,
          null,
          5.553441758241758,
          5.557790043290041,
          5.58083633033633,
          5.887666666666667,
          5.799190476190476,
          5.6104331232493,
          5.876785714285715,
          null,
          6.18,
          5.711987133237133,
          5.737291443850267,
          5.9030000000000005,
          5.074583333333333,
          5.387545518207283,
          5.265757575757576,
          5.8625,
          null,
          null,
          5.142222222222221,
          5.432181818181818,
          5.892650793650794,
          5.602448412698412,
          5.287142857142857,
          5.460000000000001,
          null,
          5.434333333333333,
          5.684448412698412,
          5.511000000000001,
          5.626393650793651,
          5.369837662337662,
          5.536666666666667,
          5.6850000000000005,
          5.677088744588744,
          5.6764035994869335,
          5.608863945578233,
          5.668479717813052,
          5.866010582010583,
          5.848518518518518,
          null,
          null,
          5.295,
          5.713207671957672,
          5.352222222222222,
          5.728581632653061
         ],
         "yaxis": "y"
        },
        {
         "hovertemplate": "variable=אריה דרעי<br>Date=%{x}<br>Mean 3 hourly sentiment (scale 1-9)=%{y}<extra></extra>",
         "legendgroup": "אריה דרעי",
         "line": {
          "color": "rgb(249, 123, 114)",
          "dash": "solid"
         },
         "mode": "lines",
         "name": "אריה דרעי",
         "orientation": "v",
         "showlegend": true,
         "type": "scatter",
         "x": [
          "2021-03-29T09:00:00+00:00",
          "2021-03-29T12:00:00+00:00",
          "2021-03-29T15:00:00+00:00",
          "2021-03-29T18:00:00+00:00",
          "2021-03-29T21:00:00+00:00",
          "2021-03-30T00:00:00+00:00",
          "2021-03-30T03:00:00+00:00",
          "2021-03-30T06:00:00+00:00",
          "2021-03-30T09:00:00+00:00",
          "2021-03-30T12:00:00+00:00",
          "2021-03-30T15:00:00+00:00",
          "2021-03-30T18:00:00+00:00",
          "2021-03-30T21:00:00+00:00",
          "2021-03-31T00:00:00+00:00",
          "2021-03-31T03:00:00+00:00",
          "2021-03-31T06:00:00+00:00",
          "2021-03-31T09:00:00+00:00",
          "2021-03-31T12:00:00+00:00",
          "2021-03-31T15:00:00+00:00",
          "2021-03-31T18:00:00+00:00",
          "2021-03-31T21:00:00+00:00",
          "2021-04-01T00:00:00+00:00",
          "2021-04-01T03:00:00+00:00",
          "2021-04-01T06:00:00+00:00",
          "2021-04-01T09:00:00+00:00",
          "2021-04-01T12:00:00+00:00",
          "2021-04-01T15:00:00+00:00",
          "2021-04-01T18:00:00+00:00",
          "2021-04-01T21:00:00+00:00",
          "2021-04-02T00:00:00+00:00",
          "2021-04-02T03:00:00+00:00",
          "2021-04-02T06:00:00+00:00",
          "2021-04-02T09:00:00+00:00",
          "2021-04-02T12:00:00+00:00",
          "2021-04-02T15:00:00+00:00",
          "2021-04-02T18:00:00+00:00",
          "2021-04-02T21:00:00+00:00",
          "2021-04-03T00:00:00+00:00",
          "2021-04-03T03:00:00+00:00",
          "2021-04-03T06:00:00+00:00",
          "2021-04-03T09:00:00+00:00",
          "2021-04-03T12:00:00+00:00",
          "2021-04-03T15:00:00+00:00",
          "2021-04-03T18:00:00+00:00",
          "2021-04-03T21:00:00+00:00",
          "2021-04-04T00:00:00+00:00",
          "2021-04-04T03:00:00+00:00",
          "2021-04-04T06:00:00+00:00",
          "2021-04-04T09:00:00+00:00",
          "2021-04-04T12:00:00+00:00",
          "2021-04-04T15:00:00+00:00",
          "2021-04-04T18:00:00+00:00",
          "2021-04-04T21:00:00+00:00",
          "2021-04-05T00:00:00+00:00",
          "2021-04-05T03:00:00+00:00",
          "2021-04-05T06:00:00+00:00",
          "2021-04-05T09:00:00+00:00",
          "2021-04-05T12:00:00+00:00",
          "2021-04-05T15:00:00+00:00",
          "2021-04-05T18:00:00+00:00",
          "2021-04-05T21:00:00+00:00",
          "2021-04-06T00:00:00+00:00",
          "2021-04-06T03:00:00+00:00",
          "2021-04-06T06:00:00+00:00",
          "2021-04-06T09:00:00+00:00",
          "2021-04-06T12:00:00+00:00"
         ],
         "xaxis": "x",
         "y": [
          5.644232700632701,
          5.428081349206349,
          5.523162171162173,
          5.138058608058609,
          3.7399999999999998,
          null,
          null,
          null,
          5.405714285714285,
          5.479666666666667,
          5.494035323472823,
          5.437678571428572,
          5.317166666666667,
          5.8,
          5.426671474358974,
          5.1975,
          5.566047619047619,
          5.496509523809523,
          5.677511599511599,
          5.5722962962962965,
          4.9135,
          4.991,
          5.210374149659864,
          5.675416666666666,
          5.646999999999999,
          5.740333333333333,
          5.142589285714285,
          5.17861224489796,
          5.453333333333333,
          5.5600000000000005,
          5.557500000000001,
          5.5673593073593075,
          5.361383928571429,
          5.798163265306123,
          4.4030000000000005,
          5.645,
          5.29,
          5.05,
          5.05,
          5.4833333333333325,
          6.326666666666667,
          5.86,
          5.425,
          4.4140476190476186,
          null,
          null,
          null,
          null,
          5.5555555555555545,
          5.532778711484593,
          5.550539682539683,
          6.019777777777778,
          5.960714285714285,
          null,
          5.6499999999999995,
          5.1000000000000005,
          5.629595238095239,
          5.024140952380952,
          5.814814814814816,
          5.653702702702704,
          5.911944444444445,
          5.763,
          5.481151515151516,
          5.498343253968254,
          5.632480952380956,
          5.645470403439153
         ],
         "yaxis": "y"
        },
        {
         "hovertemplate": "variable=אביגדור ליברמן<br>Date=%{x}<br>Mean 3 hourly sentiment (scale 1-9)=%{y}<extra></extra>",
         "legendgroup": "אביגדור ליברמן",
         "line": {
          "color": "rgb(165, 170, 153)",
          "dash": "solid"
         },
         "mode": "lines",
         "name": "אביגדור ליברמן",
         "orientation": "v",
         "showlegend": true,
         "type": "scatter",
         "x": [
          "2021-03-29T09:00:00+00:00",
          "2021-03-29T12:00:00+00:00",
          "2021-03-29T15:00:00+00:00",
          "2021-03-29T18:00:00+00:00",
          "2021-03-29T21:00:00+00:00",
          "2021-03-30T00:00:00+00:00",
          "2021-03-30T03:00:00+00:00",
          "2021-03-30T06:00:00+00:00",
          "2021-03-30T09:00:00+00:00",
          "2021-03-30T12:00:00+00:00",
          "2021-03-30T15:00:00+00:00",
          "2021-03-30T18:00:00+00:00",
          "2021-03-30T21:00:00+00:00",
          "2021-03-31T00:00:00+00:00",
          "2021-03-31T03:00:00+00:00",
          "2021-03-31T06:00:00+00:00",
          "2021-03-31T09:00:00+00:00",
          "2021-03-31T12:00:00+00:00",
          "2021-03-31T15:00:00+00:00",
          "2021-03-31T18:00:00+00:00",
          "2021-03-31T21:00:00+00:00",
          "2021-04-01T00:00:00+00:00",
          "2021-04-01T03:00:00+00:00",
          "2021-04-01T06:00:00+00:00",
          "2021-04-01T09:00:00+00:00",
          "2021-04-01T12:00:00+00:00",
          "2021-04-01T15:00:00+00:00",
          "2021-04-01T18:00:00+00:00",
          "2021-04-01T21:00:00+00:00",
          "2021-04-02T00:00:00+00:00",
          "2021-04-02T03:00:00+00:00",
          "2021-04-02T06:00:00+00:00",
          "2021-04-02T09:00:00+00:00",
          "2021-04-02T12:00:00+00:00",
          "2021-04-02T15:00:00+00:00",
          "2021-04-02T18:00:00+00:00",
          "2021-04-02T21:00:00+00:00",
          "2021-04-03T00:00:00+00:00",
          "2021-04-03T03:00:00+00:00",
          "2021-04-03T06:00:00+00:00",
          "2021-04-03T09:00:00+00:00",
          "2021-04-03T12:00:00+00:00",
          "2021-04-03T15:00:00+00:00",
          "2021-04-03T18:00:00+00:00",
          "2021-04-03T21:00:00+00:00",
          "2021-04-04T00:00:00+00:00",
          "2021-04-04T03:00:00+00:00",
          "2021-04-04T06:00:00+00:00",
          "2021-04-04T09:00:00+00:00",
          "2021-04-04T12:00:00+00:00",
          "2021-04-04T15:00:00+00:00",
          "2021-04-04T18:00:00+00:00",
          "2021-04-04T21:00:00+00:00",
          "2021-04-05T00:00:00+00:00",
          "2021-04-05T03:00:00+00:00",
          "2021-04-05T06:00:00+00:00",
          "2021-04-05T09:00:00+00:00",
          "2021-04-05T12:00:00+00:00",
          "2021-04-05T15:00:00+00:00",
          "2021-04-05T18:00:00+00:00",
          "2021-04-05T21:00:00+00:00",
          "2021-04-06T00:00:00+00:00",
          "2021-04-06T03:00:00+00:00",
          "2021-04-06T06:00:00+00:00",
          "2021-04-06T09:00:00+00:00",
          "2021-04-06T12:00:00+00:00"
         ],
         "xaxis": "x",
         "y": [
          null,
          null,
          null,
          null,
          null,
          null,
          null,
          null,
          null,
          null,
          null,
          null,
          null,
          null,
          null,
          null,
          null,
          null,
          null,
          null,
          null,
          null,
          null,
          null,
          null,
          null,
          5.551403628117914,
          5.449926993145738,
          5.449232348111659,
          5.386751322751323,
          5.488280624780626,
          5.429470291146763,
          5.412301587301586,
          5.612138888888887,
          5.256177777777781,
          5.347307936507936,
          5.1831587301587305,
          null,
          null,
          5.399166666666666,
          5.411710317460317,
          5.307368253968254,
          5.3777380952380955,
          5.173666666666667,
          5.7972222222222225,
          5.801428571428572,
          5.593333333333334,
          5.424444444444444,
          5.336,
          5.656066666666666,
          5.285333333333333,
          5.413111111111111,
          5.524821428571428,
          null,
          null,
          5.758507936507937,
          5.346690476190476,
          5.299230654761905,
          5.621572916666666,
          null,
          null,
          null,
          null,
          null,
          null,
          null
         ],
         "yaxis": "y"
        },
        {
         "hovertemplate": "variable=בצלאל סמוטריץ<br>Date=%{x}<br>Mean 3 hourly sentiment (scale 1-9)=%{y}<extra></extra>",
         "legendgroup": "בצלאל סמוטריץ",
         "line": {
          "color": "rgb(127, 60, 141)",
          "dash": "solid"
         },
         "mode": "lines",
         "name": "בצלאל סמוטריץ",
         "orientation": "v",
         "showlegend": true,
         "type": "scatter",
         "x": [
          "2021-03-29T09:00:00+00:00",
          "2021-03-29T12:00:00+00:00",
          "2021-03-29T15:00:00+00:00",
          "2021-03-29T18:00:00+00:00",
          "2021-03-29T21:00:00+00:00",
          "2021-03-30T00:00:00+00:00",
          "2021-03-30T03:00:00+00:00",
          "2021-03-30T06:00:00+00:00",
          "2021-03-30T09:00:00+00:00",
          "2021-03-30T12:00:00+00:00",
          "2021-03-30T15:00:00+00:00",
          "2021-03-30T18:00:00+00:00",
          "2021-03-30T21:00:00+00:00",
          "2021-03-31T00:00:00+00:00",
          "2021-03-31T03:00:00+00:00",
          "2021-03-31T06:00:00+00:00",
          "2021-03-31T09:00:00+00:00",
          "2021-03-31T12:00:00+00:00",
          "2021-03-31T15:00:00+00:00",
          "2021-03-31T18:00:00+00:00",
          "2021-03-31T21:00:00+00:00",
          "2021-04-01T00:00:00+00:00",
          "2021-04-01T03:00:00+00:00",
          "2021-04-01T06:00:00+00:00",
          "2021-04-01T09:00:00+00:00",
          "2021-04-01T12:00:00+00:00",
          "2021-04-01T15:00:00+00:00",
          "2021-04-01T18:00:00+00:00",
          "2021-04-01T21:00:00+00:00",
          "2021-04-02T00:00:00+00:00",
          "2021-04-02T03:00:00+00:00",
          "2021-04-02T06:00:00+00:00",
          "2021-04-02T09:00:00+00:00",
          "2021-04-02T12:00:00+00:00",
          "2021-04-02T15:00:00+00:00",
          "2021-04-02T18:00:00+00:00",
          "2021-04-02T21:00:00+00:00",
          "2021-04-03T00:00:00+00:00",
          "2021-04-03T03:00:00+00:00",
          "2021-04-03T06:00:00+00:00",
          "2021-04-03T09:00:00+00:00",
          "2021-04-03T12:00:00+00:00",
          "2021-04-03T15:00:00+00:00",
          "2021-04-03T18:00:00+00:00",
          "2021-04-03T21:00:00+00:00",
          "2021-04-04T00:00:00+00:00",
          "2021-04-04T03:00:00+00:00",
          "2021-04-04T06:00:00+00:00",
          "2021-04-04T09:00:00+00:00",
          "2021-04-04T12:00:00+00:00",
          "2021-04-04T15:00:00+00:00",
          "2021-04-04T18:00:00+00:00",
          "2021-04-04T21:00:00+00:00",
          "2021-04-05T00:00:00+00:00",
          "2021-04-05T03:00:00+00:00",
          "2021-04-05T06:00:00+00:00",
          "2021-04-05T09:00:00+00:00",
          "2021-04-05T12:00:00+00:00",
          "2021-04-05T15:00:00+00:00",
          "2021-04-05T18:00:00+00:00",
          "2021-04-05T21:00:00+00:00",
          "2021-04-06T00:00:00+00:00",
          "2021-04-06T03:00:00+00:00",
          "2021-04-06T06:00:00+00:00",
          "2021-04-06T09:00:00+00:00",
          "2021-04-06T12:00:00+00:00"
         ],
         "xaxis": "x",
         "y": [
          5.518182900432899,
          null,
          5.358749999999999,
          5.953333333333333,
          null,
          null,
          null,
          5.475266666666666,
          5.488333333333333,
          5.213333333333334,
          5.213333333333334,
          5.69736507936508,
          null,
          null,
          5.713333333333334,
          5.651060606060606,
          5.500666666666667,
          5.258960317460317,
          5.564730286053817,
          5.389102564102568,
          5.525,
          6.16,
          5.6033333333333335,
          5.972261904761905,
          5.294910714285715,
          null,
          5.702874655647384,
          5.891192890442893,
          5.875812672176309,
          5.65,
          6.01375,
          5.448619047619047,
          5.330937198067633,
          5.9350000000000005,
          5.061,
          5.898666666666667,
          null,
          null,
          null,
          null,
          5.274571428571428,
          5.239999999999999,
          5.524883333333333,
          5.897084249084249,
          5.479999999999999,
          null,
          5.320416666666666,
          5.3332380952380944,
          5.5268749999999995,
          5.287,
          5.46132511148272,
          5.482772435897436,
          5.178269230769231,
          null,
          null,
          null,
          null,
          null,
          null,
          null,
          null,
          null,
          null,
          null,
          5.14684018051665,
          5.159530878843379
         ],
         "yaxis": "y"
        },
        {
         "hovertemplate": "variable=משה גפני<br>Date=%{x}<br>Mean 3 hourly sentiment (scale 1-9)=%{y}<extra></extra>",
         "legendgroup": "משה גפני",
         "line": {
          "color": "rgb(17, 165, 121)",
          "dash": "solid"
         },
         "mode": "lines",
         "name": "משה גפני",
         "orientation": "v",
         "showlegend": true,
         "type": "scatter",
         "x": [
          "2021-03-29T09:00:00+00:00",
          "2021-03-29T12:00:00+00:00",
          "2021-03-29T15:00:00+00:00",
          "2021-03-29T18:00:00+00:00",
          "2021-03-29T21:00:00+00:00",
          "2021-03-30T00:00:00+00:00",
          "2021-03-30T03:00:00+00:00",
          "2021-03-30T06:00:00+00:00",
          "2021-03-30T09:00:00+00:00",
          "2021-03-30T12:00:00+00:00",
          "2021-03-30T15:00:00+00:00",
          "2021-03-30T18:00:00+00:00",
          "2021-03-30T21:00:00+00:00",
          "2021-03-31T00:00:00+00:00",
          "2021-03-31T03:00:00+00:00",
          "2021-03-31T06:00:00+00:00",
          "2021-03-31T09:00:00+00:00",
          "2021-03-31T12:00:00+00:00",
          "2021-03-31T15:00:00+00:00",
          "2021-03-31T18:00:00+00:00",
          "2021-03-31T21:00:00+00:00",
          "2021-04-01T00:00:00+00:00",
          "2021-04-01T03:00:00+00:00",
          "2021-04-01T06:00:00+00:00",
          "2021-04-01T09:00:00+00:00",
          "2021-04-01T12:00:00+00:00",
          "2021-04-01T15:00:00+00:00",
          "2021-04-01T18:00:00+00:00",
          "2021-04-01T21:00:00+00:00",
          "2021-04-02T00:00:00+00:00",
          "2021-04-02T03:00:00+00:00",
          "2021-04-02T06:00:00+00:00",
          "2021-04-02T09:00:00+00:00",
          "2021-04-02T12:00:00+00:00",
          "2021-04-02T15:00:00+00:00",
          "2021-04-02T18:00:00+00:00",
          "2021-04-02T21:00:00+00:00",
          "2021-04-03T00:00:00+00:00",
          "2021-04-03T03:00:00+00:00",
          "2021-04-03T06:00:00+00:00",
          "2021-04-03T09:00:00+00:00",
          "2021-04-03T12:00:00+00:00",
          "2021-04-03T15:00:00+00:00",
          "2021-04-03T18:00:00+00:00",
          "2021-04-03T21:00:00+00:00",
          "2021-04-04T00:00:00+00:00",
          "2021-04-04T03:00:00+00:00",
          "2021-04-04T06:00:00+00:00",
          "2021-04-04T09:00:00+00:00",
          "2021-04-04T12:00:00+00:00",
          "2021-04-04T15:00:00+00:00",
          "2021-04-04T18:00:00+00:00",
          "2021-04-04T21:00:00+00:00",
          "2021-04-05T00:00:00+00:00",
          "2021-04-05T03:00:00+00:00",
          "2021-04-05T06:00:00+00:00",
          "2021-04-05T09:00:00+00:00",
          "2021-04-05T12:00:00+00:00",
          "2021-04-05T15:00:00+00:00",
          "2021-04-05T18:00:00+00:00",
          "2021-04-05T21:00:00+00:00",
          "2021-04-06T00:00:00+00:00",
          "2021-04-06T03:00:00+00:00",
          "2021-04-06T06:00:00+00:00",
          "2021-04-06T09:00:00+00:00",
          "2021-04-06T12:00:00+00:00"
         ],
         "xaxis": "x",
         "y": [
          5.497286994367642,
          5.567523076923077,
          5.513416666666667,
          5.540740740740741,
          4.475411764705882,
          4.01,
          4.478771929824562,
          4.974013888888889,
          5.144858585858586,
          5.629666666666667,
          null,
          null,
          null,
          null,
          null,
          null,
          null,
          null,
          null,
          null,
          null,
          null,
          null,
          null,
          null,
          null,
          null,
          null,
          null,
          null,
          null,
          null,
          null,
          null,
          null,
          null,
          null,
          null,
          null,
          null,
          null,
          null,
          null,
          null,
          null,
          null,
          null,
          null,
          null,
          null,
          null,
          null,
          null,
          null,
          null,
          null,
          null,
          null,
          5.573636363636364,
          5.539253968253968,
          5.48588888888889,
          5.686666666666667,
          5.431,
          5.532833333333334,
          5.3,
          5.502875757575757
         ],
         "yaxis": "y"
        },
        {
         "hovertemplate": "variable=ירון זליכה<br>Date=%{x}<br>Mean 3 hourly sentiment (scale 1-9)=%{y}<extra></extra>",
         "legendgroup": "ירון זליכה",
         "line": {
          "color": "rgb(57, 105, 172)",
          "dash": "solid"
         },
         "mode": "lines",
         "name": "ירון זליכה",
         "orientation": "v",
         "showlegend": true,
         "type": "scatter",
         "x": [
          "2021-03-29T09:00:00+00:00",
          "2021-03-29T12:00:00+00:00",
          "2021-03-29T15:00:00+00:00",
          "2021-03-29T18:00:00+00:00",
          "2021-03-29T21:00:00+00:00",
          "2021-03-30T00:00:00+00:00",
          "2021-03-30T03:00:00+00:00",
          "2021-03-30T06:00:00+00:00",
          "2021-03-30T09:00:00+00:00",
          "2021-03-30T12:00:00+00:00",
          "2021-03-30T15:00:00+00:00",
          "2021-03-30T18:00:00+00:00",
          "2021-03-30T21:00:00+00:00",
          "2021-03-31T00:00:00+00:00",
          "2021-03-31T03:00:00+00:00",
          "2021-03-31T06:00:00+00:00",
          "2021-03-31T09:00:00+00:00",
          "2021-03-31T12:00:00+00:00",
          "2021-03-31T15:00:00+00:00",
          "2021-03-31T18:00:00+00:00",
          "2021-03-31T21:00:00+00:00",
          "2021-04-01T00:00:00+00:00",
          "2021-04-01T03:00:00+00:00",
          "2021-04-01T06:00:00+00:00",
          "2021-04-01T09:00:00+00:00",
          "2021-04-01T12:00:00+00:00",
          "2021-04-01T15:00:00+00:00",
          "2021-04-01T18:00:00+00:00",
          "2021-04-01T21:00:00+00:00",
          "2021-04-02T00:00:00+00:00",
          "2021-04-02T03:00:00+00:00",
          "2021-04-02T06:00:00+00:00",
          "2021-04-02T09:00:00+00:00",
          "2021-04-02T12:00:00+00:00",
          "2021-04-02T15:00:00+00:00",
          "2021-04-02T18:00:00+00:00",
          "2021-04-02T21:00:00+00:00",
          "2021-04-03T00:00:00+00:00",
          "2021-04-03T03:00:00+00:00",
          "2021-04-03T06:00:00+00:00",
          "2021-04-03T09:00:00+00:00",
          "2021-04-03T12:00:00+00:00",
          "2021-04-03T15:00:00+00:00",
          "2021-04-03T18:00:00+00:00",
          "2021-04-03T21:00:00+00:00",
          "2021-04-04T00:00:00+00:00",
          "2021-04-04T03:00:00+00:00",
          "2021-04-04T06:00:00+00:00",
          "2021-04-04T09:00:00+00:00",
          "2021-04-04T12:00:00+00:00",
          "2021-04-04T15:00:00+00:00",
          "2021-04-04T18:00:00+00:00",
          "2021-04-04T21:00:00+00:00",
          "2021-04-05T00:00:00+00:00",
          "2021-04-05T03:00:00+00:00",
          "2021-04-05T06:00:00+00:00",
          "2021-04-05T09:00:00+00:00",
          "2021-04-05T12:00:00+00:00",
          "2021-04-05T15:00:00+00:00",
          "2021-04-05T18:00:00+00:00",
          "2021-04-05T21:00:00+00:00",
          "2021-04-06T00:00:00+00:00",
          "2021-04-06T03:00:00+00:00",
          "2021-04-06T06:00:00+00:00",
          "2021-04-06T09:00:00+00:00",
          "2021-04-06T12:00:00+00:00"
         ],
         "xaxis": "x",
         "y": [
          null,
          null,
          null,
          null,
          null,
          null,
          null,
          null,
          null,
          null,
          null,
          null,
          null,
          null,
          null,
          null,
          null,
          null,
          null,
          5.553197835497836,
          5.28952380952381,
          5.7555555555555555,
          5.341095238095239,
          5.4482380952380955,
          5.556190476190476,
          5.4770306122448975,
          5.54,
          null,
          null,
          null,
          null,
          null,
          null,
          null,
          null,
          null,
          null,
          null,
          null,
          null,
          null,
          null,
          null,
          null,
          null,
          null,
          null,
          null,
          null,
          null,
          null,
          null,
          null,
          null,
          null,
          null,
          null,
          null,
          null,
          null,
          null,
          null,
          null,
          null,
          null,
          null
         ],
         "yaxis": "y"
        }
       ],
       "layout": {
        "legend": {
         "title": {
          "text": "variable"
         },
         "tracegroupgap": 0
        },
        "template": {
         "data": {
          "bar": [
           {
            "error_x": {
             "color": "#2a3f5f"
            },
            "error_y": {
             "color": "#2a3f5f"
            },
            "marker": {
             "line": {
              "color": "#E5ECF6",
              "width": 0.5
             }
            },
            "type": "bar"
           }
          ],
          "barpolar": [
           {
            "marker": {
             "line": {
              "color": "#E5ECF6",
              "width": 0.5
             }
            },
            "type": "barpolar"
           }
          ],
          "carpet": [
           {
            "aaxis": {
             "endlinecolor": "#2a3f5f",
             "gridcolor": "white",
             "linecolor": "white",
             "minorgridcolor": "white",
             "startlinecolor": "#2a3f5f"
            },
            "baxis": {
             "endlinecolor": "#2a3f5f",
             "gridcolor": "white",
             "linecolor": "white",
             "minorgridcolor": "white",
             "startlinecolor": "#2a3f5f"
            },
            "type": "carpet"
           }
          ],
          "choropleth": [
           {
            "colorbar": {
             "outlinewidth": 0,
             "ticks": ""
            },
            "type": "choropleth"
           }
          ],
          "contour": [
           {
            "colorbar": {
             "outlinewidth": 0,
             "ticks": ""
            },
            "colorscale": [
             [
              0.0,
              "#0d0887"
             ],
             [
              0.1111111111111111,
              "#46039f"
             ],
             [
              0.2222222222222222,
              "#7201a8"
             ],
             [
              0.3333333333333333,
              "#9c179e"
             ],
             [
              0.4444444444444444,
              "#bd3786"
             ],
             [
              0.5555555555555556,
              "#d8576b"
             ],
             [
              0.6666666666666666,
              "#ed7953"
             ],
             [
              0.7777777777777778,
              "#fb9f3a"
             ],
             [
              0.8888888888888888,
              "#fdca26"
             ],
             [
              1.0,
              "#f0f921"
             ]
            ],
            "type": "contour"
           }
          ],
          "contourcarpet": [
           {
            "colorbar": {
             "outlinewidth": 0,
             "ticks": ""
            },
            "type": "contourcarpet"
           }
          ],
          "heatmap": [
           {
            "colorbar": {
             "outlinewidth": 0,
             "ticks": ""
            },
            "colorscale": [
             [
              0.0,
              "#0d0887"
             ],
             [
              0.1111111111111111,
              "#46039f"
             ],
             [
              0.2222222222222222,
              "#7201a8"
             ],
             [
              0.3333333333333333,
              "#9c179e"
             ],
             [
              0.4444444444444444,
              "#bd3786"
             ],
             [
              0.5555555555555556,
              "#d8576b"
             ],
             [
              0.6666666666666666,
              "#ed7953"
             ],
             [
              0.7777777777777778,
              "#fb9f3a"
             ],
             [
              0.8888888888888888,
              "#fdca26"
             ],
             [
              1.0,
              "#f0f921"
             ]
            ],
            "type": "heatmap"
           }
          ],
          "heatmapgl": [
           {
            "colorbar": {
             "outlinewidth": 0,
             "ticks": ""
            },
            "colorscale": [
             [
              0.0,
              "#0d0887"
             ],
             [
              0.1111111111111111,
              "#46039f"
             ],
             [
              0.2222222222222222,
              "#7201a8"
             ],
             [
              0.3333333333333333,
              "#9c179e"
             ],
             [
              0.4444444444444444,
              "#bd3786"
             ],
             [
              0.5555555555555556,
              "#d8576b"
             ],
             [
              0.6666666666666666,
              "#ed7953"
             ],
             [
              0.7777777777777778,
              "#fb9f3a"
             ],
             [
              0.8888888888888888,
              "#fdca26"
             ],
             [
              1.0,
              "#f0f921"
             ]
            ],
            "type": "heatmapgl"
           }
          ],
          "histogram": [
           {
            "marker": {
             "colorbar": {
              "outlinewidth": 0,
              "ticks": ""
             }
            },
            "type": "histogram"
           }
          ],
          "histogram2d": [
           {
            "colorbar": {
             "outlinewidth": 0,
             "ticks": ""
            },
            "colorscale": [
             [
              0.0,
              "#0d0887"
             ],
             [
              0.1111111111111111,
              "#46039f"
             ],
             [
              0.2222222222222222,
              "#7201a8"
             ],
             [
              0.3333333333333333,
              "#9c179e"
             ],
             [
              0.4444444444444444,
              "#bd3786"
             ],
             [
              0.5555555555555556,
              "#d8576b"
             ],
             [
              0.6666666666666666,
              "#ed7953"
             ],
             [
              0.7777777777777778,
              "#fb9f3a"
             ],
             [
              0.8888888888888888,
              "#fdca26"
             ],
             [
              1.0,
              "#f0f921"
             ]
            ],
            "type": "histogram2d"
           }
          ],
          "histogram2dcontour": [
           {
            "colorbar": {
             "outlinewidth": 0,
             "ticks": ""
            },
            "colorscale": [
             [
              0.0,
              "#0d0887"
             ],
             [
              0.1111111111111111,
              "#46039f"
             ],
             [
              0.2222222222222222,
              "#7201a8"
             ],
             [
              0.3333333333333333,
              "#9c179e"
             ],
             [
              0.4444444444444444,
              "#bd3786"
             ],
             [
              0.5555555555555556,
              "#d8576b"
             ],
             [
              0.6666666666666666,
              "#ed7953"
             ],
             [
              0.7777777777777778,
              "#fb9f3a"
             ],
             [
              0.8888888888888888,
              "#fdca26"
             ],
             [
              1.0,
              "#f0f921"
             ]
            ],
            "type": "histogram2dcontour"
           }
          ],
          "mesh3d": [
           {
            "colorbar": {
             "outlinewidth": 0,
             "ticks": ""
            },
            "type": "mesh3d"
           }
          ],
          "parcoords": [
           {
            "line": {
             "colorbar": {
              "outlinewidth": 0,
              "ticks": ""
             }
            },
            "type": "parcoords"
           }
          ],
          "pie": [
           {
            "automargin": true,
            "type": "pie"
           }
          ],
          "scatter": [
           {
            "marker": {
             "colorbar": {
              "outlinewidth": 0,
              "ticks": ""
             }
            },
            "type": "scatter"
           }
          ],
          "scatter3d": [
           {
            "line": {
             "colorbar": {
              "outlinewidth": 0,
              "ticks": ""
             }
            },
            "marker": {
             "colorbar": {
              "outlinewidth": 0,
              "ticks": ""
             }
            },
            "type": "scatter3d"
           }
          ],
          "scattercarpet": [
           {
            "marker": {
             "colorbar": {
              "outlinewidth": 0,
              "ticks": ""
             }
            },
            "type": "scattercarpet"
           }
          ],
          "scattergeo": [
           {
            "marker": {
             "colorbar": {
              "outlinewidth": 0,
              "ticks": ""
             }
            },
            "type": "scattergeo"
           }
          ],
          "scattergl": [
           {
            "marker": {
             "colorbar": {
              "outlinewidth": 0,
              "ticks": ""
             }
            },
            "type": "scattergl"
           }
          ],
          "scattermapbox": [
           {
            "marker": {
             "colorbar": {
              "outlinewidth": 0,
              "ticks": ""
             }
            },
            "type": "scattermapbox"
           }
          ],
          "scatterpolar": [
           {
            "marker": {
             "colorbar": {
              "outlinewidth": 0,
              "ticks": ""
             }
            },
            "type": "scatterpolar"
           }
          ],
          "scatterpolargl": [
           {
            "marker": {
             "colorbar": {
              "outlinewidth": 0,
              "ticks": ""
             }
            },
            "type": "scatterpolargl"
           }
          ],
          "scatterternary": [
           {
            "marker": {
             "colorbar": {
              "outlinewidth": 0,
              "ticks": ""
             }
            },
            "type": "scatterternary"
           }
          ],
          "surface": [
           {
            "colorbar": {
             "outlinewidth": 0,
             "ticks": ""
            },
            "colorscale": [
             [
              0.0,
              "#0d0887"
             ],
             [
              0.1111111111111111,
              "#46039f"
             ],
             [
              0.2222222222222222,
              "#7201a8"
             ],
             [
              0.3333333333333333,
              "#9c179e"
             ],
             [
              0.4444444444444444,
              "#bd3786"
             ],
             [
              0.5555555555555556,
              "#d8576b"
             ],
             [
              0.6666666666666666,
              "#ed7953"
             ],
             [
              0.7777777777777778,
              "#fb9f3a"
             ],
             [
              0.8888888888888888,
              "#fdca26"
             ],
             [
              1.0,
              "#f0f921"
             ]
            ],
            "type": "surface"
           }
          ],
          "table": [
           {
            "cells": {
             "fill": {
              "color": "#EBF0F8"
             },
             "line": {
              "color": "white"
             }
            },
            "header": {
             "fill": {
              "color": "#C8D4E3"
             },
             "line": {
              "color": "white"
             }
            },
            "type": "table"
           }
          ]
         },
         "layout": {
          "annotationdefaults": {
           "arrowcolor": "#2a3f5f",
           "arrowhead": 0,
           "arrowwidth": 1
          },
          "autotypenumbers": "strict",
          "coloraxis": {
           "colorbar": {
            "outlinewidth": 0,
            "ticks": ""
           }
          },
          "colorscale": {
           "diverging": [
            [
             0,
             "#8e0152"
            ],
            [
             0.1,
             "#c51b7d"
            ],
            [
             0.2,
             "#de77ae"
            ],
            [
             0.3,
             "#f1b6da"
            ],
            [
             0.4,
             "#fde0ef"
            ],
            [
             0.5,
             "#f7f7f7"
            ],
            [
             0.6,
             "#e6f5d0"
            ],
            [
             0.7,
             "#b8e186"
            ],
            [
             0.8,
             "#7fbc41"
            ],
            [
             0.9,
             "#4d9221"
            ],
            [
             1,
             "#276419"
            ]
           ],
           "sequential": [
            [
             0.0,
             "#0d0887"
            ],
            [
             0.1111111111111111,
             "#46039f"
            ],
            [
             0.2222222222222222,
             "#7201a8"
            ],
            [
             0.3333333333333333,
             "#9c179e"
            ],
            [
             0.4444444444444444,
             "#bd3786"
            ],
            [
             0.5555555555555556,
             "#d8576b"
            ],
            [
             0.6666666666666666,
             "#ed7953"
            ],
            [
             0.7777777777777778,
             "#fb9f3a"
            ],
            [
             0.8888888888888888,
             "#fdca26"
            ],
            [
             1.0,
             "#f0f921"
            ]
           ],
           "sequentialminus": [
            [
             0.0,
             "#0d0887"
            ],
            [
             0.1111111111111111,
             "#46039f"
            ],
            [
             0.2222222222222222,
             "#7201a8"
            ],
            [
             0.3333333333333333,
             "#9c179e"
            ],
            [
             0.4444444444444444,
             "#bd3786"
            ],
            [
             0.5555555555555556,
             "#d8576b"
            ],
            [
             0.6666666666666666,
             "#ed7953"
            ],
            [
             0.7777777777777778,
             "#fb9f3a"
            ],
            [
             0.8888888888888888,
             "#fdca26"
            ],
            [
             1.0,
             "#f0f921"
            ]
           ]
          },
          "colorway": [
           "#636efa",
           "#EF553B",
           "#00cc96",
           "#ab63fa",
           "#FFA15A",
           "#19d3f3",
           "#FF6692",
           "#B6E880",
           "#FF97FF",
           "#FECB52"
          ],
          "font": {
           "color": "#2a3f5f"
          },
          "geo": {
           "bgcolor": "white",
           "lakecolor": "white",
           "landcolor": "#E5ECF6",
           "showlakes": true,
           "showland": true,
           "subunitcolor": "white"
          },
          "hoverlabel": {
           "align": "left"
          },
          "hovermode": "closest",
          "mapbox": {
           "style": "light"
          },
          "paper_bgcolor": "white",
          "plot_bgcolor": "#E5ECF6",
          "polar": {
           "angularaxis": {
            "gridcolor": "white",
            "linecolor": "white",
            "ticks": ""
           },
           "bgcolor": "#E5ECF6",
           "radialaxis": {
            "gridcolor": "white",
            "linecolor": "white",
            "ticks": ""
           }
          },
          "scene": {
           "xaxis": {
            "backgroundcolor": "#E5ECF6",
            "gridcolor": "white",
            "gridwidth": 2,
            "linecolor": "white",
            "showbackground": true,
            "ticks": "",
            "zerolinecolor": "white"
           },
           "yaxis": {
            "backgroundcolor": "#E5ECF6",
            "gridcolor": "white",
            "gridwidth": 2,
            "linecolor": "white",
            "showbackground": true,
            "ticks": "",
            "zerolinecolor": "white"
           },
           "zaxis": {
            "backgroundcolor": "#E5ECF6",
            "gridcolor": "white",
            "gridwidth": 2,
            "linecolor": "white",
            "showbackground": true,
            "ticks": "",
            "zerolinecolor": "white"
           }
          },
          "shapedefaults": {
           "line": {
            "color": "#2a3f5f"
           }
          },
          "ternary": {
           "aaxis": {
            "gridcolor": "white",
            "linecolor": "white",
            "ticks": ""
           },
           "baxis": {
            "gridcolor": "white",
            "linecolor": "white",
            "ticks": ""
           },
           "bgcolor": "#E5ECF6",
           "caxis": {
            "gridcolor": "white",
            "linecolor": "white",
            "ticks": ""
           }
          },
          "title": {
           "x": 0.05
          },
          "xaxis": {
           "automargin": true,
           "gridcolor": "white",
           "linecolor": "white",
           "ticks": "",
           "title": {
            "standoff": 15
           },
           "zerolinecolor": "white",
           "zerolinewidth": 2
          },
          "yaxis": {
           "automargin": true,
           "gridcolor": "white",
           "linecolor": "white",
           "ticks": "",
           "title": {
            "standoff": 15
           },
           "zerolinecolor": "white",
           "zerolinewidth": 2
          }
         }
        },
        "title": {
         "text": "Mean sentiment of 3 hourly tweets of the candidates from Israel"
        },
        "xaxis": {
         "anchor": "y",
         "domain": [
          0.0,
          1.0
         ],
         "title": {
          "text": "Date"
         }
        },
        "yaxis": {
         "anchor": "x",
         "domain": [
          0.0,
          1.0
         ],
         "title": {
          "text": "Mean 3 hourly sentiment (scale 1-9)"
         }
        }
       }
      },
      "text/html": "<div>                            <div id=\"8221ef74-dcab-4a87-9458-596e6aa51b7b\" class=\"plotly-graph-div\" style=\"height:525px; width:100%;\"></div>            <script type=\"text/javascript\">                require([\"plotly\"], function(Plotly) {                    window.PLOTLYENV=window.PLOTLYENV || {};                                    if (document.getElementById(\"8221ef74-dcab-4a87-9458-596e6aa51b7b\")) {                    Plotly.newPlot(                        \"8221ef74-dcab-4a87-9458-596e6aa51b7b\",                        [{\"hovertemplate\": \"variable=\\u05de\\u05e0\\u05e1\\u05d5\\u05e8 \\u05e2\\u05d1\\u05d0\\u05e1<br>Date=%{x}<br>Mean 3 hourly sentiment (scale 1-9)=%{y}<extra></extra>\", \"legendgroup\": \"\\u05de\\u05e0\\u05e1\\u05d5\\u05e8 \\u05e2\\u05d1\\u05d0\\u05e1\", \"line\": {\"color\": \"rgb(127, 60, 141)\", \"dash\": \"solid\"}, \"mode\": \"lines\", \"name\": \"\\u05de\\u05e0\\u05e1\\u05d5\\u05e8 \\u05e2\\u05d1\\u05d0\\u05e1\", \"orientation\": \"v\", \"showlegend\": true, \"type\": \"scatter\", \"x\": [\"2021-03-29T09:00:00+00:00\", \"2021-03-29T12:00:00+00:00\", \"2021-03-29T15:00:00+00:00\", \"2021-03-29T18:00:00+00:00\", \"2021-03-29T21:00:00+00:00\", \"2021-03-30T00:00:00+00:00\", \"2021-03-30T03:00:00+00:00\", \"2021-03-30T06:00:00+00:00\", \"2021-03-30T09:00:00+00:00\", \"2021-03-30T12:00:00+00:00\", \"2021-03-30T15:00:00+00:00\", \"2021-03-30T18:00:00+00:00\", \"2021-03-30T21:00:00+00:00\", \"2021-03-31T00:00:00+00:00\", \"2021-03-31T03:00:00+00:00\", \"2021-03-31T06:00:00+00:00\", \"2021-03-31T09:00:00+00:00\", \"2021-03-31T12:00:00+00:00\", \"2021-03-31T15:00:00+00:00\", \"2021-03-31T18:00:00+00:00\", \"2021-03-31T21:00:00+00:00\", \"2021-04-01T00:00:00+00:00\", \"2021-04-01T03:00:00+00:00\", \"2021-04-01T06:00:00+00:00\", \"2021-04-01T09:00:00+00:00\", \"2021-04-01T12:00:00+00:00\", \"2021-04-01T15:00:00+00:00\", \"2021-04-01T18:00:00+00:00\", \"2021-04-01T21:00:00+00:00\", \"2021-04-02T00:00:00+00:00\", \"2021-04-02T03:00:00+00:00\", \"2021-04-02T06:00:00+00:00\", \"2021-04-02T09:00:00+00:00\", \"2021-04-02T12:00:00+00:00\", \"2021-04-02T15:00:00+00:00\", \"2021-04-02T18:00:00+00:00\", \"2021-04-02T21:00:00+00:00\", \"2021-04-03T00:00:00+00:00\", \"2021-04-03T03:00:00+00:00\", \"2021-04-03T06:00:00+00:00\", \"2021-04-03T09:00:00+00:00\", \"2021-04-03T12:00:00+00:00\", \"2021-04-03T15:00:00+00:00\", \"2021-04-03T18:00:00+00:00\", \"2021-04-03T21:00:00+00:00\", \"2021-04-04T00:00:00+00:00\", \"2021-04-04T03:00:00+00:00\", \"2021-04-04T06:00:00+00:00\", \"2021-04-04T09:00:00+00:00\", \"2021-04-04T12:00:00+00:00\", \"2021-04-04T15:00:00+00:00\", \"2021-04-04T18:00:00+00:00\", \"2021-04-04T21:00:00+00:00\", \"2021-04-05T00:00:00+00:00\", \"2021-04-05T03:00:00+00:00\", \"2021-04-05T06:00:00+00:00\", \"2021-04-05T09:00:00+00:00\", \"2021-04-05T12:00:00+00:00\", \"2021-04-05T15:00:00+00:00\", \"2021-04-05T18:00:00+00:00\", \"2021-04-05T21:00:00+00:00\", \"2021-04-06T00:00:00+00:00\", \"2021-04-06T03:00:00+00:00\", \"2021-04-06T06:00:00+00:00\", \"2021-04-06T09:00:00+00:00\", \"2021-04-06T12:00:00+00:00\"], \"xaxis\": \"x\", \"y\": [5.614361221340387, 5.492072672008843, 5.646193086913086, 5.693787844611528, 5.608342460277244, 5.612797123015873, 5.658223250384263, 5.586382430628115, 5.497767862503656, 5.471185771559483, 5.592855335685907, 5.5591514217197675, 5.5990491537232625, 5.379632981601731, 5.419195609626645, 5.53081660968451, 5.52759115347019, 5.568532146865481, 5.620176425261248, 5.581446403856561, 5.597439889689889, 5.402437146187146, 5.517649667149667, 5.514101130500325, 5.412827945614594, 5.369006523031235, 5.608907441006259, 5.555233566004282, 5.48671589111139, 5.515108480913026, 5.444537726534852, 5.429295331634935, 5.469955011761233, 5.588805246402907, 5.784532571428571, 5.66243216175359, 5.782046113847838, 5.548765432098765, 5.530274515960229, 5.532078442229604, 5.61922193536049, 5.635491213151929, 5.499041165624499, 5.550999682539681, 5.5033424465745915, 5.532968783068783, 5.529457142857145, 5.4939035718970795, 5.479702578841926, 5.510897111978932, 5.292420298627925, null, null, null, null, null, null, null, null, null, null, null, null, null, null, null], \"yaxis\": \"y\"}, {\"hovertemplate\": \"variable=\\u05d1\\u05e0\\u05d9\\u05d9\\u05de\\u05d9\\u05df \\u05e0\\u05ea\\u05e0\\u05d9\\u05d4\\u05d5<br>Date=%{x}<br>Mean 3 hourly sentiment (scale 1-9)=%{y}<extra></extra>\", \"legendgroup\": \"\\u05d1\\u05e0\\u05d9\\u05d9\\u05de\\u05d9\\u05df \\u05e0\\u05ea\\u05e0\\u05d9\\u05d4\\u05d5\", \"line\": {\"color\": \"rgb(17, 165, 121)\", \"dash\": \"solid\"}, \"mode\": \"lines\", \"name\": \"\\u05d1\\u05e0\\u05d9\\u05d9\\u05de\\u05d9\\u05df \\u05e0\\u05ea\\u05e0\\u05d9\\u05d4\\u05d5\", \"orientation\": \"v\", \"showlegend\": true, \"type\": \"scatter\", \"x\": [\"2021-03-29T09:00:00+00:00\", \"2021-03-29T12:00:00+00:00\", \"2021-03-29T15:00:00+00:00\", \"2021-03-29T18:00:00+00:00\", \"2021-03-29T21:00:00+00:00\", \"2021-03-30T00:00:00+00:00\", \"2021-03-30T03:00:00+00:00\", \"2021-03-30T06:00:00+00:00\", \"2021-03-30T09:00:00+00:00\", \"2021-03-30T12:00:00+00:00\", \"2021-03-30T15:00:00+00:00\", \"2021-03-30T18:00:00+00:00\", \"2021-03-30T21:00:00+00:00\", \"2021-03-31T00:00:00+00:00\", \"2021-03-31T03:00:00+00:00\", \"2021-03-31T06:00:00+00:00\", \"2021-03-31T09:00:00+00:00\", \"2021-03-31T12:00:00+00:00\", \"2021-03-31T15:00:00+00:00\", \"2021-03-31T18:00:00+00:00\", \"2021-03-31T21:00:00+00:00\", \"2021-04-01T00:00:00+00:00\", \"2021-04-01T03:00:00+00:00\", \"2021-04-01T06:00:00+00:00\", \"2021-04-01T09:00:00+00:00\", \"2021-04-01T12:00:00+00:00\", \"2021-04-01T15:00:00+00:00\", \"2021-04-01T18:00:00+00:00\", \"2021-04-01T21:00:00+00:00\", \"2021-04-02T00:00:00+00:00\", \"2021-04-02T03:00:00+00:00\", \"2021-04-02T06:00:00+00:00\", \"2021-04-02T09:00:00+00:00\", \"2021-04-02T12:00:00+00:00\", \"2021-04-02T15:00:00+00:00\", \"2021-04-02T18:00:00+00:00\", \"2021-04-02T21:00:00+00:00\", \"2021-04-03T00:00:00+00:00\", \"2021-04-03T03:00:00+00:00\", \"2021-04-03T06:00:00+00:00\", \"2021-04-03T09:00:00+00:00\", \"2021-04-03T12:00:00+00:00\", \"2021-04-03T15:00:00+00:00\", \"2021-04-03T18:00:00+00:00\", \"2021-04-03T21:00:00+00:00\", \"2021-04-04T00:00:00+00:00\", \"2021-04-04T03:00:00+00:00\", \"2021-04-04T06:00:00+00:00\", \"2021-04-04T09:00:00+00:00\", \"2021-04-04T12:00:00+00:00\", \"2021-04-04T15:00:00+00:00\", \"2021-04-04T18:00:00+00:00\", \"2021-04-04T21:00:00+00:00\", \"2021-04-05T00:00:00+00:00\", \"2021-04-05T03:00:00+00:00\", \"2021-04-05T06:00:00+00:00\", \"2021-04-05T09:00:00+00:00\", \"2021-04-05T12:00:00+00:00\", \"2021-04-05T15:00:00+00:00\", \"2021-04-05T18:00:00+00:00\", \"2021-04-05T21:00:00+00:00\", \"2021-04-06T00:00:00+00:00\", \"2021-04-06T03:00:00+00:00\", \"2021-04-06T06:00:00+00:00\", \"2021-04-06T09:00:00+00:00\", \"2021-04-06T12:00:00+00:00\"], \"xaxis\": \"x\", \"y\": [5.45204434680231, 5.489311545444942, 5.499358427689818, 5.517311035867364, 5.514375195961902, 5.543952014652017, 5.5136622616371165, null, null, 6.132333333333333, 5.968, 5.646977777777778, 6.035, null, 5.12, 5.740111111111111, 5.929206349206349, 5.8100000000000005, 6.0200000000000005, null, 5.274, null, null, null, null, null, 5.430892857142858, 6.205000000000001, 5.935833333333333, 6.094285714285715, 5.769297619047619, 5.710820512820513, 5.376190476190476, 5.62712380952381, null, null, 5.669999999999999, null, 5.740714285714286, null, 5.6308333333333325, 5.611, 5.6677, 5.475809523809524, 5.86, 5.675142857142856, 5.672000000000001, 5.6494, null, 5.448095238095238, 5.567244897959183, 5.552454301075271, 5.623333333333333, 5.673749999999999, 5.588071428571429, 5.548333333333333, 5.583083333333333, 5.56031746031746, 5.560786332714905, 5.847053781866286, 5.804914285714286, 5.801269841269842, 5.794283636363637, 5.718333333333333, 5.503205164652929, 5.601353422619049], \"yaxis\": \"y\"}, {\"hovertemplate\": \"variable=\\u05d2\\u05d3\\u05e2\\u05d5\\u05df \\u05e1\\u05e2\\u05e8<br>Date=%{x}<br>Mean 3 hourly sentiment (scale 1-9)=%{y}<extra></extra>\", \"legendgroup\": \"\\u05d2\\u05d3\\u05e2\\u05d5\\u05df \\u05e1\\u05e2\\u05e8\", \"line\": {\"color\": \"rgb(57, 105, 172)\", \"dash\": \"solid\"}, \"mode\": \"lines\", \"name\": \"\\u05d2\\u05d3\\u05e2\\u05d5\\u05df \\u05e1\\u05e2\\u05e8\", \"orientation\": \"v\", \"showlegend\": true, \"type\": \"scatter\", \"x\": [\"2021-03-29T09:00:00+00:00\", \"2021-03-29T12:00:00+00:00\", \"2021-03-29T15:00:00+00:00\", \"2021-03-29T18:00:00+00:00\", \"2021-03-29T21:00:00+00:00\", \"2021-03-30T00:00:00+00:00\", \"2021-03-30T03:00:00+00:00\", \"2021-03-30T06:00:00+00:00\", \"2021-03-30T09:00:00+00:00\", \"2021-03-30T12:00:00+00:00\", \"2021-03-30T15:00:00+00:00\", \"2021-03-30T18:00:00+00:00\", \"2021-03-30T21:00:00+00:00\", \"2021-03-31T00:00:00+00:00\", \"2021-03-31T03:00:00+00:00\", \"2021-03-31T06:00:00+00:00\", \"2021-03-31T09:00:00+00:00\", \"2021-03-31T12:00:00+00:00\", \"2021-03-31T15:00:00+00:00\", \"2021-03-31T18:00:00+00:00\", \"2021-03-31T21:00:00+00:00\", \"2021-04-01T00:00:00+00:00\", \"2021-04-01T03:00:00+00:00\", \"2021-04-01T06:00:00+00:00\", \"2021-04-01T09:00:00+00:00\", \"2021-04-01T12:00:00+00:00\", \"2021-04-01T15:00:00+00:00\", \"2021-04-01T18:00:00+00:00\", \"2021-04-01T21:00:00+00:00\", \"2021-04-02T00:00:00+00:00\", \"2021-04-02T03:00:00+00:00\", \"2021-04-02T06:00:00+00:00\", \"2021-04-02T09:00:00+00:00\", \"2021-04-02T12:00:00+00:00\", \"2021-04-02T15:00:00+00:00\", \"2021-04-02T18:00:00+00:00\", \"2021-04-02T21:00:00+00:00\", \"2021-04-03T00:00:00+00:00\", \"2021-04-03T03:00:00+00:00\", \"2021-04-03T06:00:00+00:00\", \"2021-04-03T09:00:00+00:00\", \"2021-04-03T12:00:00+00:00\", \"2021-04-03T15:00:00+00:00\", \"2021-04-03T18:00:00+00:00\", \"2021-04-03T21:00:00+00:00\", \"2021-04-04T00:00:00+00:00\", \"2021-04-04T03:00:00+00:00\", \"2021-04-04T06:00:00+00:00\", \"2021-04-04T09:00:00+00:00\", \"2021-04-04T12:00:00+00:00\", \"2021-04-04T15:00:00+00:00\", \"2021-04-04T18:00:00+00:00\", \"2021-04-04T21:00:00+00:00\", \"2021-04-05T00:00:00+00:00\", \"2021-04-05T03:00:00+00:00\", \"2021-04-05T06:00:00+00:00\", \"2021-04-05T09:00:00+00:00\", \"2021-04-05T12:00:00+00:00\", \"2021-04-05T15:00:00+00:00\", \"2021-04-05T18:00:00+00:00\", \"2021-04-05T21:00:00+00:00\", \"2021-04-06T00:00:00+00:00\", \"2021-04-06T03:00:00+00:00\", \"2021-04-06T06:00:00+00:00\", \"2021-04-06T09:00:00+00:00\", \"2021-04-06T12:00:00+00:00\"], \"xaxis\": \"x\", \"y\": [null, null, null, null, null, null, 5.519010415334649, null, null, null, null, 5.601903177132007, 5.608156588832414, 5.4665, 5.470645812687983, 5.491256819762028, 5.5432114432210655, 5.644619393980507, 5.5391364365971105, 5.526969456357663, 5.485026402640264, 5.520565891962444, 5.468667399267397, 5.534834114959115, 5.4213128146587035, 5.386581423161519, 5.491700208629753, 5.496778377088862, 5.323115347018574, 5.556833333333334, 5.61028364389234, 5.607660800310801, 5.568999665726732, 5.417695167927315, 5.363865617715618, 5.529248263888888, 5.609494107744108, 5.180133333333333, 5.077965270840271, 5.511901695526695, 5.911638047138046, 5.674524925595237, 5.498653762456183, 5.438732861743733, 5.4258558802308805, 5.3799242424242415, 5.247659722222222, 5.499286655905301, 5.48326133468726, 5.233273925236195, 5.361035019841269, 5.4608900310493285, 5.335054315833257, 5.522503863996193, 5.397412985365257, 5.407646445895464, 5.407554514770033, 5.504870628568606, 5.506674202440349, 5.450580067155068, 5.321035234606662, 5.5167632597754555, 5.401596739786396, 5.43353322628665, 5.713860167610166, null], \"yaxis\": \"y\"}, {\"hovertemplate\": \"variable=\\u05e0\\u05e4\\u05ea\\u05dc\\u05d9 \\u05d1\\u05e0\\u05d8<br>Date=%{x}<br>Mean 3 hourly sentiment (scale 1-9)=%{y}<extra></extra>\", \"legendgroup\": \"\\u05e0\\u05e4\\u05ea\\u05dc\\u05d9 \\u05d1\\u05e0\\u05d8\", \"line\": {\"color\": \"rgb(242, 183, 1)\", \"dash\": \"solid\"}, \"mode\": \"lines\", \"name\": \"\\u05e0\\u05e4\\u05ea\\u05dc\\u05d9 \\u05d1\\u05e0\\u05d8\", \"orientation\": \"v\", \"showlegend\": true, \"type\": \"scatter\", \"x\": [\"2021-03-29T09:00:00+00:00\", \"2021-03-29T12:00:00+00:00\", \"2021-03-29T15:00:00+00:00\", \"2021-03-29T18:00:00+00:00\", \"2021-03-29T21:00:00+00:00\", \"2021-03-30T00:00:00+00:00\", \"2021-03-30T03:00:00+00:00\", \"2021-03-30T06:00:00+00:00\", \"2021-03-30T09:00:00+00:00\", \"2021-03-30T12:00:00+00:00\", \"2021-03-30T15:00:00+00:00\", \"2021-03-30T18:00:00+00:00\", \"2021-03-30T21:00:00+00:00\", \"2021-03-31T00:00:00+00:00\", \"2021-03-31T03:00:00+00:00\", \"2021-03-31T06:00:00+00:00\", \"2021-03-31T09:00:00+00:00\", \"2021-03-31T12:00:00+00:00\", \"2021-03-31T15:00:00+00:00\", \"2021-03-31T18:00:00+00:00\", \"2021-03-31T21:00:00+00:00\", \"2021-04-01T00:00:00+00:00\", \"2021-04-01T03:00:00+00:00\", \"2021-04-01T06:00:00+00:00\", \"2021-04-01T09:00:00+00:00\", \"2021-04-01T12:00:00+00:00\", \"2021-04-01T15:00:00+00:00\", \"2021-04-01T18:00:00+00:00\", \"2021-04-01T21:00:00+00:00\", \"2021-04-02T00:00:00+00:00\", \"2021-04-02T03:00:00+00:00\", \"2021-04-02T06:00:00+00:00\", \"2021-04-02T09:00:00+00:00\", \"2021-04-02T12:00:00+00:00\", \"2021-04-02T15:00:00+00:00\", \"2021-04-02T18:00:00+00:00\", \"2021-04-02T21:00:00+00:00\", \"2021-04-03T00:00:00+00:00\", \"2021-04-03T03:00:00+00:00\", \"2021-04-03T06:00:00+00:00\", \"2021-04-03T09:00:00+00:00\", \"2021-04-03T12:00:00+00:00\", \"2021-04-03T15:00:00+00:00\", \"2021-04-03T18:00:00+00:00\", \"2021-04-03T21:00:00+00:00\", \"2021-04-04T00:00:00+00:00\", \"2021-04-04T03:00:00+00:00\", \"2021-04-04T06:00:00+00:00\", \"2021-04-04T09:00:00+00:00\", \"2021-04-04T12:00:00+00:00\", \"2021-04-04T15:00:00+00:00\", \"2021-04-04T18:00:00+00:00\", \"2021-04-04T21:00:00+00:00\", \"2021-04-05T00:00:00+00:00\", \"2021-04-05T03:00:00+00:00\", \"2021-04-05T06:00:00+00:00\", \"2021-04-05T09:00:00+00:00\", \"2021-04-05T12:00:00+00:00\", \"2021-04-05T15:00:00+00:00\", \"2021-04-05T18:00:00+00:00\", \"2021-04-05T21:00:00+00:00\", \"2021-04-06T00:00:00+00:00\", \"2021-04-06T03:00:00+00:00\", \"2021-04-06T06:00:00+00:00\", \"2021-04-06T09:00:00+00:00\", \"2021-04-06T12:00:00+00:00\"], \"xaxis\": \"x\", \"y\": [5.386231350045301, 5.483283383283383, 5.421116045245076, 5.479083959899751, 5.319164941338854, 5.86222222222222, 5.1891839285714285, 5.323492424242422, 5.377595332577481, 5.4134155474155525, 5.465299067867617, 5.435104665108907, 5.422250752334086, 5.549672727272728, 5.499153106349912, 5.585510859991377, 5.375903693446601, 5.355267910464198, 5.387312389049794, 5.358244518401501, 5.4022052114552075, 5.2405180652680645, 5.375532828282828, 5.406660422459201, 5.526909005186239, 5.49763026548981, 5.472872297225797, 5.423914728789731, 5.530119674185464, 5.5414259259259255, 5.508307359307358, 5.407940278156189, 5.32721376927167, 5.419792049655063, 5.54586368859898, 5.471305992805991, 5.444857875457875, 5.21823076923077, 5.1832032627865985, 5.200119694813626, 5.483449782814242, 5.440099637842597, 5.457506705006706, 5.430027278277277, 5.48965278980279, 5.71014393939394, 5.468871216085501, 5.6755155659942895, 5.436882198609471, 5.253143620109138, 5.389047186895501, 5.392283966835988, 5.293215560695014, 5.360911925376213, 5.297249392160353, 5.405366885718447, 5.3163258992938145, 5.40596622821623, 5.361607057774505, 5.432699667534391, 5.362436610189329, 5.253843537414965, 5.433350457932088, 5.357871350871353, 5.253316449123267, 5.84270987654321], \"yaxis\": \"y\"}, {\"hovertemplate\": \"variable=\\u05d9\\u05d0\\u05d9\\u05e8 \\u05dc\\u05e4\\u05d9\\u05d3<br>Date=%{x}<br>Mean 3 hourly sentiment (scale 1-9)=%{y}<extra></extra>\", \"legendgroup\": \"\\u05d9\\u05d0\\u05d9\\u05e8 \\u05dc\\u05e4\\u05d9\\u05d3\", \"line\": {\"color\": \"rgb(231, 63, 116)\", \"dash\": \"solid\"}, \"mode\": \"lines\", \"name\": \"\\u05d9\\u05d0\\u05d9\\u05e8 \\u05dc\\u05e4\\u05d9\\u05d3\", \"orientation\": \"v\", \"showlegend\": true, \"type\": \"scatter\", \"x\": [\"2021-03-29T09:00:00+00:00\", \"2021-03-29T12:00:00+00:00\", \"2021-03-29T15:00:00+00:00\", \"2021-03-29T18:00:00+00:00\", \"2021-03-29T21:00:00+00:00\", \"2021-03-30T00:00:00+00:00\", \"2021-03-30T03:00:00+00:00\", \"2021-03-30T06:00:00+00:00\", \"2021-03-30T09:00:00+00:00\", \"2021-03-30T12:00:00+00:00\", \"2021-03-30T15:00:00+00:00\", \"2021-03-30T18:00:00+00:00\", \"2021-03-30T21:00:00+00:00\", \"2021-03-31T00:00:00+00:00\", \"2021-03-31T03:00:00+00:00\", \"2021-03-31T06:00:00+00:00\", \"2021-03-31T09:00:00+00:00\", \"2021-03-31T12:00:00+00:00\", \"2021-03-31T15:00:00+00:00\", \"2021-03-31T18:00:00+00:00\", \"2021-03-31T21:00:00+00:00\", \"2021-04-01T00:00:00+00:00\", \"2021-04-01T03:00:00+00:00\", \"2021-04-01T06:00:00+00:00\", \"2021-04-01T09:00:00+00:00\", \"2021-04-01T12:00:00+00:00\", \"2021-04-01T15:00:00+00:00\", \"2021-04-01T18:00:00+00:00\", \"2021-04-01T21:00:00+00:00\", \"2021-04-02T00:00:00+00:00\", \"2021-04-02T03:00:00+00:00\", \"2021-04-02T06:00:00+00:00\", \"2021-04-02T09:00:00+00:00\", \"2021-04-02T12:00:00+00:00\", \"2021-04-02T15:00:00+00:00\", \"2021-04-02T18:00:00+00:00\", \"2021-04-02T21:00:00+00:00\", \"2021-04-03T00:00:00+00:00\", \"2021-04-03T03:00:00+00:00\", \"2021-04-03T06:00:00+00:00\", \"2021-04-03T09:00:00+00:00\", \"2021-04-03T12:00:00+00:00\", \"2021-04-03T15:00:00+00:00\", \"2021-04-03T18:00:00+00:00\", \"2021-04-03T21:00:00+00:00\", \"2021-04-04T00:00:00+00:00\", \"2021-04-04T03:00:00+00:00\", \"2021-04-04T06:00:00+00:00\", \"2021-04-04T09:00:00+00:00\", \"2021-04-04T12:00:00+00:00\", \"2021-04-04T15:00:00+00:00\", \"2021-04-04T18:00:00+00:00\", \"2021-04-04T21:00:00+00:00\", \"2021-04-05T00:00:00+00:00\", \"2021-04-05T03:00:00+00:00\", \"2021-04-05T06:00:00+00:00\", \"2021-04-05T09:00:00+00:00\", \"2021-04-05T12:00:00+00:00\", \"2021-04-05T15:00:00+00:00\", \"2021-04-05T18:00:00+00:00\", \"2021-04-05T21:00:00+00:00\", \"2021-04-06T00:00:00+00:00\", \"2021-04-06T03:00:00+00:00\", \"2021-04-06T06:00:00+00:00\", \"2021-04-06T09:00:00+00:00\", \"2021-04-06T12:00:00+00:00\"], \"xaxis\": \"x\", \"y\": [5.5088916802687296, 5.4660260033552746, 5.373014976293549, 5.390567083707486, 5.359734265734265, 5.452895833333333, 5.458915397102896, 5.514413516297103, 5.558521160387232, 5.4237236874236885, 5.547745209111876, 5.448966218249669, 5.460491871962463, 5.6049347041847035, 5.467260912698413, 5.549614412825575, 5.556216096334909, 5.447966042809448, 5.4687903605233155, 5.392629068671443, 5.40041516722449, 5.3362207792207785, 5.418476958525345, 5.468671076966853, 5.566842118992119, 5.620664151576123, 5.470544103499987, 5.445330955660503, 5.484448179271708, 5.577466604823747, 5.509690917107585, 5.327538926681784, 5.564166537827252, 5.407596648301195, 5.410012113617376, 5.581897435897437, 5.518333333333334, null, 5.289666666666666, 5.553954248366015, 5.478906819517933, 5.523934159378037, 5.469332288660414, 5.455115764251181, 5.462389702889702, 5.384212962962963, 5.558189733469145, 5.499145541549952, 5.275023390046645, 5.440256607076053, 5.445367379148631, 5.391470487166297, 5.38198433726767, 5.431716575091574, 5.352950212180979, 5.558476647209, 5.515832165154536, 5.472202621149345, 5.452058771523612, 5.524564576677438, 5.450786669843566, 5.5541549481591845, 5.451081953504011, 5.430490984998791, 5.445722437051087, 5.4413356490575575], \"yaxis\": \"y\"}, {\"hovertemplate\": \"variable=\\u05d1\\u05e0\\u05d9 \\u05d2\\u05e0\\u05e5<br>Date=%{x}<br>Mean 3 hourly sentiment (scale 1-9)=%{y}<extra></extra>\", \"legendgroup\": \"\\u05d1\\u05e0\\u05d9 \\u05d2\\u05e0\\u05e5\", \"line\": {\"color\": \"rgb(128, 186, 90)\", \"dash\": \"solid\"}, \"mode\": \"lines\", \"name\": \"\\u05d1\\u05e0\\u05d9 \\u05d2\\u05e0\\u05e5\", \"orientation\": \"v\", \"showlegend\": true, \"type\": \"scatter\", \"x\": [\"2021-03-29T09:00:00+00:00\", \"2021-03-29T12:00:00+00:00\", \"2021-03-29T15:00:00+00:00\", \"2021-03-29T18:00:00+00:00\", \"2021-03-29T21:00:00+00:00\", \"2021-03-30T00:00:00+00:00\", \"2021-03-30T03:00:00+00:00\", \"2021-03-30T06:00:00+00:00\", \"2021-03-30T09:00:00+00:00\", \"2021-03-30T12:00:00+00:00\", \"2021-03-30T15:00:00+00:00\", \"2021-03-30T18:00:00+00:00\", \"2021-03-30T21:00:00+00:00\", \"2021-03-31T00:00:00+00:00\", \"2021-03-31T03:00:00+00:00\", \"2021-03-31T06:00:00+00:00\", \"2021-03-31T09:00:00+00:00\", \"2021-03-31T12:00:00+00:00\", \"2021-03-31T15:00:00+00:00\", \"2021-03-31T18:00:00+00:00\", \"2021-03-31T21:00:00+00:00\", \"2021-04-01T00:00:00+00:00\", \"2021-04-01T03:00:00+00:00\", \"2021-04-01T06:00:00+00:00\", \"2021-04-01T09:00:00+00:00\", \"2021-04-01T12:00:00+00:00\", \"2021-04-01T15:00:00+00:00\", \"2021-04-01T18:00:00+00:00\", \"2021-04-01T21:00:00+00:00\", \"2021-04-02T00:00:00+00:00\", \"2021-04-02T03:00:00+00:00\", \"2021-04-02T06:00:00+00:00\", \"2021-04-02T09:00:00+00:00\", \"2021-04-02T12:00:00+00:00\", \"2021-04-02T15:00:00+00:00\", \"2021-04-02T18:00:00+00:00\", \"2021-04-02T21:00:00+00:00\", \"2021-04-03T00:00:00+00:00\", \"2021-04-03T03:00:00+00:00\", \"2021-04-03T06:00:00+00:00\", \"2021-04-03T09:00:00+00:00\", \"2021-04-03T12:00:00+00:00\", \"2021-04-03T15:00:00+00:00\", \"2021-04-03T18:00:00+00:00\", \"2021-04-03T21:00:00+00:00\", \"2021-04-04T00:00:00+00:00\", \"2021-04-04T03:00:00+00:00\", \"2021-04-04T06:00:00+00:00\", \"2021-04-04T09:00:00+00:00\", \"2021-04-04T12:00:00+00:00\", \"2021-04-04T15:00:00+00:00\", \"2021-04-04T18:00:00+00:00\", \"2021-04-04T21:00:00+00:00\", \"2021-04-05T00:00:00+00:00\", \"2021-04-05T03:00:00+00:00\", \"2021-04-05T06:00:00+00:00\", \"2021-04-05T09:00:00+00:00\", \"2021-04-05T12:00:00+00:00\", \"2021-04-05T15:00:00+00:00\", \"2021-04-05T18:00:00+00:00\", \"2021-04-05T21:00:00+00:00\", \"2021-04-06T00:00:00+00:00\", \"2021-04-06T03:00:00+00:00\", \"2021-04-06T06:00:00+00:00\", \"2021-04-06T09:00:00+00:00\", \"2021-04-06T12:00:00+00:00\"], \"xaxis\": \"x\", \"y\": [5.438885390703576, 5.437627078368964, 5.439950543024228, 5.425444904585206, 5.486467532467533, 5.469276455026456, 5.549001903718773, 5.576318031351363, 5.580451740519151, 5.473496314532028, 5.5861258427365, 5.434476608065425, 5.340769450549451, 5.653987012987012, 5.449249231950843, 5.4438991402116415, 5.652679658621443, 5.4602806945879, 5.527182669520257, 5.5627069847887185, 5.495129251700681, 5.342222222222222, 5.673903401360544, 5.222880203653785, 5.659029960317461, 5.584789198606269, 5.505295436555788, 5.435948002189378, 5.517744342778432, 5.476502164502165, 5.4527503968253965, 5.6092037115889575, 5.51339751157933, 5.393709914883833, 5.3420699254449255, 5.397944738389183, 5.306190476190476, 5.233333333333333, 5.458368055555555, 5.078570075757576, 5.338238095238096, 5.563851370851371, 5.581332766439909, 5.372864280055455, 5.461150793650792, 5.562055860805861, 5.462509894867038, 5.3178580647747316, 5.4232021520146505, 5.303710648148148, 5.371403508771931, 5.301213580246913, 5.38558608058608, 5.266222222222223, 5.369260564831993, 5.569587026964801, 5.725134116199455, 5.331848036345901, 5.571332017655548, 5.4208434881867715, 5.514835317460317, 5.3708921568627455, 5.427265873015872, 5.581855967078188, 5.336183760683761, 5.582516534391536], \"yaxis\": \"y\"}, {\"hovertemplate\": \"variable=\\u05d0\\u05d9\\u05d9\\u05de\\u05df \\u05e2\\u05d5\\u05d3\\u05d4<br>Date=%{x}<br>Mean 3 hourly sentiment (scale 1-9)=%{y}<extra></extra>\", \"legendgroup\": \"\\u05d0\\u05d9\\u05d9\\u05de\\u05df \\u05e2\\u05d5\\u05d3\\u05d4\", \"line\": {\"color\": \"rgb(230, 131, 16)\", \"dash\": \"solid\"}, \"mode\": \"lines\", \"name\": \"\\u05d0\\u05d9\\u05d9\\u05de\\u05df \\u05e2\\u05d5\\u05d3\\u05d4\", \"orientation\": \"v\", \"showlegend\": true, \"type\": \"scatter\", \"x\": [\"2021-03-29T09:00:00+00:00\", \"2021-03-29T12:00:00+00:00\", \"2021-03-29T15:00:00+00:00\", \"2021-03-29T18:00:00+00:00\", \"2021-03-29T21:00:00+00:00\", \"2021-03-30T00:00:00+00:00\", \"2021-03-30T03:00:00+00:00\", \"2021-03-30T06:00:00+00:00\", \"2021-03-30T09:00:00+00:00\", \"2021-03-30T12:00:00+00:00\", \"2021-03-30T15:00:00+00:00\", \"2021-03-30T18:00:00+00:00\", \"2021-03-30T21:00:00+00:00\", \"2021-03-31T00:00:00+00:00\", \"2021-03-31T03:00:00+00:00\", \"2021-03-31T06:00:00+00:00\", \"2021-03-31T09:00:00+00:00\", \"2021-03-31T12:00:00+00:00\", \"2021-03-31T15:00:00+00:00\", \"2021-03-31T18:00:00+00:00\", \"2021-03-31T21:00:00+00:00\", \"2021-04-01T00:00:00+00:00\", \"2021-04-01T03:00:00+00:00\", \"2021-04-01T06:00:00+00:00\", \"2021-04-01T09:00:00+00:00\", \"2021-04-01T12:00:00+00:00\", \"2021-04-01T15:00:00+00:00\", \"2021-04-01T18:00:00+00:00\", \"2021-04-01T21:00:00+00:00\", \"2021-04-02T00:00:00+00:00\", \"2021-04-02T03:00:00+00:00\", \"2021-04-02T06:00:00+00:00\", \"2021-04-02T09:00:00+00:00\", \"2021-04-02T12:00:00+00:00\", \"2021-04-02T15:00:00+00:00\", \"2021-04-02T18:00:00+00:00\", \"2021-04-02T21:00:00+00:00\", \"2021-04-03T00:00:00+00:00\", \"2021-04-03T03:00:00+00:00\", \"2021-04-03T06:00:00+00:00\", \"2021-04-03T09:00:00+00:00\", \"2021-04-03T12:00:00+00:00\", \"2021-04-03T15:00:00+00:00\", \"2021-04-03T18:00:00+00:00\", \"2021-04-03T21:00:00+00:00\", \"2021-04-04T00:00:00+00:00\", \"2021-04-04T03:00:00+00:00\", \"2021-04-04T06:00:00+00:00\", \"2021-04-04T09:00:00+00:00\", \"2021-04-04T12:00:00+00:00\", \"2021-04-04T15:00:00+00:00\", \"2021-04-04T18:00:00+00:00\", \"2021-04-04T21:00:00+00:00\", \"2021-04-05T00:00:00+00:00\", \"2021-04-05T03:00:00+00:00\", \"2021-04-05T06:00:00+00:00\", \"2021-04-05T09:00:00+00:00\", \"2021-04-05T12:00:00+00:00\", \"2021-04-05T15:00:00+00:00\", \"2021-04-05T18:00:00+00:00\", \"2021-04-05T21:00:00+00:00\", \"2021-04-06T00:00:00+00:00\", \"2021-04-06T03:00:00+00:00\", \"2021-04-06T06:00:00+00:00\", \"2021-04-06T09:00:00+00:00\", \"2021-04-06T12:00:00+00:00\"], \"xaxis\": \"x\", \"y\": [5.732363636363637, 5.791153846153846, 5.687, 5.67247619047619, 5.477944444444444, null, 5.653693181818182, 5.722219576719577, 5.352727272727273, 5.2239781746031735, 4.90140404040404, 5.516249999999999, 5.7293, 3.7249999999999996, 5.586675457875458, 5.674312500000001, 5.826041666666667, 5.320022023809524, 5.410666666666667, 5.296309523809524, 5.405625, null, 5.530555555555555, 5.504166666666667, 5.78295760233918, 5.859656084656084, 5.508247458262308, null, null, null, null, null, null, null, null, null, null, null, null, null, null, null, null, null, null, null, null, null, null, null, 5.4395784313725475, 5.533684807256239, 5.5597137085137085, 5.369880952380952, 5.427540706605222, 5.479224651765468, 5.244853585112206, 5.537790270762105, 5.477961720131724, 5.428815591815594, 5.457930036630035, 5.523550915750915, 5.452505551987694, 5.426422448979593, 5.57700274571108, 5.637831642482325], \"yaxis\": \"y\"}, {\"hovertemplate\": \"variable=\\u05de\\u05e8\\u05d1 \\u05de\\u05d9\\u05db\\u05d0\\u05dc\\u05d9<br>Date=%{x}<br>Mean 3 hourly sentiment (scale 1-9)=%{y}<extra></extra>\", \"legendgroup\": \"\\u05de\\u05e8\\u05d1 \\u05de\\u05d9\\u05db\\u05d0\\u05dc\\u05d9\", \"line\": {\"color\": \"rgb(0, 134, 149)\", \"dash\": \"solid\"}, \"mode\": \"lines\", \"name\": \"\\u05de\\u05e8\\u05d1 \\u05de\\u05d9\\u05db\\u05d0\\u05dc\\u05d9\", \"orientation\": \"v\", \"showlegend\": true, \"type\": \"scatter\", \"x\": [\"2021-03-29T09:00:00+00:00\", \"2021-03-29T12:00:00+00:00\", \"2021-03-29T15:00:00+00:00\", \"2021-03-29T18:00:00+00:00\", \"2021-03-29T21:00:00+00:00\", \"2021-03-30T00:00:00+00:00\", \"2021-03-30T03:00:00+00:00\", \"2021-03-30T06:00:00+00:00\", \"2021-03-30T09:00:00+00:00\", \"2021-03-30T12:00:00+00:00\", \"2021-03-30T15:00:00+00:00\", \"2021-03-30T18:00:00+00:00\", \"2021-03-30T21:00:00+00:00\", \"2021-03-31T00:00:00+00:00\", \"2021-03-31T03:00:00+00:00\", \"2021-03-31T06:00:00+00:00\", \"2021-03-31T09:00:00+00:00\", \"2021-03-31T12:00:00+00:00\", \"2021-03-31T15:00:00+00:00\", \"2021-03-31T18:00:00+00:00\", \"2021-03-31T21:00:00+00:00\", \"2021-04-01T00:00:00+00:00\", \"2021-04-01T03:00:00+00:00\", \"2021-04-01T06:00:00+00:00\", \"2021-04-01T09:00:00+00:00\", \"2021-04-01T12:00:00+00:00\", \"2021-04-01T15:00:00+00:00\", \"2021-04-01T18:00:00+00:00\", \"2021-04-01T21:00:00+00:00\", \"2021-04-02T00:00:00+00:00\", \"2021-04-02T03:00:00+00:00\", \"2021-04-02T06:00:00+00:00\", \"2021-04-02T09:00:00+00:00\", \"2021-04-02T12:00:00+00:00\", \"2021-04-02T15:00:00+00:00\", \"2021-04-02T18:00:00+00:00\", \"2021-04-02T21:00:00+00:00\", \"2021-04-03T00:00:00+00:00\", \"2021-04-03T03:00:00+00:00\", \"2021-04-03T06:00:00+00:00\", \"2021-04-03T09:00:00+00:00\", \"2021-04-03T12:00:00+00:00\", \"2021-04-03T15:00:00+00:00\", \"2021-04-03T18:00:00+00:00\", \"2021-04-03T21:00:00+00:00\", \"2021-04-04T00:00:00+00:00\", \"2021-04-04T03:00:00+00:00\", \"2021-04-04T06:00:00+00:00\", \"2021-04-04T09:00:00+00:00\", \"2021-04-04T12:00:00+00:00\", \"2021-04-04T15:00:00+00:00\", \"2021-04-04T18:00:00+00:00\", \"2021-04-04T21:00:00+00:00\", \"2021-04-05T00:00:00+00:00\", \"2021-04-05T03:00:00+00:00\", \"2021-04-05T06:00:00+00:00\", \"2021-04-05T09:00:00+00:00\", \"2021-04-05T12:00:00+00:00\", \"2021-04-05T15:00:00+00:00\", \"2021-04-05T18:00:00+00:00\", \"2021-04-05T21:00:00+00:00\", \"2021-04-06T00:00:00+00:00\", \"2021-04-06T03:00:00+00:00\", \"2021-04-06T06:00:00+00:00\", \"2021-04-06T09:00:00+00:00\", \"2021-04-06T12:00:00+00:00\"], \"xaxis\": \"x\", \"y\": [5.6237314814814825, 5.506343749999999, 5.295032349896481, 5.527882605820106, 5.591747474747475, 5.75, 5.563292517006802, 5.491164021164021, 5.4693555555555555, 5.57537037037037, 5.508112616066103, 5.553448809523809, 5.645136363636364, 5.651111111111111, 5.595876504447932, 5.6581670995671, 5.764709690893901, 5.679500000000002, 5.6306993006993, 5.609103519668738, 5.630999999999999, 5.579999999999999, 5.667587301587302, 5.802388888888889, 5.45404761904762, 5.696734126984128, 5.652166666666665, 5.50439393939394, 5.600291005291006, 5.625, 5.844722222222221, 5.746749259512417, 5.4881746031746035, 5.675923687423687, 4.94, 5.182, 5.711666666666666, null, 5.661428571428571, 5.406257142857142, 5.615945578231292, 5.457619047619048, 5.3125, 5.420278138528139, 5.717222222222222, null, null, 5.398651515151515, 5.48528873771731, null, null, null, null, null, null, null, null, null, null, null, null, null, null, null, 5.2784398162812805, 5.3139064560722735], \"yaxis\": \"y\"}, {\"hovertemplate\": \"variable=\\u05e0\\u05d9\\u05e6\\u05df \\u05d4\\u05d5\\u05e8\\u05d5\\u05d1\\u05d9\\u05e5<br>Date=%{x}<br>Mean 3 hourly sentiment (scale 1-9)=%{y}<extra></extra>\", \"legendgroup\": \"\\u05e0\\u05d9\\u05e6\\u05df \\u05d4\\u05d5\\u05e8\\u05d5\\u05d1\\u05d9\\u05e5\", \"line\": {\"color\": \"rgb(207, 28, 144)\", \"dash\": \"solid\"}, \"mode\": \"lines\", \"name\": \"\\u05e0\\u05d9\\u05e6\\u05df \\u05d4\\u05d5\\u05e8\\u05d5\\u05d1\\u05d9\\u05e5\", \"orientation\": \"v\", \"showlegend\": true, \"type\": \"scatter\", \"x\": [\"2021-03-29T09:00:00+00:00\", \"2021-03-29T12:00:00+00:00\", \"2021-03-29T15:00:00+00:00\", \"2021-03-29T18:00:00+00:00\", \"2021-03-29T21:00:00+00:00\", \"2021-03-30T00:00:00+00:00\", \"2021-03-30T03:00:00+00:00\", \"2021-03-30T06:00:00+00:00\", \"2021-03-30T09:00:00+00:00\", \"2021-03-30T12:00:00+00:00\", \"2021-03-30T15:00:00+00:00\", \"2021-03-30T18:00:00+00:00\", \"2021-03-30T21:00:00+00:00\", \"2021-03-31T00:00:00+00:00\", \"2021-03-31T03:00:00+00:00\", \"2021-03-31T06:00:00+00:00\", \"2021-03-31T09:00:00+00:00\", \"2021-03-31T12:00:00+00:00\", \"2021-03-31T15:00:00+00:00\", \"2021-03-31T18:00:00+00:00\", \"2021-03-31T21:00:00+00:00\", \"2021-04-01T00:00:00+00:00\", \"2021-04-01T03:00:00+00:00\", \"2021-04-01T06:00:00+00:00\", \"2021-04-01T09:00:00+00:00\", \"2021-04-01T12:00:00+00:00\", \"2021-04-01T15:00:00+00:00\", \"2021-04-01T18:00:00+00:00\", \"2021-04-01T21:00:00+00:00\", \"2021-04-02T00:00:00+00:00\", \"2021-04-02T03:00:00+00:00\", \"2021-04-02T06:00:00+00:00\", \"2021-04-02T09:00:00+00:00\", \"2021-04-02T12:00:00+00:00\", \"2021-04-02T15:00:00+00:00\", \"2021-04-02T18:00:00+00:00\", \"2021-04-02T21:00:00+00:00\", \"2021-04-03T00:00:00+00:00\", \"2021-04-03T03:00:00+00:00\", \"2021-04-03T06:00:00+00:00\", \"2021-04-03T09:00:00+00:00\", \"2021-04-03T12:00:00+00:00\", \"2021-04-03T15:00:00+00:00\", \"2021-04-03T18:00:00+00:00\", \"2021-04-03T21:00:00+00:00\", \"2021-04-04T00:00:00+00:00\", \"2021-04-04T03:00:00+00:00\", \"2021-04-04T06:00:00+00:00\", \"2021-04-04T09:00:00+00:00\", \"2021-04-04T12:00:00+00:00\", \"2021-04-04T15:00:00+00:00\", \"2021-04-04T18:00:00+00:00\", \"2021-04-04T21:00:00+00:00\", \"2021-04-05T00:00:00+00:00\", \"2021-04-05T03:00:00+00:00\", \"2021-04-05T06:00:00+00:00\", \"2021-04-05T09:00:00+00:00\", \"2021-04-05T12:00:00+00:00\", \"2021-04-05T15:00:00+00:00\", \"2021-04-05T18:00:00+00:00\", \"2021-04-05T21:00:00+00:00\", \"2021-04-06T00:00:00+00:00\", \"2021-04-06T03:00:00+00:00\", \"2021-04-06T06:00:00+00:00\", \"2021-04-06T09:00:00+00:00\", \"2021-04-06T12:00:00+00:00\"], \"xaxis\": \"x\", \"y\": [5.656591503267974, 5.643956287008011, 5.691338000541125, 5.649542960662526, 5.67504761904762, 5.352833333333333, 5.604437770562772, 5.534212905452036, 5.687573979591838, 5.8429206349206355, 5.501289377289378, 5.513333333333333, 5.889583333333333, 5.965, 5.450277777777778, 5.4973790954415955, 5.660533968253969, 5.6409345238095225, 5.694708931419457, 5.6110191713048865, 6.003809523809523, null, 5.553441758241758, 5.557790043290041, 5.58083633033633, 5.887666666666667, 5.799190476190476, 5.6104331232493, 5.876785714285715, null, 6.18, 5.711987133237133, 5.737291443850267, 5.9030000000000005, 5.074583333333333, 5.387545518207283, 5.265757575757576, 5.8625, null, null, 5.142222222222221, 5.432181818181818, 5.892650793650794, 5.602448412698412, 5.287142857142857, 5.460000000000001, null, 5.434333333333333, 5.684448412698412, 5.511000000000001, 5.626393650793651, 5.369837662337662, 5.536666666666667, 5.6850000000000005, 5.677088744588744, 5.6764035994869335, 5.608863945578233, 5.668479717813052, 5.866010582010583, 5.848518518518518, null, null, 5.295, 5.713207671957672, 5.352222222222222, 5.728581632653061], \"yaxis\": \"y\"}, {\"hovertemplate\": \"variable=\\u05d0\\u05e8\\u05d9\\u05d4 \\u05d3\\u05e8\\u05e2\\u05d9<br>Date=%{x}<br>Mean 3 hourly sentiment (scale 1-9)=%{y}<extra></extra>\", \"legendgroup\": \"\\u05d0\\u05e8\\u05d9\\u05d4 \\u05d3\\u05e8\\u05e2\\u05d9\", \"line\": {\"color\": \"rgb(249, 123, 114)\", \"dash\": \"solid\"}, \"mode\": \"lines\", \"name\": \"\\u05d0\\u05e8\\u05d9\\u05d4 \\u05d3\\u05e8\\u05e2\\u05d9\", \"orientation\": \"v\", \"showlegend\": true, \"type\": \"scatter\", \"x\": [\"2021-03-29T09:00:00+00:00\", \"2021-03-29T12:00:00+00:00\", \"2021-03-29T15:00:00+00:00\", \"2021-03-29T18:00:00+00:00\", \"2021-03-29T21:00:00+00:00\", \"2021-03-30T00:00:00+00:00\", \"2021-03-30T03:00:00+00:00\", \"2021-03-30T06:00:00+00:00\", \"2021-03-30T09:00:00+00:00\", \"2021-03-30T12:00:00+00:00\", \"2021-03-30T15:00:00+00:00\", \"2021-03-30T18:00:00+00:00\", \"2021-03-30T21:00:00+00:00\", \"2021-03-31T00:00:00+00:00\", \"2021-03-31T03:00:00+00:00\", \"2021-03-31T06:00:00+00:00\", \"2021-03-31T09:00:00+00:00\", \"2021-03-31T12:00:00+00:00\", \"2021-03-31T15:00:00+00:00\", \"2021-03-31T18:00:00+00:00\", \"2021-03-31T21:00:00+00:00\", \"2021-04-01T00:00:00+00:00\", \"2021-04-01T03:00:00+00:00\", \"2021-04-01T06:00:00+00:00\", \"2021-04-01T09:00:00+00:00\", \"2021-04-01T12:00:00+00:00\", \"2021-04-01T15:00:00+00:00\", \"2021-04-01T18:00:00+00:00\", \"2021-04-01T21:00:00+00:00\", \"2021-04-02T00:00:00+00:00\", \"2021-04-02T03:00:00+00:00\", \"2021-04-02T06:00:00+00:00\", \"2021-04-02T09:00:00+00:00\", \"2021-04-02T12:00:00+00:00\", \"2021-04-02T15:00:00+00:00\", \"2021-04-02T18:00:00+00:00\", \"2021-04-02T21:00:00+00:00\", \"2021-04-03T00:00:00+00:00\", \"2021-04-03T03:00:00+00:00\", \"2021-04-03T06:00:00+00:00\", \"2021-04-03T09:00:00+00:00\", \"2021-04-03T12:00:00+00:00\", \"2021-04-03T15:00:00+00:00\", \"2021-04-03T18:00:00+00:00\", \"2021-04-03T21:00:00+00:00\", \"2021-04-04T00:00:00+00:00\", \"2021-04-04T03:00:00+00:00\", \"2021-04-04T06:00:00+00:00\", \"2021-04-04T09:00:00+00:00\", \"2021-04-04T12:00:00+00:00\", \"2021-04-04T15:00:00+00:00\", \"2021-04-04T18:00:00+00:00\", \"2021-04-04T21:00:00+00:00\", \"2021-04-05T00:00:00+00:00\", \"2021-04-05T03:00:00+00:00\", \"2021-04-05T06:00:00+00:00\", \"2021-04-05T09:00:00+00:00\", \"2021-04-05T12:00:00+00:00\", \"2021-04-05T15:00:00+00:00\", \"2021-04-05T18:00:00+00:00\", \"2021-04-05T21:00:00+00:00\", \"2021-04-06T00:00:00+00:00\", \"2021-04-06T03:00:00+00:00\", \"2021-04-06T06:00:00+00:00\", \"2021-04-06T09:00:00+00:00\", \"2021-04-06T12:00:00+00:00\"], \"xaxis\": \"x\", \"y\": [5.644232700632701, 5.428081349206349, 5.523162171162173, 5.138058608058609, 3.7399999999999998, null, null, null, 5.405714285714285, 5.479666666666667, 5.494035323472823, 5.437678571428572, 5.317166666666667, 5.8, 5.426671474358974, 5.1975, 5.566047619047619, 5.496509523809523, 5.677511599511599, 5.5722962962962965, 4.9135, 4.991, 5.210374149659864, 5.675416666666666, 5.646999999999999, 5.740333333333333, 5.142589285714285, 5.17861224489796, 5.453333333333333, 5.5600000000000005, 5.557500000000001, 5.5673593073593075, 5.361383928571429, 5.798163265306123, 4.4030000000000005, 5.645, 5.29, 5.05, 5.05, 5.4833333333333325, 6.326666666666667, 5.86, 5.425, 4.4140476190476186, null, null, null, null, 5.5555555555555545, 5.532778711484593, 5.550539682539683, 6.019777777777778, 5.960714285714285, null, 5.6499999999999995, 5.1000000000000005, 5.629595238095239, 5.024140952380952, 5.814814814814816, 5.653702702702704, 5.911944444444445, 5.763, 5.481151515151516, 5.498343253968254, 5.632480952380956, 5.645470403439153], \"yaxis\": \"y\"}, {\"hovertemplate\": \"variable=\\u05d0\\u05d1\\u05d9\\u05d2\\u05d3\\u05d5\\u05e8 \\u05dc\\u05d9\\u05d1\\u05e8\\u05de\\u05df<br>Date=%{x}<br>Mean 3 hourly sentiment (scale 1-9)=%{y}<extra></extra>\", \"legendgroup\": \"\\u05d0\\u05d1\\u05d9\\u05d2\\u05d3\\u05d5\\u05e8 \\u05dc\\u05d9\\u05d1\\u05e8\\u05de\\u05df\", \"line\": {\"color\": \"rgb(165, 170, 153)\", \"dash\": \"solid\"}, \"mode\": \"lines\", \"name\": \"\\u05d0\\u05d1\\u05d9\\u05d2\\u05d3\\u05d5\\u05e8 \\u05dc\\u05d9\\u05d1\\u05e8\\u05de\\u05df\", \"orientation\": \"v\", \"showlegend\": true, \"type\": \"scatter\", \"x\": [\"2021-03-29T09:00:00+00:00\", \"2021-03-29T12:00:00+00:00\", \"2021-03-29T15:00:00+00:00\", \"2021-03-29T18:00:00+00:00\", \"2021-03-29T21:00:00+00:00\", \"2021-03-30T00:00:00+00:00\", \"2021-03-30T03:00:00+00:00\", \"2021-03-30T06:00:00+00:00\", \"2021-03-30T09:00:00+00:00\", \"2021-03-30T12:00:00+00:00\", \"2021-03-30T15:00:00+00:00\", \"2021-03-30T18:00:00+00:00\", \"2021-03-30T21:00:00+00:00\", \"2021-03-31T00:00:00+00:00\", \"2021-03-31T03:00:00+00:00\", \"2021-03-31T06:00:00+00:00\", \"2021-03-31T09:00:00+00:00\", \"2021-03-31T12:00:00+00:00\", \"2021-03-31T15:00:00+00:00\", \"2021-03-31T18:00:00+00:00\", \"2021-03-31T21:00:00+00:00\", \"2021-04-01T00:00:00+00:00\", \"2021-04-01T03:00:00+00:00\", \"2021-04-01T06:00:00+00:00\", \"2021-04-01T09:00:00+00:00\", \"2021-04-01T12:00:00+00:00\", \"2021-04-01T15:00:00+00:00\", \"2021-04-01T18:00:00+00:00\", \"2021-04-01T21:00:00+00:00\", \"2021-04-02T00:00:00+00:00\", \"2021-04-02T03:00:00+00:00\", \"2021-04-02T06:00:00+00:00\", \"2021-04-02T09:00:00+00:00\", \"2021-04-02T12:00:00+00:00\", \"2021-04-02T15:00:00+00:00\", \"2021-04-02T18:00:00+00:00\", \"2021-04-02T21:00:00+00:00\", \"2021-04-03T00:00:00+00:00\", \"2021-04-03T03:00:00+00:00\", \"2021-04-03T06:00:00+00:00\", \"2021-04-03T09:00:00+00:00\", \"2021-04-03T12:00:00+00:00\", \"2021-04-03T15:00:00+00:00\", \"2021-04-03T18:00:00+00:00\", \"2021-04-03T21:00:00+00:00\", \"2021-04-04T00:00:00+00:00\", \"2021-04-04T03:00:00+00:00\", \"2021-04-04T06:00:00+00:00\", \"2021-04-04T09:00:00+00:00\", \"2021-04-04T12:00:00+00:00\", \"2021-04-04T15:00:00+00:00\", \"2021-04-04T18:00:00+00:00\", \"2021-04-04T21:00:00+00:00\", \"2021-04-05T00:00:00+00:00\", \"2021-04-05T03:00:00+00:00\", \"2021-04-05T06:00:00+00:00\", \"2021-04-05T09:00:00+00:00\", \"2021-04-05T12:00:00+00:00\", \"2021-04-05T15:00:00+00:00\", \"2021-04-05T18:00:00+00:00\", \"2021-04-05T21:00:00+00:00\", \"2021-04-06T00:00:00+00:00\", \"2021-04-06T03:00:00+00:00\", \"2021-04-06T06:00:00+00:00\", \"2021-04-06T09:00:00+00:00\", \"2021-04-06T12:00:00+00:00\"], \"xaxis\": \"x\", \"y\": [null, null, null, null, null, null, null, null, null, null, null, null, null, null, null, null, null, null, null, null, null, null, null, null, null, null, 5.551403628117914, 5.449926993145738, 5.449232348111659, 5.386751322751323, 5.488280624780626, 5.429470291146763, 5.412301587301586, 5.612138888888887, 5.256177777777781, 5.347307936507936, 5.1831587301587305, null, null, 5.399166666666666, 5.411710317460317, 5.307368253968254, 5.3777380952380955, 5.173666666666667, 5.7972222222222225, 5.801428571428572, 5.593333333333334, 5.424444444444444, 5.336, 5.656066666666666, 5.285333333333333, 5.413111111111111, 5.524821428571428, null, null, 5.758507936507937, 5.346690476190476, 5.299230654761905, 5.621572916666666, null, null, null, null, null, null, null], \"yaxis\": \"y\"}, {\"hovertemplate\": \"variable=\\u05d1\\u05e6\\u05dc\\u05d0\\u05dc \\u05e1\\u05de\\u05d5\\u05d8\\u05e8\\u05d9\\u05e5<br>Date=%{x}<br>Mean 3 hourly sentiment (scale 1-9)=%{y}<extra></extra>\", \"legendgroup\": \"\\u05d1\\u05e6\\u05dc\\u05d0\\u05dc \\u05e1\\u05de\\u05d5\\u05d8\\u05e8\\u05d9\\u05e5\", \"line\": {\"color\": \"rgb(127, 60, 141)\", \"dash\": \"solid\"}, \"mode\": \"lines\", \"name\": \"\\u05d1\\u05e6\\u05dc\\u05d0\\u05dc \\u05e1\\u05de\\u05d5\\u05d8\\u05e8\\u05d9\\u05e5\", \"orientation\": \"v\", \"showlegend\": true, \"type\": \"scatter\", \"x\": [\"2021-03-29T09:00:00+00:00\", \"2021-03-29T12:00:00+00:00\", \"2021-03-29T15:00:00+00:00\", \"2021-03-29T18:00:00+00:00\", \"2021-03-29T21:00:00+00:00\", \"2021-03-30T00:00:00+00:00\", \"2021-03-30T03:00:00+00:00\", \"2021-03-30T06:00:00+00:00\", \"2021-03-30T09:00:00+00:00\", \"2021-03-30T12:00:00+00:00\", \"2021-03-30T15:00:00+00:00\", \"2021-03-30T18:00:00+00:00\", \"2021-03-30T21:00:00+00:00\", \"2021-03-31T00:00:00+00:00\", \"2021-03-31T03:00:00+00:00\", \"2021-03-31T06:00:00+00:00\", \"2021-03-31T09:00:00+00:00\", \"2021-03-31T12:00:00+00:00\", \"2021-03-31T15:00:00+00:00\", \"2021-03-31T18:00:00+00:00\", \"2021-03-31T21:00:00+00:00\", \"2021-04-01T00:00:00+00:00\", \"2021-04-01T03:00:00+00:00\", \"2021-04-01T06:00:00+00:00\", \"2021-04-01T09:00:00+00:00\", \"2021-04-01T12:00:00+00:00\", \"2021-04-01T15:00:00+00:00\", \"2021-04-01T18:00:00+00:00\", \"2021-04-01T21:00:00+00:00\", \"2021-04-02T00:00:00+00:00\", \"2021-04-02T03:00:00+00:00\", \"2021-04-02T06:00:00+00:00\", \"2021-04-02T09:00:00+00:00\", \"2021-04-02T12:00:00+00:00\", \"2021-04-02T15:00:00+00:00\", \"2021-04-02T18:00:00+00:00\", \"2021-04-02T21:00:00+00:00\", \"2021-04-03T00:00:00+00:00\", \"2021-04-03T03:00:00+00:00\", \"2021-04-03T06:00:00+00:00\", \"2021-04-03T09:00:00+00:00\", \"2021-04-03T12:00:00+00:00\", \"2021-04-03T15:00:00+00:00\", \"2021-04-03T18:00:00+00:00\", \"2021-04-03T21:00:00+00:00\", \"2021-04-04T00:00:00+00:00\", \"2021-04-04T03:00:00+00:00\", \"2021-04-04T06:00:00+00:00\", \"2021-04-04T09:00:00+00:00\", \"2021-04-04T12:00:00+00:00\", \"2021-04-04T15:00:00+00:00\", \"2021-04-04T18:00:00+00:00\", \"2021-04-04T21:00:00+00:00\", \"2021-04-05T00:00:00+00:00\", \"2021-04-05T03:00:00+00:00\", \"2021-04-05T06:00:00+00:00\", \"2021-04-05T09:00:00+00:00\", \"2021-04-05T12:00:00+00:00\", \"2021-04-05T15:00:00+00:00\", \"2021-04-05T18:00:00+00:00\", \"2021-04-05T21:00:00+00:00\", \"2021-04-06T00:00:00+00:00\", \"2021-04-06T03:00:00+00:00\", \"2021-04-06T06:00:00+00:00\", \"2021-04-06T09:00:00+00:00\", \"2021-04-06T12:00:00+00:00\"], \"xaxis\": \"x\", \"y\": [5.518182900432899, null, 5.358749999999999, 5.953333333333333, null, null, null, 5.475266666666666, 5.488333333333333, 5.213333333333334, 5.213333333333334, 5.69736507936508, null, null, 5.713333333333334, 5.651060606060606, 5.500666666666667, 5.258960317460317, 5.564730286053817, 5.389102564102568, 5.525, 6.16, 5.6033333333333335, 5.972261904761905, 5.294910714285715, null, 5.702874655647384, 5.891192890442893, 5.875812672176309, 5.65, 6.01375, 5.448619047619047, 5.330937198067633, 5.9350000000000005, 5.061, 5.898666666666667, null, null, null, null, 5.274571428571428, 5.239999999999999, 5.524883333333333, 5.897084249084249, 5.479999999999999, null, 5.320416666666666, 5.3332380952380944, 5.5268749999999995, 5.287, 5.46132511148272, 5.482772435897436, 5.178269230769231, null, null, null, null, null, null, null, null, null, null, null, 5.14684018051665, 5.159530878843379], \"yaxis\": \"y\"}, {\"hovertemplate\": \"variable=\\u05de\\u05e9\\u05d4 \\u05d2\\u05e4\\u05e0\\u05d9<br>Date=%{x}<br>Mean 3 hourly sentiment (scale 1-9)=%{y}<extra></extra>\", \"legendgroup\": \"\\u05de\\u05e9\\u05d4 \\u05d2\\u05e4\\u05e0\\u05d9\", \"line\": {\"color\": \"rgb(17, 165, 121)\", \"dash\": \"solid\"}, \"mode\": \"lines\", \"name\": \"\\u05de\\u05e9\\u05d4 \\u05d2\\u05e4\\u05e0\\u05d9\", \"orientation\": \"v\", \"showlegend\": true, \"type\": \"scatter\", \"x\": [\"2021-03-29T09:00:00+00:00\", \"2021-03-29T12:00:00+00:00\", \"2021-03-29T15:00:00+00:00\", \"2021-03-29T18:00:00+00:00\", \"2021-03-29T21:00:00+00:00\", \"2021-03-30T00:00:00+00:00\", \"2021-03-30T03:00:00+00:00\", \"2021-03-30T06:00:00+00:00\", \"2021-03-30T09:00:00+00:00\", \"2021-03-30T12:00:00+00:00\", \"2021-03-30T15:00:00+00:00\", \"2021-03-30T18:00:00+00:00\", \"2021-03-30T21:00:00+00:00\", \"2021-03-31T00:00:00+00:00\", \"2021-03-31T03:00:00+00:00\", \"2021-03-31T06:00:00+00:00\", \"2021-03-31T09:00:00+00:00\", \"2021-03-31T12:00:00+00:00\", \"2021-03-31T15:00:00+00:00\", \"2021-03-31T18:00:00+00:00\", \"2021-03-31T21:00:00+00:00\", \"2021-04-01T00:00:00+00:00\", \"2021-04-01T03:00:00+00:00\", \"2021-04-01T06:00:00+00:00\", \"2021-04-01T09:00:00+00:00\", \"2021-04-01T12:00:00+00:00\", \"2021-04-01T15:00:00+00:00\", \"2021-04-01T18:00:00+00:00\", \"2021-04-01T21:00:00+00:00\", \"2021-04-02T00:00:00+00:00\", \"2021-04-02T03:00:00+00:00\", \"2021-04-02T06:00:00+00:00\", \"2021-04-02T09:00:00+00:00\", \"2021-04-02T12:00:00+00:00\", \"2021-04-02T15:00:00+00:00\", \"2021-04-02T18:00:00+00:00\", \"2021-04-02T21:00:00+00:00\", \"2021-04-03T00:00:00+00:00\", \"2021-04-03T03:00:00+00:00\", \"2021-04-03T06:00:00+00:00\", \"2021-04-03T09:00:00+00:00\", \"2021-04-03T12:00:00+00:00\", \"2021-04-03T15:00:00+00:00\", \"2021-04-03T18:00:00+00:00\", \"2021-04-03T21:00:00+00:00\", \"2021-04-04T00:00:00+00:00\", \"2021-04-04T03:00:00+00:00\", \"2021-04-04T06:00:00+00:00\", \"2021-04-04T09:00:00+00:00\", \"2021-04-04T12:00:00+00:00\", \"2021-04-04T15:00:00+00:00\", \"2021-04-04T18:00:00+00:00\", \"2021-04-04T21:00:00+00:00\", \"2021-04-05T00:00:00+00:00\", \"2021-04-05T03:00:00+00:00\", \"2021-04-05T06:00:00+00:00\", \"2021-04-05T09:00:00+00:00\", \"2021-04-05T12:00:00+00:00\", \"2021-04-05T15:00:00+00:00\", \"2021-04-05T18:00:00+00:00\", \"2021-04-05T21:00:00+00:00\", \"2021-04-06T00:00:00+00:00\", \"2021-04-06T03:00:00+00:00\", \"2021-04-06T06:00:00+00:00\", \"2021-04-06T09:00:00+00:00\", \"2021-04-06T12:00:00+00:00\"], \"xaxis\": \"x\", \"y\": [5.497286994367642, 5.567523076923077, 5.513416666666667, 5.540740740740741, 4.475411764705882, 4.01, 4.478771929824562, 4.974013888888889, 5.144858585858586, 5.629666666666667, null, null, null, null, null, null, null, null, null, null, null, null, null, null, null, null, null, null, null, null, null, null, null, null, null, null, null, null, null, null, null, null, null, null, null, null, null, null, null, null, null, null, null, null, null, null, null, null, 5.573636363636364, 5.539253968253968, 5.48588888888889, 5.686666666666667, 5.431, 5.532833333333334, 5.3, 5.502875757575757], \"yaxis\": \"y\"}, {\"hovertemplate\": \"variable=\\u05d9\\u05e8\\u05d5\\u05df \\u05d6\\u05dc\\u05d9\\u05db\\u05d4<br>Date=%{x}<br>Mean 3 hourly sentiment (scale 1-9)=%{y}<extra></extra>\", \"legendgroup\": \"\\u05d9\\u05e8\\u05d5\\u05df \\u05d6\\u05dc\\u05d9\\u05db\\u05d4\", \"line\": {\"color\": \"rgb(57, 105, 172)\", \"dash\": \"solid\"}, \"mode\": \"lines\", \"name\": \"\\u05d9\\u05e8\\u05d5\\u05df \\u05d6\\u05dc\\u05d9\\u05db\\u05d4\", \"orientation\": \"v\", \"showlegend\": true, \"type\": \"scatter\", \"x\": [\"2021-03-29T09:00:00+00:00\", \"2021-03-29T12:00:00+00:00\", \"2021-03-29T15:00:00+00:00\", \"2021-03-29T18:00:00+00:00\", \"2021-03-29T21:00:00+00:00\", \"2021-03-30T00:00:00+00:00\", \"2021-03-30T03:00:00+00:00\", \"2021-03-30T06:00:00+00:00\", \"2021-03-30T09:00:00+00:00\", \"2021-03-30T12:00:00+00:00\", \"2021-03-30T15:00:00+00:00\", \"2021-03-30T18:00:00+00:00\", \"2021-03-30T21:00:00+00:00\", \"2021-03-31T00:00:00+00:00\", \"2021-03-31T03:00:00+00:00\", \"2021-03-31T06:00:00+00:00\", \"2021-03-31T09:00:00+00:00\", \"2021-03-31T12:00:00+00:00\", \"2021-03-31T15:00:00+00:00\", \"2021-03-31T18:00:00+00:00\", \"2021-03-31T21:00:00+00:00\", \"2021-04-01T00:00:00+00:00\", \"2021-04-01T03:00:00+00:00\", \"2021-04-01T06:00:00+00:00\", \"2021-04-01T09:00:00+00:00\", \"2021-04-01T12:00:00+00:00\", \"2021-04-01T15:00:00+00:00\", \"2021-04-01T18:00:00+00:00\", \"2021-04-01T21:00:00+00:00\", \"2021-04-02T00:00:00+00:00\", \"2021-04-02T03:00:00+00:00\", \"2021-04-02T06:00:00+00:00\", \"2021-04-02T09:00:00+00:00\", \"2021-04-02T12:00:00+00:00\", \"2021-04-02T15:00:00+00:00\", \"2021-04-02T18:00:00+00:00\", \"2021-04-02T21:00:00+00:00\", \"2021-04-03T00:00:00+00:00\", \"2021-04-03T03:00:00+00:00\", \"2021-04-03T06:00:00+00:00\", \"2021-04-03T09:00:00+00:00\", \"2021-04-03T12:00:00+00:00\", \"2021-04-03T15:00:00+00:00\", \"2021-04-03T18:00:00+00:00\", \"2021-04-03T21:00:00+00:00\", \"2021-04-04T00:00:00+00:00\", \"2021-04-04T03:00:00+00:00\", \"2021-04-04T06:00:00+00:00\", \"2021-04-04T09:00:00+00:00\", \"2021-04-04T12:00:00+00:00\", \"2021-04-04T15:00:00+00:00\", \"2021-04-04T18:00:00+00:00\", \"2021-04-04T21:00:00+00:00\", \"2021-04-05T00:00:00+00:00\", \"2021-04-05T03:00:00+00:00\", \"2021-04-05T06:00:00+00:00\", \"2021-04-05T09:00:00+00:00\", \"2021-04-05T12:00:00+00:00\", \"2021-04-05T15:00:00+00:00\", \"2021-04-05T18:00:00+00:00\", \"2021-04-05T21:00:00+00:00\", \"2021-04-06T00:00:00+00:00\", \"2021-04-06T03:00:00+00:00\", \"2021-04-06T06:00:00+00:00\", \"2021-04-06T09:00:00+00:00\", \"2021-04-06T12:00:00+00:00\"], \"xaxis\": \"x\", \"y\": [null, null, null, null, null, null, null, null, null, null, null, null, null, null, null, null, null, null, null, 5.553197835497836, 5.28952380952381, 5.7555555555555555, 5.341095238095239, 5.4482380952380955, 5.556190476190476, 5.4770306122448975, 5.54, null, null, null, null, null, null, null, null, null, null, null, null, null, null, null, null, null, null, null, null, null, null, null, null, null, null, null, null, null, null, null, null, null, null, null, null, null, null, null], \"yaxis\": \"y\"}],                        {\"legend\": {\"title\": {\"text\": \"variable\"}, \"tracegroupgap\": 0}, \"template\": {\"data\": {\"bar\": [{\"error_x\": {\"color\": \"#2a3f5f\"}, \"error_y\": {\"color\": \"#2a3f5f\"}, \"marker\": {\"line\": {\"color\": \"#E5ECF6\", \"width\": 0.5}}, \"type\": \"bar\"}], \"barpolar\": [{\"marker\": {\"line\": {\"color\": \"#E5ECF6\", \"width\": 0.5}}, \"type\": \"barpolar\"}], \"carpet\": [{\"aaxis\": {\"endlinecolor\": \"#2a3f5f\", \"gridcolor\": \"white\", \"linecolor\": \"white\", \"minorgridcolor\": \"white\", \"startlinecolor\": \"#2a3f5f\"}, \"baxis\": {\"endlinecolor\": \"#2a3f5f\", \"gridcolor\": \"white\", \"linecolor\": \"white\", \"minorgridcolor\": \"white\", \"startlinecolor\": \"#2a3f5f\"}, \"type\": \"carpet\"}], \"choropleth\": [{\"colorbar\": {\"outlinewidth\": 0, \"ticks\": \"\"}, \"type\": \"choropleth\"}], \"contour\": [{\"colorbar\": {\"outlinewidth\": 0, \"ticks\": \"\"}, \"colorscale\": [[0.0, \"#0d0887\"], [0.1111111111111111, \"#46039f\"], [0.2222222222222222, \"#7201a8\"], [0.3333333333333333, \"#9c179e\"], [0.4444444444444444, \"#bd3786\"], [0.5555555555555556, \"#d8576b\"], [0.6666666666666666, \"#ed7953\"], [0.7777777777777778, \"#fb9f3a\"], [0.8888888888888888, \"#fdca26\"], [1.0, \"#f0f921\"]], \"type\": \"contour\"}], \"contourcarpet\": [{\"colorbar\": {\"outlinewidth\": 0, \"ticks\": \"\"}, \"type\": \"contourcarpet\"}], \"heatmap\": [{\"colorbar\": {\"outlinewidth\": 0, \"ticks\": \"\"}, \"colorscale\": [[0.0, \"#0d0887\"], [0.1111111111111111, \"#46039f\"], [0.2222222222222222, \"#7201a8\"], [0.3333333333333333, \"#9c179e\"], [0.4444444444444444, \"#bd3786\"], [0.5555555555555556, \"#d8576b\"], [0.6666666666666666, \"#ed7953\"], [0.7777777777777778, \"#fb9f3a\"], [0.8888888888888888, \"#fdca26\"], [1.0, \"#f0f921\"]], \"type\": \"heatmap\"}], \"heatmapgl\": [{\"colorbar\": {\"outlinewidth\": 0, \"ticks\": \"\"}, \"colorscale\": [[0.0, \"#0d0887\"], [0.1111111111111111, \"#46039f\"], [0.2222222222222222, \"#7201a8\"], [0.3333333333333333, \"#9c179e\"], [0.4444444444444444, \"#bd3786\"], [0.5555555555555556, \"#d8576b\"], [0.6666666666666666, \"#ed7953\"], [0.7777777777777778, \"#fb9f3a\"], [0.8888888888888888, \"#fdca26\"], [1.0, \"#f0f921\"]], \"type\": \"heatmapgl\"}], \"histogram\": [{\"marker\": {\"colorbar\": {\"outlinewidth\": 0, \"ticks\": \"\"}}, \"type\": \"histogram\"}], \"histogram2d\": [{\"colorbar\": {\"outlinewidth\": 0, \"ticks\": \"\"}, \"colorscale\": [[0.0, \"#0d0887\"], [0.1111111111111111, \"#46039f\"], [0.2222222222222222, \"#7201a8\"], [0.3333333333333333, \"#9c179e\"], [0.4444444444444444, \"#bd3786\"], [0.5555555555555556, \"#d8576b\"], [0.6666666666666666, \"#ed7953\"], [0.7777777777777778, \"#fb9f3a\"], [0.8888888888888888, \"#fdca26\"], [1.0, \"#f0f921\"]], \"type\": \"histogram2d\"}], \"histogram2dcontour\": [{\"colorbar\": {\"outlinewidth\": 0, \"ticks\": \"\"}, \"colorscale\": [[0.0, \"#0d0887\"], [0.1111111111111111, \"#46039f\"], [0.2222222222222222, \"#7201a8\"], [0.3333333333333333, \"#9c179e\"], [0.4444444444444444, \"#bd3786\"], [0.5555555555555556, \"#d8576b\"], [0.6666666666666666, \"#ed7953\"], [0.7777777777777778, \"#fb9f3a\"], [0.8888888888888888, \"#fdca26\"], [1.0, \"#f0f921\"]], \"type\": \"histogram2dcontour\"}], \"mesh3d\": [{\"colorbar\": {\"outlinewidth\": 0, \"ticks\": \"\"}, \"type\": \"mesh3d\"}], \"parcoords\": [{\"line\": {\"colorbar\": {\"outlinewidth\": 0, \"ticks\": \"\"}}, \"type\": \"parcoords\"}], \"pie\": [{\"automargin\": true, \"type\": \"pie\"}], \"scatter\": [{\"marker\": {\"colorbar\": {\"outlinewidth\": 0, \"ticks\": \"\"}}, \"type\": \"scatter\"}], \"scatter3d\": [{\"line\": {\"colorbar\": {\"outlinewidth\": 0, \"ticks\": \"\"}}, \"marker\": {\"colorbar\": {\"outlinewidth\": 0, \"ticks\": \"\"}}, \"type\": \"scatter3d\"}], \"scattercarpet\": [{\"marker\": {\"colorbar\": {\"outlinewidth\": 0, \"ticks\": \"\"}}, \"type\": \"scattercarpet\"}], \"scattergeo\": [{\"marker\": {\"colorbar\": {\"outlinewidth\": 0, \"ticks\": \"\"}}, \"type\": \"scattergeo\"}], \"scattergl\": [{\"marker\": {\"colorbar\": {\"outlinewidth\": 0, \"ticks\": \"\"}}, \"type\": \"scattergl\"}], \"scattermapbox\": [{\"marker\": {\"colorbar\": {\"outlinewidth\": 0, \"ticks\": \"\"}}, \"type\": \"scattermapbox\"}], \"scatterpolar\": [{\"marker\": {\"colorbar\": {\"outlinewidth\": 0, \"ticks\": \"\"}}, \"type\": \"scatterpolar\"}], \"scatterpolargl\": [{\"marker\": {\"colorbar\": {\"outlinewidth\": 0, \"ticks\": \"\"}}, \"type\": \"scatterpolargl\"}], \"scatterternary\": [{\"marker\": {\"colorbar\": {\"outlinewidth\": 0, \"ticks\": \"\"}}, \"type\": \"scatterternary\"}], \"surface\": [{\"colorbar\": {\"outlinewidth\": 0, \"ticks\": \"\"}, \"colorscale\": [[0.0, \"#0d0887\"], [0.1111111111111111, \"#46039f\"], [0.2222222222222222, \"#7201a8\"], [0.3333333333333333, \"#9c179e\"], [0.4444444444444444, \"#bd3786\"], [0.5555555555555556, \"#d8576b\"], [0.6666666666666666, \"#ed7953\"], [0.7777777777777778, \"#fb9f3a\"], [0.8888888888888888, \"#fdca26\"], [1.0, \"#f0f921\"]], \"type\": \"surface\"}], \"table\": [{\"cells\": {\"fill\": {\"color\": \"#EBF0F8\"}, \"line\": {\"color\": \"white\"}}, \"header\": {\"fill\": {\"color\": \"#C8D4E3\"}, \"line\": {\"color\": \"white\"}}, \"type\": \"table\"}]}, \"layout\": {\"annotationdefaults\": {\"arrowcolor\": \"#2a3f5f\", \"arrowhead\": 0, \"arrowwidth\": 1}, \"autotypenumbers\": \"strict\", \"coloraxis\": {\"colorbar\": {\"outlinewidth\": 0, \"ticks\": \"\"}}, \"colorscale\": {\"diverging\": [[0, \"#8e0152\"], [0.1, \"#c51b7d\"], [0.2, \"#de77ae\"], [0.3, \"#f1b6da\"], [0.4, \"#fde0ef\"], [0.5, \"#f7f7f7\"], [0.6, \"#e6f5d0\"], [0.7, \"#b8e186\"], [0.8, \"#7fbc41\"], [0.9, \"#4d9221\"], [1, \"#276419\"]], \"sequential\": [[0.0, \"#0d0887\"], [0.1111111111111111, \"#46039f\"], [0.2222222222222222, \"#7201a8\"], [0.3333333333333333, \"#9c179e\"], [0.4444444444444444, \"#bd3786\"], [0.5555555555555556, \"#d8576b\"], [0.6666666666666666, \"#ed7953\"], [0.7777777777777778, \"#fb9f3a\"], [0.8888888888888888, \"#fdca26\"], [1.0, \"#f0f921\"]], \"sequentialminus\": [[0.0, \"#0d0887\"], [0.1111111111111111, \"#46039f\"], [0.2222222222222222, \"#7201a8\"], [0.3333333333333333, \"#9c179e\"], [0.4444444444444444, \"#bd3786\"], [0.5555555555555556, \"#d8576b\"], [0.6666666666666666, \"#ed7953\"], [0.7777777777777778, \"#fb9f3a\"], [0.8888888888888888, \"#fdca26\"], [1.0, \"#f0f921\"]]}, \"colorway\": [\"#636efa\", \"#EF553B\", \"#00cc96\", \"#ab63fa\", \"#FFA15A\", \"#19d3f3\", \"#FF6692\", \"#B6E880\", \"#FF97FF\", \"#FECB52\"], \"font\": {\"color\": \"#2a3f5f\"}, \"geo\": {\"bgcolor\": \"white\", \"lakecolor\": \"white\", \"landcolor\": \"#E5ECF6\", \"showlakes\": true, \"showland\": true, \"subunitcolor\": \"white\"}, \"hoverlabel\": {\"align\": \"left\"}, \"hovermode\": \"closest\", \"mapbox\": {\"style\": \"light\"}, \"paper_bgcolor\": \"white\", \"plot_bgcolor\": \"#E5ECF6\", \"polar\": {\"angularaxis\": {\"gridcolor\": \"white\", \"linecolor\": \"white\", \"ticks\": \"\"}, \"bgcolor\": \"#E5ECF6\", \"radialaxis\": {\"gridcolor\": \"white\", \"linecolor\": \"white\", \"ticks\": \"\"}}, \"scene\": {\"xaxis\": {\"backgroundcolor\": \"#E5ECF6\", \"gridcolor\": \"white\", \"gridwidth\": 2, \"linecolor\": \"white\", \"showbackground\": true, \"ticks\": \"\", \"zerolinecolor\": \"white\"}, \"yaxis\": {\"backgroundcolor\": \"#E5ECF6\", \"gridcolor\": \"white\", \"gridwidth\": 2, \"linecolor\": \"white\", \"showbackground\": true, \"ticks\": \"\", \"zerolinecolor\": \"white\"}, \"zaxis\": {\"backgroundcolor\": \"#E5ECF6\", \"gridcolor\": \"white\", \"gridwidth\": 2, \"linecolor\": \"white\", \"showbackground\": true, \"ticks\": \"\", \"zerolinecolor\": \"white\"}}, \"shapedefaults\": {\"line\": {\"color\": \"#2a3f5f\"}}, \"ternary\": {\"aaxis\": {\"gridcolor\": \"white\", \"linecolor\": \"white\", \"ticks\": \"\"}, \"baxis\": {\"gridcolor\": \"white\", \"linecolor\": \"white\", \"ticks\": \"\"}, \"bgcolor\": \"#E5ECF6\", \"caxis\": {\"gridcolor\": \"white\", \"linecolor\": \"white\", \"ticks\": \"\"}}, \"title\": {\"x\": 0.05}, \"xaxis\": {\"automargin\": true, \"gridcolor\": \"white\", \"linecolor\": \"white\", \"ticks\": \"\", \"title\": {\"standoff\": 15}, \"zerolinecolor\": \"white\", \"zerolinewidth\": 2}, \"yaxis\": {\"automargin\": true, \"gridcolor\": \"white\", \"linecolor\": \"white\", \"ticks\": \"\", \"title\": {\"standoff\": 15}, \"zerolinecolor\": \"white\", \"zerolinewidth\": 2}}}, \"title\": {\"text\": \"Mean sentiment of 3 hourly tweets of the candidates from Israel\"}, \"xaxis\": {\"anchor\": \"y\", \"domain\": [0.0, 1.0], \"title\": {\"text\": \"Date\"}}, \"yaxis\": {\"anchor\": \"x\", \"domain\": [0.0, 1.0], \"title\": {\"text\": \"Mean 3 hourly sentiment (scale 1-9)\"}}},                        {\"responsive\": true}                    ).then(function(){\n                            \nvar gd = document.getElementById('8221ef74-dcab-4a87-9458-596e6aa51b7b');\nvar x = new MutationObserver(function (mutations, observer) {{\n        var display = window.getComputedStyle(gd).display;\n        if (!display || display === 'none') {{\n            console.log([gd, 'removed!']);\n            Plotly.purge(gd);\n            observer.disconnect();\n        }}\n}});\n\n// Listen for the removal of the full notebook cells\nvar notebookContainer = gd.closest('#notebook-container');\nif (notebookContainer) {{\n    x.observe(notebookContainer, {childList: true});\n}}\n\n// Listen for the clearing of the current output cell\nvar outputEl = gd.closest('.output');\nif (outputEl) {{\n    x.observe(outputEl, {childList: true});\n}}\n\n                        })                };                });            </script>        </div>"
     },
     "metadata": {},
     "output_type": "display_data"
    }
   ],
   "source": [
    "fig = px.line(split_sentiment, title=\"Mean sentiment of 3 hourly tweets of the candidates from Israel\",\n",
    "        labels={\n",
    "            'created_at': 'Date',\n",
    "            'value': 'Mean 3 hourly sentiment (scale 1-9)'\n",
    "        },\n",
    "        color_discrete_sequence=px.colors.qualitative.Bold)\n",
    "fig.write_html('_'.join('Mean sentiment of 3 hourly tweets of the candidates from Israel.html'.split(' ')))\n",
    "fig.show()"
   ],
   "metadata": {
    "collapsed": false,
    "pycharm": {
     "name": "#%%\n"
    }
   }
  },
  {
   "cell_type": "code",
   "execution_count": 28,
   "outputs": [],
   "source": [
    "# Save tweets with sentiments\n",
    "df.to_csv('candidates_06_04_2021.csv', index=False)"
   ],
   "metadata": {
    "collapsed": false,
    "pycharm": {
     "name": "#%%\n"
    }
   }
  }
 ],
 "metadata": {
  "kernelspec": {
   "display_name": "Python 3",
   "language": "python",
   "name": "python3"
  },
  "language_info": {
   "codemirror_mode": {
    "name": "ipython",
    "version": 2
   },
   "file_extension": ".py",
   "mimetype": "text/x-python",
   "name": "python",
   "nbconvert_exporter": "python",
   "pygments_lexer": "ipython2",
   "version": "2.7.6"
  }
 },
 "nbformat": 4,
 "nbformat_minor": 0
}